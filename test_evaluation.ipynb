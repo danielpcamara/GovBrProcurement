{
 "cells": [
  {
   "cell_type": "markdown",
   "metadata": {},
   "source": [
    "# Sobre\n",
    "Este notepad serve para inserir as avaliações colocadas em planilha dentro do banco de dados."
   ]
  },
  {
   "cell_type": "code",
   "execution_count": 14,
   "metadata": {},
   "outputs": [],
   "source": [
    "import pandas as pd\n",
    "import sqlite3"
   ]
  },
  {
   "cell_type": "code",
   "execution_count": 12,
   "metadata": {},
   "outputs": [],
   "source": [
    "df = pd.read_excel(r'Scraping\\Rotulagem de Dados Extraídos.xlsx', 'Avaliação')"
   ]
  },
  {
   "cell_type": "code",
   "execution_count": 13,
   "metadata": {},
   "outputs": [
    {
     "data": {
      "text/html": [
       "<div>\n",
       "<style scoped>\n",
       "    .dataframe tbody tr th:only-of-type {\n",
       "        vertical-align: middle;\n",
       "    }\n",
       "\n",
       "    .dataframe tbody tr th {\n",
       "        vertical-align: top;\n",
       "    }\n",
       "\n",
       "    .dataframe thead th {\n",
       "        text-align: right;\n",
       "    }\n",
       "</style>\n",
       "<table border=\"1\" class=\"dataframe\">\n",
       "  <thead>\n",
       "    <tr style=\"text-align: right;\">\n",
       "      <th></th>\n",
       "      <th>ibge</th>\n",
       "      <th>procurement_id</th>\n",
       "      <th>Fonte</th>\n",
       "      <th>Produto/Serviço Extraído</th>\n",
       "      <th>Secretaria Extraída</th>\n",
       "      <th>Avaliação Prod/Serv</th>\n",
       "      <th>Avaliação Secretaria</th>\n",
       "      <th>Observação do Avaliador</th>\n",
       "    </tr>\n",
       "  </thead>\n",
       "  <tbody>\n",
       "    <tr>\n",
       "      <th>0</th>\n",
       "      <td>4119905</td>\n",
       "      <td>27/2023/6</td>\n",
       "      <td>Serviços de Internet com link dedicado para o ...</td>\n",
       "      <td>Serviços de Internet com link dedicado</td>\n",
       "      <td>Câmara Municipal de Ponta Grossa</td>\n",
       "      <td>Correto</td>\n",
       "      <td>Erro de Extração</td>\n",
       "      <td>NaN</td>\n",
       "    </tr>\n",
       "    <tr>\n",
       "      <th>1</th>\n",
       "      <td>4119905</td>\n",
       "      <td>26/2023/6</td>\n",
       "      <td>... fornecimento de “PUXADORES PARA JANELAS TI...</td>\n",
       "      <td>Puxadores para janelas tipo “Maxim Ar”</td>\n",
       "      <td>Não informado</td>\n",
       "      <td>Correto</td>\n",
       "      <td>Correto</td>\n",
       "      <td>NaN</td>\n",
       "    </tr>\n",
       "    <tr>\n",
       "      <th>2</th>\n",
       "      <td>4119905</td>\n",
       "      <td>25/2023/6</td>\n",
       "      <td>... contratação de empresa habilitada para for...</td>\n",
       "      <td>Relógio protocolador eletrônico</td>\n",
       "      <td>Não informado</td>\n",
       "      <td>Correto</td>\n",
       "      <td>Correto</td>\n",
       "      <td>NaN</td>\n",
       "    </tr>\n",
       "    <tr>\n",
       "      <th>3</th>\n",
       "      <td>4119905</td>\n",
       "      <td>24/2023/6</td>\n",
       "      <td>Contratação de empresa especializada para Pres...</td>\n",
       "      <td>Serviços de Saúde e Segurança do Trabalho</td>\n",
       "      <td>Não informado</td>\n",
       "      <td>Correto</td>\n",
       "      <td>Correto</td>\n",
       "      <td>NaN</td>\n",
       "    </tr>\n",
       "    <tr>\n",
       "      <th>4</th>\n",
       "      <td>4119905</td>\n",
       "      <td>23/2023/6</td>\n",
       "      <td>... a “aquisição de 08(oito) refrigeradores ti...</td>\n",
       "      <td>Aquisição de 08 refrigeradores tipo frigobar</td>\n",
       "      <td>Não informado</td>\n",
       "      <td>Correto</td>\n",
       "      <td>Correto</td>\n",
       "      <td>NaN</td>\n",
       "    </tr>\n",
       "  </tbody>\n",
       "</table>\n",
       "</div>"
      ],
      "text/plain": [
       "      ibge procurement_id                                              Fonte  \\\n",
       "0  4119905      27/2023/6  Serviços de Internet com link dedicado para o ...   \n",
       "1  4119905      26/2023/6  ... fornecimento de “PUXADORES PARA JANELAS TI...   \n",
       "2  4119905      25/2023/6  ... contratação de empresa habilitada para for...   \n",
       "3  4119905      24/2023/6  Contratação de empresa especializada para Pres...   \n",
       "4  4119905      23/2023/6  ... a “aquisição de 08(oito) refrigeradores ti...   \n",
       "\n",
       "                       Produto/Serviço Extraído  \\\n",
       "0        Serviços de Internet com link dedicado   \n",
       "1        Puxadores para janelas tipo “Maxim Ar”   \n",
       "2               Relógio protocolador eletrônico   \n",
       "3     Serviços de Saúde e Segurança do Trabalho   \n",
       "4  Aquisição de 08 refrigeradores tipo frigobar   \n",
       "\n",
       "                Secretaria Extraída Avaliação Prod/Serv Avaliação Secretaria  \\\n",
       "0  Câmara Municipal de Ponta Grossa             Correto     Erro de Extração   \n",
       "1                     Não informado             Correto              Correto   \n",
       "2                     Não informado             Correto              Correto   \n",
       "3                     Não informado             Correto              Correto   \n",
       "4                     Não informado             Correto              Correto   \n",
       "\n",
       "  Observação do Avaliador  \n",
       "0                     NaN  \n",
       "1                     NaN  \n",
       "2                     NaN  \n",
       "3                     NaN  \n",
       "4                     NaN  "
      ]
     },
     "execution_count": 13,
     "metadata": {},
     "output_type": "execute_result"
    }
   ],
   "source": [
    "df.head()"
   ]
  },
  {
   "cell_type": "code",
   "execution_count": 16,
   "metadata": {},
   "outputs": [],
   "source": [
    "list_id_ibge = list(df['ibge'])\n",
    "list_id = list(df['procurement_id'])\n",
    "list_new_value5 = list(df['Avaliação Prod/Serv'])\n",
    "list_new_value6 = list(df['Avaliação Secretaria'])"
   ]
  },
  {
   "cell_type": "code",
   "execution_count": 17,
   "metadata": {},
   "outputs": [],
   "source": [
    "def update_procurements_filed(list_id_ibge, list_id, list_new_value, field):\n",
    "\n",
    "    update = f\"UPDATE PROCUREMENTS set {field} = ? where ibge = ? and procurement_id = ?\"\n",
    "    con = sqlite3.connect(\"scraped.db\")\n",
    "    cursor = con.cursor()\n",
    "    to_update = []\n",
    "    for id_ibge, id, new_value in zip(list_id_ibge, list_id, list_new_value):\n",
    "        to_update.append((new_value, id_ibge, id))\n",
    "    cursor.executemany(update, to_update)\n",
    "    con.commit()\n",
    "    con.close()\n",
    "    pass\n",
    "\n",
    "update_procurements_filed(list_id_ibge, list_id, list_new_value5, 'extra5')\n",
    "update_procurements_filed(list_id_ibge, list_id, list_new_value6, 'extra6')"
   ]
  }
 ],
 "metadata": {
  "kernelspec": {
   "display_name": "venv",
   "language": "python",
   "name": "python3"
  },
  "language_info": {
   "codemirror_mode": {
    "name": "ipython",
    "version": 3
   },
   "file_extension": ".py",
   "mimetype": "text/x-python",
   "name": "python",
   "nbconvert_exporter": "python",
   "pygments_lexer": "ipython3",
   "version": "3.11.2"
  }
 },
 "nbformat": 4,
 "nbformat_minor": 2
}

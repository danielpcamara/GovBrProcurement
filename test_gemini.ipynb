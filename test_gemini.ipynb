{
 "cells": [
  {
   "cell_type": "markdown",
   "metadata": {},
   "source": [
    "# Sobre\n",
    "Este notebook foi usado para registrar os testes utilizados nas chamadas de API do Gemini.\n",
    "\n",
    "O Gemini foi usado neste projeto com o objetivo de extrair informações do campo \"Objeto\" das licitações. Este campo descrivte em linguagem natural qual é o obtetivo da licitação, e nele espera-se que sempre contenha o produto ou serviço que está sendo licitado e pode-se ou não ser informada qual secretaria da prefeitura criou esta licitação.\n",
    "\n",
    "Espera-se que o Gemini possa extrair estes dois campos de forma estruturada do texto.\n",
    "\n",
    "O processo de testes aqui documentado iniciou-se após o banco de dados estar pronto.\n",
    "O idioma utilizado para as anotações é o português devido ao fato de que este notebook não ser essencial para o funcionamento do código, a principal finalidade dele é documentar o processo de ajuste do prompty usado para extrair as informações do Gemini."
   ]
  },
  {
   "cell_type": "markdown",
   "metadata": {},
   "source": [
    "# Preparação\n",
    "Todos os  requisitos decritps no README.md devem ser instalados e o arquivo ```main.py``` deve ser executado antes de começar, para a devida consulta dos dados no site das prefeituras.\n",
    "Após a preparação do ambinete pode-se iniciar os testes de extração de dados pelo "
   ]
  },
  {
   "cell_type": "markdown",
   "metadata": {},
   "source": [
    "## Inicialização da Classe\n",
    "Nesta etapa a classe contendo os dados da prefeitura foi iniciada, para que os dados obtidos através do arquivos ```main.py```possam ser consultados."
   ]
  },
  {
   "cell_type": "code",
   "execution_count": 1,
   "metadata": {},
   "outputs": [
    {
     "name": "stdout",
     "output_type": "stream",
     "text": [
      "## __init__ crawlers load: oxy\n",
      "## Starting Scraping.crawlers.crawler_oxy ##\n",
      "## Starting Scraping.crawlers.crawler_base ##\n",
      "## __init__ crawlers load: base\n",
      "## __init__ crawlers load: master\n",
      "## Starting Scraping.crawlers.crawler_master ##\n"
     ]
    }
   ],
   "source": [
    "from Scraping import *\n",
    "\n",
    "cw_ponta_grossa = crawlers.CrawlerMaster(1, 'cmpg.oxy.elotech.com.br', 4119905, 'Ponta Grossa', 'PR')\n",
    "cw_eng_beltrao = crawlers.CrawlerMaster(1, 'engenheirobeltrao.oxy.elotech.com.br', 4107504, 'Engenheiro Beltrão', 'PR')\n",
    "\n",
    "import nest_asyncio\n",
    "nest_asyncio.apply()"
   ]
  },
  {
   "cell_type": "markdown",
   "metadata": {},
   "source": [
    "# BERT\n",
    "Antes do Gemini ser escolhido para este projeto, o BERT foi considerado, abaixo estão os testes realizados com a API dele."
   ]
  },
  {
   "cell_type": "code",
   "execution_count": 1,
   "metadata": {},
   "outputs": [
    {
     "name": "stderr",
     "output_type": "stream",
     "text": [
      "c:\\Users\\danie\\OneDrive\\7 - Estudos\\3 - MBA USP 2022\\6 - TCC\\Code\\GovBrProcurement\\venv\\Lib\\site-packages\\tqdm\\auto.py:21: TqdmWarning: IProgress not found. Please update jupyter and ipywidgets. See https://ipywidgets.readthedocs.io/en/stable/user_install.html\n",
      "  from .autonotebook import tqdm as notebook_tqdm\n"
     ]
    },
    {
     "name": "stdout",
     "output_type": "stream",
     "text": [
      "tensor([[[ 0.2824, -0.1887,  0.5604,  ..., -0.6297,  0.0302, -0.5707],\n",
      "         [-0.0398, -0.3057,  0.2431,  ..., -0.5420,  0.1857, -0.5775],\n",
      "         [-0.2926, -0.1957,  0.7020,  ..., -0.2843,  0.0530, -0.4304],\n",
      "         ...,\n",
      "         [ 0.0662,  0.2845,  0.1871,  ..., -0.2542, -0.2933, -0.0661],\n",
      "         [ 0.2761, -0.1657,  0.3288,  ..., -0.2102,  0.0029, -0.2009],\n",
      "         [ 0.2825, -0.1884,  0.5614,  ..., -0.6288,  0.0294, -0.5712]]])\n"
     ]
    }
   ],
   "source": [
    "import torch\n",
    "from transformers import AutoTokenizer,AutoModelForPreTraining, AutoModel\n",
    "\n",
    "model = AutoModel.from_pretrained('neuralmind/bert-base-portuguese-cased')\n",
    "tokenizer = AutoTokenizer.from_pretrained('neuralmind/bert-base-portuguese-cased', do_lower_case=False)\n",
    "input_ids = tokenizer.encode('Tinha uma pedra no meio do caminho.', return_tensors='pt')\n",
    "\n",
    "with torch.no_grad():\n",
    "    outs = model(input_ids)\n",
    "    encoded = outs[0][0, 1:-1]\n",
    "\n",
    "last_hidden_states = outs[0]\n",
    "\n",
    "# Print the output features\n",
    "print(last_hidden_states)"
   ]
  },
  {
   "cell_type": "code",
   "execution_count": 4,
   "metadata": {},
   "outputs": [
    {
     "data": {
      "text/plain": [
       "torch.Size([8, 768])"
      ]
     },
     "execution_count": 4,
     "metadata": {},
     "output_type": "execute_result"
    }
   ],
   "source": [
    "encoded.size()"
   ]
  },
  {
   "cell_type": "code",
   "execution_count": 2,
   "metadata": {},
   "outputs": [
    {
     "ename": "IntegrityError",
     "evalue": "UNIQUE constraint failed: CITYS.ibge",
     "output_type": "error",
     "traceback": [
      "\u001b[1;31m---------------------------------------------------------------------------\u001b[0m",
      "\u001b[1;31mIntegrityError\u001b[0m                            Traceback (most recent call last)",
      "Cell \u001b[1;32mIn[2], line 1\u001b[0m\n\u001b[1;32m----> 1\u001b[0m \u001b[43mcw\u001b[49m\u001b[38;5;241;43m.\u001b[39;49m\u001b[43mcreate_city\u001b[49m\u001b[43m(\u001b[49m\u001b[43m)\u001b[49m\n",
      "File \u001b[1;32mc:\\Users\\danie\\OneDrive\\7 - Estudos\\3 - MBA USP 2022\\6 - TCC\\Code\\GovBrProcurement\\Scraping\\crawlers\\crawler_base.py:32\u001b[0m, in \u001b[0;36mCrawlerBase.create_city\u001b[1;34m(self)\u001b[0m\n\u001b[0;32m     30\u001b[0m con \u001b[38;5;241m=\u001b[39m sqlite3\u001b[38;5;241m.\u001b[39mconnect(\u001b[38;5;124m\"\u001b[39m\u001b[38;5;124mscraped.db\u001b[39m\u001b[38;5;124m\"\u001b[39m, timeout\u001b[38;5;241m=\u001b[39m\u001b[38;5;241m50\u001b[39m)\n\u001b[0;32m     31\u001b[0m cursor \u001b[38;5;241m=\u001b[39m con\u001b[38;5;241m.\u001b[39mcursor()\n\u001b[1;32m---> 32\u001b[0m \u001b[43mcursor\u001b[49m\u001b[38;5;241;43m.\u001b[39;49m\u001b[43mexecute\u001b[49m\u001b[43m(\u001b[49m\u001b[43minsert\u001b[49m\u001b[43m)\u001b[49m\n\u001b[0;32m     33\u001b[0m con\u001b[38;5;241m.\u001b[39mcommit()\n\u001b[0;32m     34\u001b[0m con\u001b[38;5;241m.\u001b[39mclose()\n",
      "\u001b[1;31mIntegrityError\u001b[0m: UNIQUE constraint failed: CITYS.ibge"
     ]
    }
   ],
   "source": [
    "cw.create_city()"
   ]
  },
  {
   "cell_type": "markdown",
   "metadata": {},
   "source": [
    "## Arquivos em PDF e OCR\n",
    "Além do campo \"Objeto\" presente na API, arquivos em PDF são anexados ao processo de licitação. Estes arquivos geralemtne são scaners de documentos contendo várias páginas.\n",
    "\n",
    "Neste ponto dos testes considerava-se utilizar estes PDFs para extração destes campos, visto que o campo 'objetivo' nem sempre trazia a informação do orgão que abriu a licitação. Entretanto como pode ser visto abaixo, este processo foi descartado devido ao limite de tokenização destes modelos e da quantidade de palavras extraidas via OCR destes arquivos PDFs."
   ]
  },
  {
   "cell_type": "code",
   "execution_count": 10,
   "metadata": {},
   "outputs": [
    {
     "name": "stderr",
     "output_type": "stream",
     "text": [
      "c:\\Users\\danie\\OneDrive\\7 - Estudos\\3 - MBA USP 2022\\6 - TCC\\Code\\GovBrProcurement\\venv\\Lib\\site-packages\\transformers\\tokenization_utils_base.py:2636: UserWarning: `max_length` is ignored when `padding`=`True` and there is no truncation strategy. To pad to max length, use `padding='max_length'`.\n",
      "  warnings.warn(\n"
     ]
    },
    {
     "ename": "RuntimeError",
     "evalue": "The size of tensor a (18577) must match the size of tensor b (512) at non-singleton dimension 1",
     "output_type": "error",
     "traceback": [
      "\u001b[1;31m---------------------------------------------------------------------------\u001b[0m",
      "\u001b[1;31mRuntimeError\u001b[0m                              Traceback (most recent call last)",
      "Cell \u001b[1;32mIn[10], line 23\u001b[0m\n\u001b[0;32m     19\u001b[0m tokenizer \u001b[38;5;241m=\u001b[39m BertTokenizer\u001b[38;5;241m.\u001b[39mfrom_pretrained(\u001b[38;5;124m'\u001b[39m\u001b[38;5;124mneuralmind/bert-base-portuguese-cased\u001b[39m\u001b[38;5;124m'\u001b[39m)\n\u001b[0;32m     21\u001b[0m df_token \u001b[38;5;241m=\u001b[39m tokenizer\u001b[38;5;241m.\u001b[39mbatch_encode_plus([sentence], return_tensors\u001b[38;5;241m=\u001b[39m\u001b[38;5;124m'\u001b[39m\u001b[38;5;124mpt\u001b[39m\u001b[38;5;124m'\u001b[39m , padding\u001b[38;5;241m=\u001b[39m\u001b[38;5;28;01mTrue\u001b[39;00m, max_length\u001b[38;5;241m=\u001b[39mMAX_LENGTH)\n\u001b[1;32m---> 23\u001b[0m x \u001b[38;5;241m=\u001b[39m \u001b[43mpipe\u001b[49m\u001b[43m(\u001b[49m\u001b[43msentence\u001b[49m\u001b[43m)\u001b[49m\n\u001b[0;32m     24\u001b[0m \u001b[38;5;28mprint\u001b[39m(x)\n",
      "File \u001b[1;32mc:\\Users\\danie\\OneDrive\\7 - Estudos\\3 - MBA USP 2022\\6 - TCC\\Code\\GovBrProcurement\\venv\\Lib\\site-packages\\transformers\\pipelines\\fill_mask.py:270\u001b[0m, in \u001b[0;36mFillMaskPipeline.__call__\u001b[1;34m(self, inputs, *args, **kwargs)\u001b[0m\n\u001b[0;32m    248\u001b[0m \u001b[38;5;28;01mdef\u001b[39;00m \u001b[38;5;21m__call__\u001b[39m(\u001b[38;5;28mself\u001b[39m, inputs, \u001b[38;5;241m*\u001b[39margs, \u001b[38;5;241m*\u001b[39m\u001b[38;5;241m*\u001b[39mkwargs):\n\u001b[0;32m    249\u001b[0m \u001b[38;5;250m    \u001b[39m\u001b[38;5;124;03m\"\"\"\u001b[39;00m\n\u001b[0;32m    250\u001b[0m \u001b[38;5;124;03m    Fill the masked token in the text(s) given as inputs.\u001b[39;00m\n\u001b[0;32m    251\u001b[0m \n\u001b[1;32m   (...)\u001b[0m\n\u001b[0;32m    268\u001b[0m \u001b[38;5;124;03m        - **token_str** (`str`) -- The predicted token (to replace the masked one).\u001b[39;00m\n\u001b[0;32m    269\u001b[0m \u001b[38;5;124;03m    \"\"\"\u001b[39;00m\n\u001b[1;32m--> 270\u001b[0m     outputs \u001b[38;5;241m=\u001b[39m \u001b[38;5;28;43msuper\u001b[39;49m\u001b[43m(\u001b[49m\u001b[43m)\u001b[49m\u001b[38;5;241;43m.\u001b[39;49m\u001b[38;5;21;43m__call__\u001b[39;49m\u001b[43m(\u001b[49m\u001b[43minputs\u001b[49m\u001b[43m,\u001b[49m\u001b[43m \u001b[49m\u001b[38;5;241;43m*\u001b[39;49m\u001b[38;5;241;43m*\u001b[39;49m\u001b[43mkwargs\u001b[49m\u001b[43m)\u001b[49m\n\u001b[0;32m    271\u001b[0m     \u001b[38;5;28;01mif\u001b[39;00m \u001b[38;5;28misinstance\u001b[39m(inputs, \u001b[38;5;28mlist\u001b[39m) \u001b[38;5;129;01mand\u001b[39;00m \u001b[38;5;28mlen\u001b[39m(inputs) \u001b[38;5;241m==\u001b[39m \u001b[38;5;241m1\u001b[39m:\n\u001b[0;32m    272\u001b[0m         \u001b[38;5;28;01mreturn\u001b[39;00m outputs[\u001b[38;5;241m0\u001b[39m]\n",
      "File \u001b[1;32mc:\\Users\\danie\\OneDrive\\7 - Estudos\\3 - MBA USP 2022\\6 - TCC\\Code\\GovBrProcurement\\venv\\Lib\\site-packages\\transformers\\pipelines\\base.py:1140\u001b[0m, in \u001b[0;36mPipeline.__call__\u001b[1;34m(self, inputs, num_workers, batch_size, *args, **kwargs)\u001b[0m\n\u001b[0;32m   1132\u001b[0m     \u001b[38;5;28;01mreturn\u001b[39;00m \u001b[38;5;28mnext\u001b[39m(\n\u001b[0;32m   1133\u001b[0m         \u001b[38;5;28miter\u001b[39m(\n\u001b[0;32m   1134\u001b[0m             \u001b[38;5;28mself\u001b[39m\u001b[38;5;241m.\u001b[39mget_iterator(\n\u001b[1;32m   (...)\u001b[0m\n\u001b[0;32m   1137\u001b[0m         )\n\u001b[0;32m   1138\u001b[0m     )\n\u001b[0;32m   1139\u001b[0m \u001b[38;5;28;01melse\u001b[39;00m:\n\u001b[1;32m-> 1140\u001b[0m     \u001b[38;5;28;01mreturn\u001b[39;00m \u001b[38;5;28;43mself\u001b[39;49m\u001b[38;5;241;43m.\u001b[39;49m\u001b[43mrun_single\u001b[49m\u001b[43m(\u001b[49m\u001b[43minputs\u001b[49m\u001b[43m,\u001b[49m\u001b[43m \u001b[49m\u001b[43mpreprocess_params\u001b[49m\u001b[43m,\u001b[49m\u001b[43m \u001b[49m\u001b[43mforward_params\u001b[49m\u001b[43m,\u001b[49m\u001b[43m \u001b[49m\u001b[43mpostprocess_params\u001b[49m\u001b[43m)\u001b[49m\n",
      "File \u001b[1;32mc:\\Users\\danie\\OneDrive\\7 - Estudos\\3 - MBA USP 2022\\6 - TCC\\Code\\GovBrProcurement\\venv\\Lib\\site-packages\\transformers\\pipelines\\base.py:1147\u001b[0m, in \u001b[0;36mPipeline.run_single\u001b[1;34m(self, inputs, preprocess_params, forward_params, postprocess_params)\u001b[0m\n\u001b[0;32m   1145\u001b[0m \u001b[38;5;28;01mdef\u001b[39;00m \u001b[38;5;21mrun_single\u001b[39m(\u001b[38;5;28mself\u001b[39m, inputs, preprocess_params, forward_params, postprocess_params):\n\u001b[0;32m   1146\u001b[0m     model_inputs \u001b[38;5;241m=\u001b[39m \u001b[38;5;28mself\u001b[39m\u001b[38;5;241m.\u001b[39mpreprocess(inputs, \u001b[38;5;241m*\u001b[39m\u001b[38;5;241m*\u001b[39mpreprocess_params)\n\u001b[1;32m-> 1147\u001b[0m     model_outputs \u001b[38;5;241m=\u001b[39m \u001b[38;5;28;43mself\u001b[39;49m\u001b[38;5;241;43m.\u001b[39;49m\u001b[43mforward\u001b[49m\u001b[43m(\u001b[49m\u001b[43mmodel_inputs\u001b[49m\u001b[43m,\u001b[49m\u001b[43m \u001b[49m\u001b[38;5;241;43m*\u001b[39;49m\u001b[38;5;241;43m*\u001b[39;49m\u001b[43mforward_params\u001b[49m\u001b[43m)\u001b[49m\n\u001b[0;32m   1148\u001b[0m     outputs \u001b[38;5;241m=\u001b[39m \u001b[38;5;28mself\u001b[39m\u001b[38;5;241m.\u001b[39mpostprocess(model_outputs, \u001b[38;5;241m*\u001b[39m\u001b[38;5;241m*\u001b[39mpostprocess_params)\n\u001b[0;32m   1149\u001b[0m     \u001b[38;5;28;01mreturn\u001b[39;00m outputs\n",
      "File \u001b[1;32mc:\\Users\\danie\\OneDrive\\7 - Estudos\\3 - MBA USP 2022\\6 - TCC\\Code\\GovBrProcurement\\venv\\Lib\\site-packages\\transformers\\pipelines\\base.py:1046\u001b[0m, in \u001b[0;36mPipeline.forward\u001b[1;34m(self, model_inputs, **forward_params)\u001b[0m\n\u001b[0;32m   1044\u001b[0m     \u001b[38;5;28;01mwith\u001b[39;00m inference_context():\n\u001b[0;32m   1045\u001b[0m         model_inputs \u001b[38;5;241m=\u001b[39m \u001b[38;5;28mself\u001b[39m\u001b[38;5;241m.\u001b[39m_ensure_tensor_on_device(model_inputs, device\u001b[38;5;241m=\u001b[39m\u001b[38;5;28mself\u001b[39m\u001b[38;5;241m.\u001b[39mdevice)\n\u001b[1;32m-> 1046\u001b[0m         model_outputs \u001b[38;5;241m=\u001b[39m \u001b[38;5;28;43mself\u001b[39;49m\u001b[38;5;241;43m.\u001b[39;49m\u001b[43m_forward\u001b[49m\u001b[43m(\u001b[49m\u001b[43mmodel_inputs\u001b[49m\u001b[43m,\u001b[49m\u001b[43m \u001b[49m\u001b[38;5;241;43m*\u001b[39;49m\u001b[38;5;241;43m*\u001b[39;49m\u001b[43mforward_params\u001b[49m\u001b[43m)\u001b[49m\n\u001b[0;32m   1047\u001b[0m         model_outputs \u001b[38;5;241m=\u001b[39m \u001b[38;5;28mself\u001b[39m\u001b[38;5;241m.\u001b[39m_ensure_tensor_on_device(model_outputs, device\u001b[38;5;241m=\u001b[39mtorch\u001b[38;5;241m.\u001b[39mdevice(\u001b[38;5;124m\"\u001b[39m\u001b[38;5;124mcpu\u001b[39m\u001b[38;5;124m\"\u001b[39m))\n\u001b[0;32m   1048\u001b[0m \u001b[38;5;28;01melse\u001b[39;00m:\n",
      "File \u001b[1;32mc:\\Users\\danie\\OneDrive\\7 - Estudos\\3 - MBA USP 2022\\6 - TCC\\Code\\GovBrProcurement\\venv\\Lib\\site-packages\\transformers\\pipelines\\fill_mask.py:127\u001b[0m, in \u001b[0;36mFillMaskPipeline._forward\u001b[1;34m(self, model_inputs)\u001b[0m\n\u001b[0;32m    126\u001b[0m \u001b[38;5;28;01mdef\u001b[39;00m \u001b[38;5;21m_forward\u001b[39m(\u001b[38;5;28mself\u001b[39m, model_inputs):\n\u001b[1;32m--> 127\u001b[0m     model_outputs \u001b[38;5;241m=\u001b[39m \u001b[38;5;28;43mself\u001b[39;49m\u001b[38;5;241;43m.\u001b[39;49m\u001b[43mmodel\u001b[49m\u001b[43m(\u001b[49m\u001b[38;5;241;43m*\u001b[39;49m\u001b[38;5;241;43m*\u001b[39;49m\u001b[43mmodel_inputs\u001b[49m\u001b[43m)\u001b[49m\n\u001b[0;32m    128\u001b[0m     model_outputs[\u001b[38;5;124m\"\u001b[39m\u001b[38;5;124minput_ids\u001b[39m\u001b[38;5;124m\"\u001b[39m] \u001b[38;5;241m=\u001b[39m model_inputs[\u001b[38;5;124m\"\u001b[39m\u001b[38;5;124minput_ids\u001b[39m\u001b[38;5;124m\"\u001b[39m]\n\u001b[0;32m    129\u001b[0m     \u001b[38;5;28;01mreturn\u001b[39;00m model_outputs\n",
      "File \u001b[1;32mc:\\Users\\danie\\OneDrive\\7 - Estudos\\3 - MBA USP 2022\\6 - TCC\\Code\\GovBrProcurement\\venv\\Lib\\site-packages\\torch\\nn\\modules\\module.py:1518\u001b[0m, in \u001b[0;36mModule._wrapped_call_impl\u001b[1;34m(self, *args, **kwargs)\u001b[0m\n\u001b[0;32m   1516\u001b[0m     \u001b[38;5;28;01mreturn\u001b[39;00m \u001b[38;5;28mself\u001b[39m\u001b[38;5;241m.\u001b[39m_compiled_call_impl(\u001b[38;5;241m*\u001b[39margs, \u001b[38;5;241m*\u001b[39m\u001b[38;5;241m*\u001b[39mkwargs)  \u001b[38;5;66;03m# type: ignore[misc]\u001b[39;00m\n\u001b[0;32m   1517\u001b[0m \u001b[38;5;28;01melse\u001b[39;00m:\n\u001b[1;32m-> 1518\u001b[0m     \u001b[38;5;28;01mreturn\u001b[39;00m \u001b[38;5;28;43mself\u001b[39;49m\u001b[38;5;241;43m.\u001b[39;49m\u001b[43m_call_impl\u001b[49m\u001b[43m(\u001b[49m\u001b[38;5;241;43m*\u001b[39;49m\u001b[43margs\u001b[49m\u001b[43m,\u001b[49m\u001b[43m \u001b[49m\u001b[38;5;241;43m*\u001b[39;49m\u001b[38;5;241;43m*\u001b[39;49m\u001b[43mkwargs\u001b[49m\u001b[43m)\u001b[49m\n",
      "File \u001b[1;32mc:\\Users\\danie\\OneDrive\\7 - Estudos\\3 - MBA USP 2022\\6 - TCC\\Code\\GovBrProcurement\\venv\\Lib\\site-packages\\torch\\nn\\modules\\module.py:1527\u001b[0m, in \u001b[0;36mModule._call_impl\u001b[1;34m(self, *args, **kwargs)\u001b[0m\n\u001b[0;32m   1522\u001b[0m \u001b[38;5;66;03m# If we don't have any hooks, we want to skip the rest of the logic in\u001b[39;00m\n\u001b[0;32m   1523\u001b[0m \u001b[38;5;66;03m# this function, and just call forward.\u001b[39;00m\n\u001b[0;32m   1524\u001b[0m \u001b[38;5;28;01mif\u001b[39;00m \u001b[38;5;129;01mnot\u001b[39;00m (\u001b[38;5;28mself\u001b[39m\u001b[38;5;241m.\u001b[39m_backward_hooks \u001b[38;5;129;01mor\u001b[39;00m \u001b[38;5;28mself\u001b[39m\u001b[38;5;241m.\u001b[39m_backward_pre_hooks \u001b[38;5;129;01mor\u001b[39;00m \u001b[38;5;28mself\u001b[39m\u001b[38;5;241m.\u001b[39m_forward_hooks \u001b[38;5;129;01mor\u001b[39;00m \u001b[38;5;28mself\u001b[39m\u001b[38;5;241m.\u001b[39m_forward_pre_hooks\n\u001b[0;32m   1525\u001b[0m         \u001b[38;5;129;01mor\u001b[39;00m _global_backward_pre_hooks \u001b[38;5;129;01mor\u001b[39;00m _global_backward_hooks\n\u001b[0;32m   1526\u001b[0m         \u001b[38;5;129;01mor\u001b[39;00m _global_forward_hooks \u001b[38;5;129;01mor\u001b[39;00m _global_forward_pre_hooks):\n\u001b[1;32m-> 1527\u001b[0m     \u001b[38;5;28;01mreturn\u001b[39;00m \u001b[43mforward_call\u001b[49m\u001b[43m(\u001b[49m\u001b[38;5;241;43m*\u001b[39;49m\u001b[43margs\u001b[49m\u001b[43m,\u001b[49m\u001b[43m \u001b[49m\u001b[38;5;241;43m*\u001b[39;49m\u001b[38;5;241;43m*\u001b[39;49m\u001b[43mkwargs\u001b[49m\u001b[43m)\u001b[49m\n\u001b[0;32m   1529\u001b[0m \u001b[38;5;28;01mtry\u001b[39;00m:\n\u001b[0;32m   1530\u001b[0m     result \u001b[38;5;241m=\u001b[39m \u001b[38;5;28;01mNone\u001b[39;00m\n",
      "File \u001b[1;32mc:\\Users\\danie\\OneDrive\\7 - Estudos\\3 - MBA USP 2022\\6 - TCC\\Code\\GovBrProcurement\\venv\\Lib\\site-packages\\transformers\\models\\bert\\modeling_bert.py:1116\u001b[0m, in \u001b[0;36mBertForPreTraining.forward\u001b[1;34m(self, input_ids, attention_mask, token_type_ids, position_ids, head_mask, inputs_embeds, labels, next_sentence_label, output_attentions, output_hidden_states, return_dict)\u001b[0m\n\u001b[0;32m   1082\u001b[0m \u001b[38;5;250m\u001b[39m\u001b[38;5;124mr\u001b[39m\u001b[38;5;124;03m\"\"\"\u001b[39;00m\n\u001b[0;32m   1083\u001b[0m \u001b[38;5;124;03m    labels (`torch.LongTensor` of shape `(batch_size, sequence_length)`, *optional*):\u001b[39;00m\n\u001b[0;32m   1084\u001b[0m \u001b[38;5;124;03m        Labels for computing the masked language modeling loss. Indices should be in `[-100, 0, ...,\u001b[39;00m\n\u001b[1;32m   (...)\u001b[0m\n\u001b[0;32m   1112\u001b[0m \u001b[38;5;124;03m```\u001b[39;00m\n\u001b[0;32m   1113\u001b[0m \u001b[38;5;124;03m\"\"\"\u001b[39;00m\n\u001b[0;32m   1114\u001b[0m return_dict \u001b[38;5;241m=\u001b[39m return_dict \u001b[38;5;28;01mif\u001b[39;00m return_dict \u001b[38;5;129;01mis\u001b[39;00m \u001b[38;5;129;01mnot\u001b[39;00m \u001b[38;5;28;01mNone\u001b[39;00m \u001b[38;5;28;01melse\u001b[39;00m \u001b[38;5;28mself\u001b[39m\u001b[38;5;241m.\u001b[39mconfig\u001b[38;5;241m.\u001b[39muse_return_dict\n\u001b[1;32m-> 1116\u001b[0m outputs \u001b[38;5;241m=\u001b[39m \u001b[38;5;28;43mself\u001b[39;49m\u001b[38;5;241;43m.\u001b[39;49m\u001b[43mbert\u001b[49m\u001b[43m(\u001b[49m\n\u001b[0;32m   1117\u001b[0m \u001b[43m    \u001b[49m\u001b[43minput_ids\u001b[49m\u001b[43m,\u001b[49m\n\u001b[0;32m   1118\u001b[0m \u001b[43m    \u001b[49m\u001b[43mattention_mask\u001b[49m\u001b[38;5;241;43m=\u001b[39;49m\u001b[43mattention_mask\u001b[49m\u001b[43m,\u001b[49m\n\u001b[0;32m   1119\u001b[0m \u001b[43m    \u001b[49m\u001b[43mtoken_type_ids\u001b[49m\u001b[38;5;241;43m=\u001b[39;49m\u001b[43mtoken_type_ids\u001b[49m\u001b[43m,\u001b[49m\n\u001b[0;32m   1120\u001b[0m \u001b[43m    \u001b[49m\u001b[43mposition_ids\u001b[49m\u001b[38;5;241;43m=\u001b[39;49m\u001b[43mposition_ids\u001b[49m\u001b[43m,\u001b[49m\n\u001b[0;32m   1121\u001b[0m \u001b[43m    \u001b[49m\u001b[43mhead_mask\u001b[49m\u001b[38;5;241;43m=\u001b[39;49m\u001b[43mhead_mask\u001b[49m\u001b[43m,\u001b[49m\n\u001b[0;32m   1122\u001b[0m \u001b[43m    \u001b[49m\u001b[43minputs_embeds\u001b[49m\u001b[38;5;241;43m=\u001b[39;49m\u001b[43minputs_embeds\u001b[49m\u001b[43m,\u001b[49m\n\u001b[0;32m   1123\u001b[0m \u001b[43m    \u001b[49m\u001b[43moutput_attentions\u001b[49m\u001b[38;5;241;43m=\u001b[39;49m\u001b[43moutput_attentions\u001b[49m\u001b[43m,\u001b[49m\n\u001b[0;32m   1124\u001b[0m \u001b[43m    \u001b[49m\u001b[43moutput_hidden_states\u001b[49m\u001b[38;5;241;43m=\u001b[39;49m\u001b[43moutput_hidden_states\u001b[49m\u001b[43m,\u001b[49m\n\u001b[0;32m   1125\u001b[0m \u001b[43m    \u001b[49m\u001b[43mreturn_dict\u001b[49m\u001b[38;5;241;43m=\u001b[39;49m\u001b[43mreturn_dict\u001b[49m\u001b[43m,\u001b[49m\n\u001b[0;32m   1126\u001b[0m \u001b[43m\u001b[49m\u001b[43m)\u001b[49m\n\u001b[0;32m   1128\u001b[0m sequence_output, pooled_output \u001b[38;5;241m=\u001b[39m outputs[:\u001b[38;5;241m2\u001b[39m]\n\u001b[0;32m   1129\u001b[0m prediction_scores, seq_relationship_score \u001b[38;5;241m=\u001b[39m \u001b[38;5;28mself\u001b[39m\u001b[38;5;241m.\u001b[39mcls(sequence_output, pooled_output)\n",
      "File \u001b[1;32mc:\\Users\\danie\\OneDrive\\7 - Estudos\\3 - MBA USP 2022\\6 - TCC\\Code\\GovBrProcurement\\venv\\Lib\\site-packages\\torch\\nn\\modules\\module.py:1518\u001b[0m, in \u001b[0;36mModule._wrapped_call_impl\u001b[1;34m(self, *args, **kwargs)\u001b[0m\n\u001b[0;32m   1516\u001b[0m     \u001b[38;5;28;01mreturn\u001b[39;00m \u001b[38;5;28mself\u001b[39m\u001b[38;5;241m.\u001b[39m_compiled_call_impl(\u001b[38;5;241m*\u001b[39margs, \u001b[38;5;241m*\u001b[39m\u001b[38;5;241m*\u001b[39mkwargs)  \u001b[38;5;66;03m# type: ignore[misc]\u001b[39;00m\n\u001b[0;32m   1517\u001b[0m \u001b[38;5;28;01melse\u001b[39;00m:\n\u001b[1;32m-> 1518\u001b[0m     \u001b[38;5;28;01mreturn\u001b[39;00m \u001b[38;5;28;43mself\u001b[39;49m\u001b[38;5;241;43m.\u001b[39;49m\u001b[43m_call_impl\u001b[49m\u001b[43m(\u001b[49m\u001b[38;5;241;43m*\u001b[39;49m\u001b[43margs\u001b[49m\u001b[43m,\u001b[49m\u001b[43m \u001b[49m\u001b[38;5;241;43m*\u001b[39;49m\u001b[38;5;241;43m*\u001b[39;49m\u001b[43mkwargs\u001b[49m\u001b[43m)\u001b[49m\n",
      "File \u001b[1;32mc:\\Users\\danie\\OneDrive\\7 - Estudos\\3 - MBA USP 2022\\6 - TCC\\Code\\GovBrProcurement\\venv\\Lib\\site-packages\\torch\\nn\\modules\\module.py:1527\u001b[0m, in \u001b[0;36mModule._call_impl\u001b[1;34m(self, *args, **kwargs)\u001b[0m\n\u001b[0;32m   1522\u001b[0m \u001b[38;5;66;03m# If we don't have any hooks, we want to skip the rest of the logic in\u001b[39;00m\n\u001b[0;32m   1523\u001b[0m \u001b[38;5;66;03m# this function, and just call forward.\u001b[39;00m\n\u001b[0;32m   1524\u001b[0m \u001b[38;5;28;01mif\u001b[39;00m \u001b[38;5;129;01mnot\u001b[39;00m (\u001b[38;5;28mself\u001b[39m\u001b[38;5;241m.\u001b[39m_backward_hooks \u001b[38;5;129;01mor\u001b[39;00m \u001b[38;5;28mself\u001b[39m\u001b[38;5;241m.\u001b[39m_backward_pre_hooks \u001b[38;5;129;01mor\u001b[39;00m \u001b[38;5;28mself\u001b[39m\u001b[38;5;241m.\u001b[39m_forward_hooks \u001b[38;5;129;01mor\u001b[39;00m \u001b[38;5;28mself\u001b[39m\u001b[38;5;241m.\u001b[39m_forward_pre_hooks\n\u001b[0;32m   1525\u001b[0m         \u001b[38;5;129;01mor\u001b[39;00m _global_backward_pre_hooks \u001b[38;5;129;01mor\u001b[39;00m _global_backward_hooks\n\u001b[0;32m   1526\u001b[0m         \u001b[38;5;129;01mor\u001b[39;00m _global_forward_hooks \u001b[38;5;129;01mor\u001b[39;00m _global_forward_pre_hooks):\n\u001b[1;32m-> 1527\u001b[0m     \u001b[38;5;28;01mreturn\u001b[39;00m \u001b[43mforward_call\u001b[49m\u001b[43m(\u001b[49m\u001b[38;5;241;43m*\u001b[39;49m\u001b[43margs\u001b[49m\u001b[43m,\u001b[49m\u001b[43m \u001b[49m\u001b[38;5;241;43m*\u001b[39;49m\u001b[38;5;241;43m*\u001b[39;49m\u001b[43mkwargs\u001b[49m\u001b[43m)\u001b[49m\n\u001b[0;32m   1529\u001b[0m \u001b[38;5;28;01mtry\u001b[39;00m:\n\u001b[0;32m   1530\u001b[0m     result \u001b[38;5;241m=\u001b[39m \u001b[38;5;28;01mNone\u001b[39;00m\n",
      "File \u001b[1;32mc:\\Users\\danie\\OneDrive\\7 - Estudos\\3 - MBA USP 2022\\6 - TCC\\Code\\GovBrProcurement\\venv\\Lib\\site-packages\\transformers\\models\\bert\\modeling_bert.py:1006\u001b[0m, in \u001b[0;36mBertModel.forward\u001b[1;34m(self, input_ids, attention_mask, token_type_ids, position_ids, head_mask, inputs_embeds, encoder_hidden_states, encoder_attention_mask, past_key_values, use_cache, output_attentions, output_hidden_states, return_dict)\u001b[0m\n\u001b[0;32m    999\u001b[0m \u001b[38;5;66;03m# Prepare head mask if needed\u001b[39;00m\n\u001b[0;32m   1000\u001b[0m \u001b[38;5;66;03m# 1.0 in head_mask indicate we keep the head\u001b[39;00m\n\u001b[0;32m   1001\u001b[0m \u001b[38;5;66;03m# attention_probs has shape bsz x n_heads x N x N\u001b[39;00m\n\u001b[0;32m   1002\u001b[0m \u001b[38;5;66;03m# input head_mask has shape [num_heads] or [num_hidden_layers x num_heads]\u001b[39;00m\n\u001b[0;32m   1003\u001b[0m \u001b[38;5;66;03m# and head_mask is converted to shape [num_hidden_layers x batch x num_heads x seq_length x seq_length]\u001b[39;00m\n\u001b[0;32m   1004\u001b[0m head_mask \u001b[38;5;241m=\u001b[39m \u001b[38;5;28mself\u001b[39m\u001b[38;5;241m.\u001b[39mget_head_mask(head_mask, \u001b[38;5;28mself\u001b[39m\u001b[38;5;241m.\u001b[39mconfig\u001b[38;5;241m.\u001b[39mnum_hidden_layers)\n\u001b[1;32m-> 1006\u001b[0m embedding_output \u001b[38;5;241m=\u001b[39m \u001b[38;5;28;43mself\u001b[39;49m\u001b[38;5;241;43m.\u001b[39;49m\u001b[43membeddings\u001b[49m\u001b[43m(\u001b[49m\n\u001b[0;32m   1007\u001b[0m \u001b[43m    \u001b[49m\u001b[43minput_ids\u001b[49m\u001b[38;5;241;43m=\u001b[39;49m\u001b[43minput_ids\u001b[49m\u001b[43m,\u001b[49m\n\u001b[0;32m   1008\u001b[0m \u001b[43m    \u001b[49m\u001b[43mposition_ids\u001b[49m\u001b[38;5;241;43m=\u001b[39;49m\u001b[43mposition_ids\u001b[49m\u001b[43m,\u001b[49m\n\u001b[0;32m   1009\u001b[0m \u001b[43m    \u001b[49m\u001b[43mtoken_type_ids\u001b[49m\u001b[38;5;241;43m=\u001b[39;49m\u001b[43mtoken_type_ids\u001b[49m\u001b[43m,\u001b[49m\n\u001b[0;32m   1010\u001b[0m \u001b[43m    \u001b[49m\u001b[43minputs_embeds\u001b[49m\u001b[38;5;241;43m=\u001b[39;49m\u001b[43minputs_embeds\u001b[49m\u001b[43m,\u001b[49m\n\u001b[0;32m   1011\u001b[0m \u001b[43m    \u001b[49m\u001b[43mpast_key_values_length\u001b[49m\u001b[38;5;241;43m=\u001b[39;49m\u001b[43mpast_key_values_length\u001b[49m\u001b[43m,\u001b[49m\n\u001b[0;32m   1012\u001b[0m \u001b[43m\u001b[49m\u001b[43m)\u001b[49m\n\u001b[0;32m   1013\u001b[0m encoder_outputs \u001b[38;5;241m=\u001b[39m \u001b[38;5;28mself\u001b[39m\u001b[38;5;241m.\u001b[39mencoder(\n\u001b[0;32m   1014\u001b[0m     embedding_output,\n\u001b[0;32m   1015\u001b[0m     attention_mask\u001b[38;5;241m=\u001b[39mextended_attention_mask,\n\u001b[1;32m   (...)\u001b[0m\n\u001b[0;32m   1023\u001b[0m     return_dict\u001b[38;5;241m=\u001b[39mreturn_dict,\n\u001b[0;32m   1024\u001b[0m )\n\u001b[0;32m   1025\u001b[0m sequence_output \u001b[38;5;241m=\u001b[39m encoder_outputs[\u001b[38;5;241m0\u001b[39m]\n",
      "File \u001b[1;32mc:\\Users\\danie\\OneDrive\\7 - Estudos\\3 - MBA USP 2022\\6 - TCC\\Code\\GovBrProcurement\\venv\\Lib\\site-packages\\torch\\nn\\modules\\module.py:1518\u001b[0m, in \u001b[0;36mModule._wrapped_call_impl\u001b[1;34m(self, *args, **kwargs)\u001b[0m\n\u001b[0;32m   1516\u001b[0m     \u001b[38;5;28;01mreturn\u001b[39;00m \u001b[38;5;28mself\u001b[39m\u001b[38;5;241m.\u001b[39m_compiled_call_impl(\u001b[38;5;241m*\u001b[39margs, \u001b[38;5;241m*\u001b[39m\u001b[38;5;241m*\u001b[39mkwargs)  \u001b[38;5;66;03m# type: ignore[misc]\u001b[39;00m\n\u001b[0;32m   1517\u001b[0m \u001b[38;5;28;01melse\u001b[39;00m:\n\u001b[1;32m-> 1518\u001b[0m     \u001b[38;5;28;01mreturn\u001b[39;00m \u001b[38;5;28;43mself\u001b[39;49m\u001b[38;5;241;43m.\u001b[39;49m\u001b[43m_call_impl\u001b[49m\u001b[43m(\u001b[49m\u001b[38;5;241;43m*\u001b[39;49m\u001b[43margs\u001b[49m\u001b[43m,\u001b[49m\u001b[43m \u001b[49m\u001b[38;5;241;43m*\u001b[39;49m\u001b[38;5;241;43m*\u001b[39;49m\u001b[43mkwargs\u001b[49m\u001b[43m)\u001b[49m\n",
      "File \u001b[1;32mc:\\Users\\danie\\OneDrive\\7 - Estudos\\3 - MBA USP 2022\\6 - TCC\\Code\\GovBrProcurement\\venv\\Lib\\site-packages\\torch\\nn\\modules\\module.py:1527\u001b[0m, in \u001b[0;36mModule._call_impl\u001b[1;34m(self, *args, **kwargs)\u001b[0m\n\u001b[0;32m   1522\u001b[0m \u001b[38;5;66;03m# If we don't have any hooks, we want to skip the rest of the logic in\u001b[39;00m\n\u001b[0;32m   1523\u001b[0m \u001b[38;5;66;03m# this function, and just call forward.\u001b[39;00m\n\u001b[0;32m   1524\u001b[0m \u001b[38;5;28;01mif\u001b[39;00m \u001b[38;5;129;01mnot\u001b[39;00m (\u001b[38;5;28mself\u001b[39m\u001b[38;5;241m.\u001b[39m_backward_hooks \u001b[38;5;129;01mor\u001b[39;00m \u001b[38;5;28mself\u001b[39m\u001b[38;5;241m.\u001b[39m_backward_pre_hooks \u001b[38;5;129;01mor\u001b[39;00m \u001b[38;5;28mself\u001b[39m\u001b[38;5;241m.\u001b[39m_forward_hooks \u001b[38;5;129;01mor\u001b[39;00m \u001b[38;5;28mself\u001b[39m\u001b[38;5;241m.\u001b[39m_forward_pre_hooks\n\u001b[0;32m   1525\u001b[0m         \u001b[38;5;129;01mor\u001b[39;00m _global_backward_pre_hooks \u001b[38;5;129;01mor\u001b[39;00m _global_backward_hooks\n\u001b[0;32m   1526\u001b[0m         \u001b[38;5;129;01mor\u001b[39;00m _global_forward_hooks \u001b[38;5;129;01mor\u001b[39;00m _global_forward_pre_hooks):\n\u001b[1;32m-> 1527\u001b[0m     \u001b[38;5;28;01mreturn\u001b[39;00m \u001b[43mforward_call\u001b[49m\u001b[43m(\u001b[49m\u001b[38;5;241;43m*\u001b[39;49m\u001b[43margs\u001b[49m\u001b[43m,\u001b[49m\u001b[43m \u001b[49m\u001b[38;5;241;43m*\u001b[39;49m\u001b[38;5;241;43m*\u001b[39;49m\u001b[43mkwargs\u001b[49m\u001b[43m)\u001b[49m\n\u001b[0;32m   1529\u001b[0m \u001b[38;5;28;01mtry\u001b[39;00m:\n\u001b[0;32m   1530\u001b[0m     result \u001b[38;5;241m=\u001b[39m \u001b[38;5;28;01mNone\u001b[39;00m\n",
      "File \u001b[1;32mc:\\Users\\danie\\OneDrive\\7 - Estudos\\3 - MBA USP 2022\\6 - TCC\\Code\\GovBrProcurement\\venv\\Lib\\site-packages\\transformers\\models\\bert\\modeling_bert.py:238\u001b[0m, in \u001b[0;36mBertEmbeddings.forward\u001b[1;34m(self, input_ids, token_type_ids, position_ids, inputs_embeds, past_key_values_length)\u001b[0m\n\u001b[0;32m    236\u001b[0m \u001b[38;5;28;01mif\u001b[39;00m \u001b[38;5;28mself\u001b[39m\u001b[38;5;241m.\u001b[39mposition_embedding_type \u001b[38;5;241m==\u001b[39m \u001b[38;5;124m\"\u001b[39m\u001b[38;5;124mabsolute\u001b[39m\u001b[38;5;124m\"\u001b[39m:\n\u001b[0;32m    237\u001b[0m     position_embeddings \u001b[38;5;241m=\u001b[39m \u001b[38;5;28mself\u001b[39m\u001b[38;5;241m.\u001b[39mposition_embeddings(position_ids)\n\u001b[1;32m--> 238\u001b[0m     \u001b[43membeddings\u001b[49m\u001b[43m \u001b[49m\u001b[38;5;241;43m+\u001b[39;49m\u001b[38;5;241;43m=\u001b[39;49m\u001b[43m \u001b[49m\u001b[43mposition_embeddings\u001b[49m\n\u001b[0;32m    239\u001b[0m embeddings \u001b[38;5;241m=\u001b[39m \u001b[38;5;28mself\u001b[39m\u001b[38;5;241m.\u001b[39mLayerNorm(embeddings)\n\u001b[0;32m    240\u001b[0m embeddings \u001b[38;5;241m=\u001b[39m \u001b[38;5;28mself\u001b[39m\u001b[38;5;241m.\u001b[39mdropout(embeddings)\n",
      "\u001b[1;31mRuntimeError\u001b[0m: The size of tensor a (18577) must match the size of tensor b (512) at non-singleton dimension 1"
     ]
    }
   ],
   "source": [
    "import torch\n",
    "from transformers import AutoTokenizer,AutoModelForPreTraining, AutoModel, pipeline, BertTokenizer\n",
    "from torch.nn import functional as F\n",
    "import sqlite3\n",
    "\n",
    "con = sqlite3.connect(\"scraped.db\", timeout=50)\n",
    "cur = con.cursor()\n",
    "cur.execute(\"SELECT OCR_RAW FROM FILES LIMIT 1\", ())\n",
    "\n",
    "rows = cur.fetchall()\n",
    "test = rows[0][0]\n",
    "#print(test)\n",
    "\n",
    "complement = '\\nO texto acima trata-se de uma licitação [MASK].'\n",
    "\n",
    "sentence = test + complement\n",
    "MAX_LENGTH = 512000\n",
    "model = AutoModelForPreTraining.from_pretrained('neuralmind/bert-large-portuguese-cased')\n",
    "tokenizer = BertTokenizer.from_pretrained('neuralmind/bert-base-portuguese-cased')\n",
    "\n",
    "df_token = tokenizer.batch_encode_plus([sentence], return_tensors='pt' , padding=True, max_length=MAX_LENGTH)\n",
    "\n",
    "print(df_token)"
   ]
  },
  {
   "cell_type": "code",
   "execution_count": 16,
   "metadata": {},
   "outputs": [],
   "source": [
    "x = torch.stack((df_token['input_ids'], df_token['attention_mask']), dim=0)"
   ]
  },
  {
   "cell_type": "code",
   "execution_count": 17,
   "metadata": {},
   "outputs": [
    {
     "data": {
      "text/plain": [
       "{'input_ids': tensor([[  101, 17715,  4790,  ...,   103,   119,   102]]), 'token_type_ids': tensor([[0, 0, 0,  ..., 0, 0, 0]]), 'attention_mask': tensor([[1, 1, 1,  ..., 1, 1, 1]])}"
      ]
     },
     "execution_count": 17,
     "metadata": {},
     "output_type": "execute_result"
    }
   ],
   "source": [
    "df_token"
   ]
  },
  {
   "cell_type": "code",
   "execution_count": 1,
   "metadata": {},
   "outputs": [
    {
     "name": "stderr",
     "output_type": "stream",
     "text": [
      "c:\\Users\\danie\\OneDrive\\7 - Estudos\\3 - MBA USP 2022\\6 - TCC\\Code\\GovBrProcurement\\venv\\Lib\\site-packages\\tqdm\\auto.py:21: TqdmWarning: IProgress not found. Please update jupyter and ipywidgets. See https://ipywidgets.readthedocs.io/en/stable/user_install.html\n",
      "  from .autonotebook import tqdm as notebook_tqdm\n",
      "Some weights of BertForQuestionAnswering were not initialized from the model checkpoint at neuralmind/bert-base-portuguese-cased and are newly initialized: ['qa_outputs.weight', 'qa_outputs.bias']\n",
      "You should probably TRAIN this model on a down-stream task to be able to use it for predictions and inference.\n"
     ]
    },
    {
     "name": "stdout",
     "output_type": "stream",
     "text": [
      "Resposta 1: \n",
      "Resposta 2: \n"
     ]
    },
    {
     "name": "stderr",
     "output_type": "stream",
     "text": [
      "Some weights of BertForQuestionAnswering were not initialized from the model checkpoint at neuralmind/bert-base-portuguese-cased and are newly initialized: ['qa_outputs.weight', 'qa_outputs.bias']\n",
      "You should probably TRAIN this model on a down-stream task to be able to use it for predictions and inference.\n"
     ]
    },
    {
     "name": "stdout",
     "output_type": "stream",
     "text": [
      "Resposta 1: \n",
      "Resposta 2: \n"
     ]
    }
   ],
   "source": [
    "from transformers import BertTokenizer, BertForQuestionAnswering\n",
    "import torch\n",
    "\n",
    "def responder_perguntas_bert(texto, perguntas):\n",
    "    tokenizer = BertTokenizer.from_pretrained('neuralmind/bert-base-portuguese-cased')\n",
    "    model = BertForQuestionAnswering.from_pretrained('neuralmind/bert-base-portuguese-cased')\n",
    "\n",
    "    respostas = {}\n",
    "\n",
    "    for i, pergunta in enumerate(perguntas, start=1):\n",
    "        inputs = tokenizer(texto, pergunta, return_tensors=\"pt\")\n",
    "        outputs = model(**inputs)\n",
    "        answer_start = torch.argmax(outputs.start_logits)\n",
    "        answer_end = torch.argmax(outputs.end_logits) + 1\n",
    "        resposta = tokenizer.convert_tokens_to_string(tokenizer.convert_ids_to_tokens(inputs[\"input_ids\"][0][answer_start:answer_end]))\n",
    "\n",
    "        respostas[f\"Resposta {i}\"] = resposta\n",
    "\n",
    "    return respostas\n",
    "\n",
    "# Exemplos\n",
    "input1 = \"O objetivo da licitação é: Aquisição de 02 bebedouros para a Escola Maria Medeiros.\"\n",
    "perguntas1 = [\n",
    "    \"Qual secretaria solicitou a compra de materiais?\",\n",
    "    \"Quais produtos e/ou serviços estão listados no objetivo da licitação e qual a sua quantidade?\"\n",
    "]\n",
    "\n",
    "respostas1 = responder_perguntas_bert(input1, perguntas1)\n",
    "for pergunta, resposta in respostas1.items():\n",
    "    print(f\"{pergunta}: {resposta}\")\n",
    "\n",
    "input2 = \"O objetivo da licitação é: Aquisição de 04 cortadores de grama 6,5 HP para a Secretária de Obras e urbanização e 01 lavadora profissional de alta pressão com funcionamento por pistão para a Escola Municipal Elmira Rodrigues.\"\n",
    "perguntas2 = [\n",
    "    \"Qual secretaria solicitou a compra de materiais?\",\n",
    "    \"Quais produtos e serviços estão listados no objetivo da licitação?\"\n",
    "]\n",
    "\n",
    "respostas2 = responder_perguntas_bert(input2, perguntas2)\n",
    "for pergunta, resposta in respostas2.items():\n",
    "    print(f\"{pergunta}: {resposta}\")"
   ]
  },
  {
   "cell_type": "code",
   "execution_count": 2,
   "metadata": {},
   "outputs": [],
   "source": [
    "from transformers import BertTokenizer, BertForQuestionAnswering\n",
    "from torch.utils.data import DataLoader, Dataset\n",
    "import torch\n",
    "\n",
    "class QADataset(Dataset):\n",
    "    def __init__(self, texts, questions, answers):\n",
    "        self.texts = texts\n",
    "        self.questions = questions\n",
    "        self.answers = answers\n",
    "\n",
    "    def __len__(self):\n",
    "        return len(self.texts)\n",
    "\n",
    "    def __getitem__(self, idx):\n",
    "        return {\n",
    "            \"text\": self.texts[idx],\n",
    "            \"question\": self.questions[idx],\n",
    "            \"answer\": self.answers[idx]\n",
    "        }"
   ]
  },
  {
   "cell_type": "markdown",
   "metadata": {},
   "source": [
    "# Usando o Gemini\n",
    "A partir deste ponto ficou claro que o uso de uma LLM mais atualizado deveria ser usado para o proejto. Com isso iniciaram-se os testes com o Gemini."
   ]
  },
  {
   "cell_type": "markdown",
   "metadata": {},
   "source": [
    "## Gemini via web\n",
    "Inicialmente os testes foram feitos diretamente na versão web do site __[Gemini App](https://gemini.google.com/app)__."
   ]
  },
  {
   "cell_type": "markdown",
   "metadata": {},
   "source": [
    "O prompt inicial foi:\n",
    "```\n",
    "Irei te passar alguns textos e preciso que extraia deles qual produto ou serviço está sendo licitado e qual o orgão que o solicitou. É possível que uma das duas informações estejam ausentes no texto. Se isso ocorrer informe apenas \"Não informado\". Responda diretamente e separe a primeira parte da pergunta da segunda com ponto e vírcula (semicolon).\n",
    "Alguma dúvida ou podemos começar?\n",
    "```\n",
    "Trazendo como resultado:\n",
    "```\n",
    "Sem dúvidas, podemos começar! Aguardo os textos para que eu possa extrair as informações sobre produtos ou serviços licitados e o órgão responsável pela licitação. \n",
    "\n",
    "**Lembre-se:**\n",
    "\n",
    "* Se o texto não mencionar o produto ou serviço, responderei \"**Produto/Serviço não informado**\".\n",
    "* Se o texto não mencionar o órgão solicitante, responderei \"**Órgão solicitante não informado**\".\n",
    "\n",
    "**Exemplo de resposta:**\n",
    "\n",
    "* **Produto/Serviço:** [Nome do produto ou serviço]\n",
    "* **Órgão solicitante:** [Nome do órgão]\n",
    "\n",
    "**Formato de envio dos textos:**\n",
    "\n",
    "* Você pode enviar os textos um por um ou todos de uma vez.\n",
    "* Se enviar um por um, basta colar o texto na caixa de diálogo.\n",
    "* Se enviar todos de uma vez, pode enviar um arquivo de texto (.txt) ou um documento do Google Docs.\n",
    "\n",
    "**Pronto para começar?**\n",
    "\n",
    "Envie os textos quando estiver pronto e farei a extração das informações o mais rápido possível.\n",
    "\n",
    "```"
   ]
  },
  {
   "cell_type": "markdown",
   "metadata": {},
   "source": [
    "Em seguida a seguinte prompt foi passada:\n",
    "```\n",
    "Aquisição de motor usado para o veículo caminhão Ford - Cargo - frota 1503 modelo: Cummins nº 30.441945 série: C 320CV, da Secretaria Municipal de Obras, Viação e Serviços Públicos.\n",
    " Registro de preços, para futura e eventual aquisição de kit de alimentação social, para a Secretaria Municipal de Assistência e Desenvolvimento Social. \n",
    " (... outros 21 'campos objetos' foram passados)\n",
    "```\n",
    "E o retorno foi:\n",
    "```\n",
    "Extração de informações de licitações\n",
    "1. Motor usado para caminhão Ford Cargo\n",
    "\n",
    "Produto/Serviço: Motor usado\n",
    "Órgão solicitante: Secretaria de Obras, Viação e Serviços Públicos\n",
    "2. Kit de alimentação social\n",
    "\n",
    "Produto/Serviço: Kit de alimentação social\n",
    "Órgão solicitante: Secretaria de Assistência e Desenvolvimento Social\n",
    "\n",
    "(... outros 21 campos com a mesma formatação)\n",
    "```"
   ]
  },
  {
   "attachments": {
    "image.png": {
     "image/png": "[encoded data removed]"
    }
   },
   "cell_type": "markdown",
   "metadata": {},
   "source": [
    "Por fim, poi passado:\n",
    "\n",
    "```\n",
    "Poderia tabular estes dados em 2 colunas uma para cada resposta?\n",
    "```\n",
    "O que retornou o seguinte:\n",
    "\n",
    "![image.png](attachment:image.png)\n",
    "\n",
    "```(e outros 21 itens com a mesma formatação)```"
   ]
  },
  {
   "cell_type": "markdown",
   "metadata": {},
   "source": [
    "## Gemini API\n",
    "Com isso pode-se constatar que o modelo poderia ser capaz de apresentar os resultados esperados.\n",
    "\n",
    "Desta forma iniciaram-se os testes com a API descritos nesta seção do notebook."
   ]
  },
  {
   "cell_type": "markdown",
   "metadata": {},
   "source": [
    "### Tentativa 1"
   ]
  },
  {
   "cell_type": "code",
   "execution_count": 6,
   "metadata": {},
   "outputs": [],
   "source": [
    "import google.generativeai as genai\n",
    "import json\n",
    "\n",
    "with open('config.json') as config_file:\n",
    "    paths = json.load(config_file)\n",
    "\n",
    "API_KEY = paths['genai_key']\n",
    "# https://aistudio.google.com/app/apikey\n",
    "genai.configure(api_key=API_KEY)\n",
    "\n",
    "model = genai.GenerativeModel('gemini-pro')"
   ]
  },
  {
   "cell_type": "code",
   "execution_count": 5,
   "metadata": {},
   "outputs": [
    {
     "name": "stdout",
     "output_type": "stream",
     "text": [
      "Claro, podemos começar. Não hesite em me informar se tiver alguma dúvida.\n",
      "\n",
      "| Produto ou Serviço | Órgão Solicitante |\n",
      "|---|---|\n",
      "| Não informado | Prefeitura Municipal de São Paulo |\n",
      "| Computadores e notebooks | Universidade Federal do Rio de Janeiro |\n",
      "| Material de escritório | Secretaria de Estado da Saúde do Paraná |\n",
      "| Veículos automotores | Departamento Estadual de Trânsito de Minas Gerais |\n",
      "| Serviços de limpeza e conservação | Hospital das Clínicas da Universidade de São Paulo |\n",
      "| Obras de construção civil | Governo do Estado do Rio Grande do Sul |\n",
      "| Equipamentos médicos | Ministério da Saúde |\n",
      "| Móveis e utensílios | Câmara Municipal de Curitiba |\n",
      "| Serviços de TI | Tribunal de Justiça do Estado de São Paulo |\n",
      "| Materiais de construção | Prefeitura Municipal de Salvador |\n",
      "| Serviços de engenharia | Departamento Nacional de Infraestrutura de Transportes |\n",
      "| Material esportivo | Secretaria de Estado da Educação do Rio de Janeiro |\n",
      "| Serviços de manutenção e reparos | Companhia Paulista de Trens Metropolitanos |\n",
      "| Equipamentos de segurança | Polícia Militar do Estado de São Paulo |\n",
      "| Materiais de higiene e limpeza | Secretaria de Estado da Saúde do Amazonas |\n"
     ]
    }
   ],
   "source": [
    "context_prompt = 'Irei te passar alguns textos e preciso que extraia deles qual produto ou serviço está sendo licitado e qual o órgão que o solicitou. É possível que uma das duas informações estejam ausentes no texto. Se isso ocorrer informe apenas \"Não informado\". As respostas precisam estar tabeladas uma coluna para cada pergunta. Alguma dúvida ou podemos começar?'\n",
    "response = model.generate_content(context_prompt)\n",
    "print(response.text)"
   ]
  },
  {
   "cell_type": "code",
   "execution_count": 7,
   "metadata": {},
   "outputs": [
    {
     "name": "stdout",
     "output_type": "stream",
     "text": [
      "<google.generativeai.types.generation_types.GenerateContentResponse object at 0x00000247AD227D50>\n",
      "* Aquisição de motor usado para o veículo caminhão Ford - Cargo - frota 1503 modelo: Cummins nº 30.441945 série: C 320CV, da Secretaria Municipal de Obras, Viação e Serviços Públicos.\n",
      "\n",
      "* Registro de preços, para futura e eventual aquisição de kit de alimentação social, para a Secretaria Municipal de Assistência e Desenvolvimento Social.\n",
      "\n",
      "* Aquisição de 2000 brinquedos (super giro pião com laçador), para distribuição às crianças em comemoração ao Natal, pela Secretaria Municipal de Assistência e Desenvolvimento Social.\n",
      "\n",
      "* Registro de preços, pelo prazo de 12 meses, para futura e eventual aquisição de suplementos e fórmulas especiais para pacientes com deficiência e tratamento de câncer atendidos pela Secretaria Municipal de Saúde.\n"
     ]
    }
   ],
   "source": [
    "Test_prompt = []\n",
    "\n",
    "Test_prompt.append(\"Aquisição de motor usado para o veículo caminhão Ford - Cargo - frota 1503 modelo: Cummins nº 30.441945 série: C 320CV, da Secretaria Municipal de Obras, Viação e Serviços Públicos.\")\n",
    "Test_prompt.append(\"Registro de preços, para futura e eventual aquisição de kit de alimentação social, para a Secretaria Municipal de Assistência e Desenvolvimento Social.\")\n",
    "Test_prompt.append(\"Aquisição de 2000 brinquedos (super giro pião com laçador), para distribuição às crianças em comemoração ao Natal, pela Secretaria Municipal de Assistência e Desenvolvimento Social.\")\n",
    "Test_prompt.append(\"Registro de preços, pelo prazo de 12 meses, para futura e eventual aquisição de suplementos e fórmulas especiais para pacientes com deficiência e tratamento de câncer atendidos pela Secretaria Municipal de Saúde.\")\n",
    "\n",
    "response = model.generate_content(Test_prompt)\n",
    "print(response.text)"
   ]
  },
  {
   "cell_type": "markdown",
   "metadata": {},
   "source": [
    "Como o resultado não foi o esperado, foram alimentados manualmente 10 itens como exemplo no banco de dados"
   ]
  },
  {
   "cell_type": "code",
   "execution_count": 4,
   "metadata": {},
   "outputs": [],
   "source": [
    "list_id = ['27/2023/6', '26/2023/6', '25/2023/6', '24/2023/6', '23/2023/6']\n",
    "list_new_ex1 = ['Internet com link dedicado', 'Puxadores para janelas tipo “Maxim ar”', 'Relógio protocolador eletrônico', 'Serviços de Saúde e Segurança do Trabalho', 'Refrigeradores tipo frigobar']\n",
    "list_new_ex2 = ['Não informado', 'Não informado', 'Não informado', 'Não informado', 'Não informado']\n",
    "cw_ponta_grossa.update_procurements_filed('Extra1', list_id, list_new_ex1) #4119905\n",
    "cw_ponta_grossa.update_procurements_filed('Extra2', list_id, list_new_ex2) #4119905\n",
    "\n",
    "\n",
    "list_id = ['95/2023/7', '95/2023/6', '93/2023/7', '94/2023/6', '92/2023/7']\n",
    "list_new_ex1 = ['Motor usado para o veículo caminhão Ford', 'Kit de alimentação social', 'Brinquedos (super giro pião com laçador)', 'Suplementos e fórmulas especiais para pacientes com deficiência e tratamento de câncer', 'Serviço de caminhão munk']\n",
    "list_new_ex2 = ['Secretaria Municipal de Obras, Viação e Serviços Públicos', 'Secretaria Municipal de Assistência e Desenvolvimento Social', 'Secretaria Municipal de Assistência e Desenvolvimento Social', 'Secretaria Municipal de Saúde', 'Secretaria de Obras e Urbanização']\n",
    "cw_eng_beltrao.update_procurements_filed('extra1', list_id, list_new_ex1) #4107504\n",
    "cw_eng_beltrao.update_procurements_filed('extra2', list_id, list_new_ex2) #4107504"
   ]
  },
  {
   "cell_type": "markdown",
   "metadata": {},
   "source": [
    "### Tentativa 2\n",
    "Agora podemos ajustar a prompt passando os exemplos registrados no banco de dados."
   ]
  },
  {
   "cell_type": "code",
   "execution_count": 10,
   "metadata": {},
   "outputs": [
    {
     "data": {
      "text/plain": [
       "[(4119905,\n",
       "  '23/2023/6',\n",
       "  2023,\n",
       "  6,\n",
       "  23,\n",
       "  '... a “aquisição de 08(oito) refrigeradores tipo FRIGOBAR”, ...',\n",
       "  'Refrigeradores tipo frigobar',\n",
       "  'Não informado'),\n",
       " (4119905,\n",
       "  '24/2023/6',\n",
       "  2023,\n",
       "  6,\n",
       "  24,\n",
       "  'Contratação de empresa especializada para Prestação de Serviços de Saúde e Segurança do Trabalho ...',\n",
       "  'Serviços de Saúde e Segurança do Trabalho',\n",
       "  'Não informado'),\n",
       " (4119905,\n",
       "  '25/2023/6',\n",
       "  2023,\n",
       "  6,\n",
       "  25,\n",
       "  '... contratação de empresa habilitada para fornecimento de “01 (um) RELÓGIO PROTOCOLADOR ELETRÔNICO”',\n",
       "  'Relógio protocolador eletrônico',\n",
       "  'Não informado'),\n",
       " (4119905,\n",
       "  '26/2023/6',\n",
       "  2023,\n",
       "  6,\n",
       "  26,\n",
       "  '... fornecimento de “PUXADORES PARA JANELAS TIPO “MAXIM AR”,...',\n",
       "  'Puxadores para janelas tipo “Maxim ar”',\n",
       "  'Não informado'),\n",
       " (4119905,\n",
       "  '27/2023/6',\n",
       "  2023,\n",
       "  6,\n",
       "  27,\n",
       "  'Serviços de Internet com link dedicado para o Prédio Sede da CMPG.',\n",
       "  'Internet com link dedicado',\n",
       "  'Não informado'),\n",
       " (4107504,\n",
       "  '92/2023/7',\n",
       "  2023,\n",
       "  7,\n",
       "  92,\n",
       "  'Contratação de serviço de caminhão munk para serviços necessários na secretaria de obras e urbanização, tais como transporte de calhetão da fábrica de tubos ao lixão e troca de lâmpadas de super postes.',\n",
       "  'Serviço de caminhão munk',\n",
       "  'Secretaria de Obras e Urbanização'),\n",
       " (4107504,\n",
       "  '93/2023/7',\n",
       "  2023,\n",
       "  7,\n",
       "  93,\n",
       "  'Aquisição de 2000 brinquedos (super giro pião com laçador), para distribuição às crianças em comemoração ao Natal, pela Secretaria Municipal de Assistência e Desenvolvimento Social.',\n",
       "  'Brinquedos (super giro pião com laçador)',\n",
       "  'Secretaria Municipal de Assistência e Desenvolvimento Social'),\n",
       " (4107504,\n",
       "  '94/2023/6',\n",
       "  2023,\n",
       "  6,\n",
       "  94,\n",
       "  'Registro de preços, pelo prazo de 12 meses, para futura e eventual aquisição de suplementos e fórmulas especiais para pacientes com deficiência e tratamento de câncer atendidos pela Secretaria Municipal de Saúde.',\n",
       "  'Suplementos e fórmulas especiais para pacientes com deficiência e tratamento de câncer',\n",
       "  'Secretaria Municipal de Saúde'),\n",
       " (4107504,\n",
       "  '95/2023/6',\n",
       "  2023,\n",
       "  6,\n",
       "  95,\n",
       "  ' Registro de preços, para futura e eventual aquisição de kit de alimentação social, para a Secretaria Municipal de Assistência e Desenvolvimento Social. ',\n",
       "  'Kit de alimentação social',\n",
       "  'Secretaria Municipal de Assistência e Desenvolvimento Social'),\n",
       " (4107504,\n",
       "  '95/2023/7',\n",
       "  2023,\n",
       "  7,\n",
       "  95,\n",
       "  'Aquisição de motor usado para o veículo caminhão Ford - Cargo - frota 1503 modelo: Cummins nº 30.441945 série: C 320CV, da Secretaria Municipal de Obras, Viação e Serviços Públicos.',\n",
       "  'Motor usado para o veículo caminhão Ford',\n",
       "  'Secretaria Municipal de Obras, Viação e Serviços Públicos')]"
      ]
     },
     "execution_count": 10,
     "metadata": {},
     "output_type": "execute_result"
    }
   ],
   "source": [
    "sample1 = cw_ponta_grossa.query_produrements_goal(limit=10, fields='extra1, extra2', filter=\"extra1 <> ''\")\n",
    "sample2 = cw_eng_beltrao.query_produrements_goal(limit=10, fields='extra1, extra2', filter=\"extra1 <> ''\")\n",
    "sample1.extend(sample2)\n",
    "sample1"
   ]
  },
  {
   "cell_type": "code",
   "execution_count": 24,
   "metadata": {},
   "outputs": [
    {
     "name": "stdout",
     "output_type": "stream",
     "text": [
      "Irei te passar alguns textos e preciso que extraia deles qual produto ou serviço está sendo licitado e qual o órgão que o solicitou.\n",
      "É possível que uma das duas informações estejam ausentes no texto. Se isso ocorrer informe apenas \"Não informado\".\n",
      "As respostas precisam estar tabeladas uma coluna para cada item, separadas por pipe sem cabeçalho, informando na primeira coluna o id.\n",
      "Segue abaixo 10 inputs de exemplo:\n",
      "\n",
      "\"... a “aquisição de 08(oito) refrigeradores tipo FRIGOBAR”, ...\"\n",
      "\"Contratação de empresa especializada para Prestação de Serviços de Saúde e Segurança do Trabalho ...\"\n",
      "\"... contratação de empresa habilitada para fornecimento de “01 (um) RELÓGIO PROTOCOLADOR ELETRÔNICO”\"\n",
      "\"... fornecimento de “PUXADORES PARA JANELAS TIPO “MAXIM AR”,...\"\n",
      "\"Serviços de Internet com link dedicado para o Prédio Sede da CMPG.\"\n",
      "\"Contratação de serviço de caminhão munk para serviços necessários na secretaria de obras e urbanização, tais como transporte de calhetão da fábrica de tubos ao lixão e troca de lâmpadas de super postes.\"\n",
      "\"Aquisição de 2000 brinquedos (super giro pião com laçador), para distribuição às crianças em comemoração ao Natal, pela Secretaria Municipal de Assistência e Desenvolvimento Social.\"\n",
      "\"Registro de preços, pelo prazo de 12 meses, para futura e eventual aquisição de suplementos e fórmulas especiais para pacientes com deficiência e tratamento de câncer atendidos pela Secretaria Municipal de Saúde.\"\n",
      "\" Registro de preços, para futura e eventual aquisição de kit de alimentação social, para a Secretaria Municipal de Assistência e Desenvolvimento Social. \"\n",
      "\"Aquisição de motor usado para o veículo caminhão Ford - Cargo - frota 1503 modelo: Cummins nº 30.441945 série: C 320CV, da Secretaria Municipal de Obras, Viação e Serviços Públicos.\"\n",
      "\n",
      "E o output deve ser:\n",
      "\n",
      "\"Refrigeradores tipo frigobar\"|\"Não informado\"\n",
      "\"Serviços de Saúde e Segurança do Trabalho\"|\"Não informado\"\n",
      "\"Relógio protocolador eletrônico\"|\"Não informado\"\n",
      "\"Puxadores para janelas tipo “Maxim ar”\"|\"Não informado\"\n",
      "\"Internet com link dedicado\"|\"Não informado\"\n",
      "\"Serviço de caminhão munk\"|\"Secretaria de Obras e Urbanização\"\n",
      "\"Brinquedos (super giro pião com laçador)\"|\"Secretaria Municipal de Assistência e Desenvolvimento Social\"\n",
      "\"Suplementos e fórmulas especiais para pacientes com deficiência e tratamento de câncer\"|\"Secretaria Municipal de Saúde\"\n",
      "\"Kit de alimentação social\"|\"Secretaria Municipal de Assistência e Desenvolvimento Social\"\n",
      "\"Motor usado para o veículo caminhão Ford\"|\"Secretaria Municipal de Obras, Viação e Serviços Públicos\"\n",
      "\n",
      "Posso passar os textos para extração?\n"
     ]
    }
   ],
   "source": [
    "sample = cw_ponta_grossa.query_produrements_goal(limit=10, fields='extra1, extra2', filter=\"extra1 <> ''\")\n",
    "sample2 = cw_eng_beltrao.query_produrements_goal(limit=10, fields='extra1, extra2', filter=\"extra1 <> ''\")\n",
    "sample.extend(sample2)\n",
    "\n",
    "context_prompt = 'Irei te passar alguns textos e preciso que extraia deles qual produto ou serviço está sendo licitado e qual o órgão que o solicitou.' + chr(10)\n",
    "context_prompt += 'É possível que uma das duas informações estejam ausentes no texto. Se isso ocorrer informe apenas \"Não informado\".' + chr(10)\n",
    "context_prompt += 'As respostas precisam estar tabeladas uma coluna para cada item, separadas por pipe sem cabeçalho, informando na primeira coluna o id.' + chr(10)\n",
    "context_prompt += 'Segue abaixo 10 inputs de exemplo:'  + chr(10)\n",
    "\n",
    "for objeto in sample:\n",
    "    context_prompt += chr(10) + '\"' + objeto[5].replace('\"', \"'\") + '\"'\n",
    "\n",
    "context_prompt += chr(10) + chr(10) +'E o output deve ser:' + chr(10)\n",
    "\n",
    "for objeto in sample:\n",
    "    context_prompt += chr(10) + '\"' + objeto[6].replace('\"', \"'\").replace('|', \"/\") + '\"' + '|' +  '\"' + objeto[7].replace('\"', \"'\").replace('|', \"/\") + '\"'\n",
    "\n",
    "context_prompt += chr(10) + chr(10) +'Posso passar os textos para extração?'\n",
    "\n",
    "print(context_prompt)"
   ]
  },
  {
   "cell_type": "code",
   "execution_count": 25,
   "metadata": {},
   "outputs": [
    {
     "name": "stdout",
     "output_type": "stream",
     "text": [
      "Sim, você pode passar os textos para extração. \n",
      "\n",
      "Os textos podem estar em muitos formatos diferentes. Porém, para evitar perda de dados durante o envio, recomendo que sejam enviados em formato .txt, .pdf ou .docx. Após o envio, iniciarei a extração das informações solicitadas.\n"
     ]
    }
   ],
   "source": [
    "model = genai.GenerativeModel('gemini-pro')\n",
    "\n",
    "response = model.generate_content(context_prompt)\n",
    "print(response.text)"
   ]
  },
  {
   "cell_type": "markdown",
   "metadata": {},
   "source": []
  },
  {
   "cell_type": "code",
   "execution_count": 26,
   "metadata": {},
   "outputs": [
    {
     "name": "stdout",
     "output_type": "stream",
     "text": [
      "- CONTRATAÇÃO DE EMPRESA HABILITADA NO FORNECIMENTO DO OBJETO MATERIAL DE MANUTENÇÃO (LOTE 01 TINTAS E LOTE 02 ESCADAS)\n",
      "\n",
      "\n",
      "- 98,60 METROS QUADRADOS DE PELÍCULA ESPELHADA DE PROTEÇÃO SOLAR (INSULFILM) COM GARANTIA DE DOIS ANOS, INCLUINDO SERVIÇO DE REMOÇÃO DO ANTIGO E NOVA COLOCAÇÃO.\n",
      "\n",
      "\n",
      "- REVISÃO DE VEÍCULOS\n",
      "\n",
      "\n",
      "- Material de Consumo - Lote 01 (Gêneros alimentícios) e Lote 02 (Copa e Cozinha)\n",
      "\n",
      "\n",
      "- Carimbos auto entintados\n",
      "\n",
      "\n",
      "- Contratação de treinamento do módulo de Folha de Pagamento do Sistema de Gestão Pública para o servidor Norberto Ceccato.\n",
      "\n",
      "\n",
      "- CONTRATAÇÃO DE EMPRESA HABILITADA PARA FORNECER VALE CARGA PARA BOTIJÃO DE GÁS LIQUEFEITO DE PETRÓLEO - 13 KG - COM VASILHAME A BASE DE TROCA, PARA ATENDER A DEMANDA DA CÂMARA MUNICIPAL DE PONTA GROSSA, DE FORMA CONTÍNUA, POR UM PERÍODO DE 12 (DOZE) MESES, CONFORME ANEXO I DO EDITAL.\n",
      "\n",
      "\n",
      "- CONTRATAÇÃO DE EMPRESA ESPECIALIZADA PARA PRESTAÇÃO DE SERVIÇOS DE MANUTENÇÃO E REPAROS DO TELHADO DO PRÉDIO DA CÂMARA MUNICIPAL DE PONTA GROSSA.\n",
      "\n",
      "\n",
      "- RENOVAÇÃO DE 30 (TRINTA) ASSINATURAS ANUAIS DO \"JORNAL DA MANHÃ\"\n",
      "\n",
      "\n",
      "- CONTRATAÇÃO DE PESSOA JURÍDICA ESPECIALIZADA PARA EXECUÇÃO DE REFORMAS E ADEQUAÇÕES PARA A ACESSIBILIDADE, PREVENÇÃO E COMBATE A INCÊNDIO NO PRÉDIO DA CÂMARA MUNICIPAL DE PONTA GROSSA, CONSOANTE ESPECIFICAÇÕES DO PROJETO BÁSICO, ANEXO AO EDITAL.\n",
      "\n",
      "\n",
      "- AQUISICAO DE 4 MOTORES PARA OS VEICULOS CAMINHAO MERCEDEZ BENS Nº 24, CAMINHAO FORD CARGO Nº 20, ONIBUS Nº 46 E ONIBUS Nº 45\n",
      "\n",
      "\n",
      "- CONTRATACAO DE EMPRESA PARA EXECUCAO DE OBRAS DE AMPLIACAO E READEQUACAO DE UNIDADE BASICA DE SAUDE, NO DISTRITO DE FIGUEIRA DO OESTE, MUNICIPIO DE ENGENHEIRO BELTRAO/PR\n",
      "\n",
      "\n",
      "- ALIENACAO DE BENS MOVEIS\n",
      "\n",
      "\n",
      "- REGISTRO DE PREÇO PELO PRAZO DE 12 MESES, PARA FUTURA E EVENTUAL AQUISIÇÃO DE LEITES ESPECIAIS E SUPLEMENTOS ALIMENTARES, PARA A SECRETARIA MUNICIPAL DE SAUDE.\n",
      "\n",
      "\n",
      "- CONTRATACAO DE GRUPO MUSICAL PARA ANIMACAO DE BAILES DA TERCEIRA IDADE, COMPOSTO POR 04(QUATRO) INTEGRANTES, COM OS SEGUINTES INSTRUMENTOS: GAITA, BATERIA, GUITARRA E BAIXO, PELO PERIODO DE 09 MESES, COM A REALIZACAO DE 01(UM) BAILE POR SEMANA, COM INICIO EM 03 DE ABRIL E TERMINO EM 31 DE DEZEMBRO DE 2013\n",
      "\n",
      "\n",
      "- CONTRATAÇÃO DE PESSOA JURÍDICA ESPECIALIZADA PARA PRESTAÇÃO DE SERVIÇOS TOPOGRÁFICOS.\n",
      "\n",
      "\n",
      "- CONTRATAÇÃO DE EMPRESA PARA EXECUÇÃO DE OBRA DE CONSTRUÇÃO DE ESCOLA DE UM PAVIMENTO, COM SEIS SALAS DE AULA, COM ÁREA TOTAL DE 854M², NO DISTRITO DE SERTÃOZINHO, MUNICÍPIO DE ENGENHEIRO BELTRÃO/PR, COM RECURSOS DO FNDE, TERMO DE COMPROMISSO PAR N.º 17622/2013.\n",
      "\n",
      "\n",
      "- CONTRATAÇÃO DE EMPRESA PARA EXECUÇÃO DE OBRAS DE CONSTRUÇÃO DE ESCOLA DE 12 SALAS, COM QUADRA COBERTA, PADRÃO FNDE, COM ÁREA TOTAL DE 3.228,08M² (TERMO DE COMPROMISSO PAR N.º 23656/2014).\n",
      "\n",
      "\n",
      "- AQUISIÇÃO DE EMULSÃO ASFÁLTICA RL1C E RR2C COM FRETE INCLUSO.\n",
      "\n",
      "\n",
      "- LOCAÇÃO DE IMÓVEL PARA FUNCIONAMENTO DA SECRETARIA MUNICIPAL DE EDUCAÇÃO E ESCOLA MUNICIPAL PINGO DE GENTE\n"
     ]
    }
   ],
   "source": [
    "sample = cw_ponta_grossa.query_produrements_goal(limit=10, fields='extra1, extra2')\n",
    "sample2 = cw_eng_beltrao.query_produrements_goal(limit=10, fields='extra1, extra2')\n",
    "sample.extend(sample2)\n",
    "\n",
    "Test_prompt = [linha[5] for linha in sample]\n",
    "\n",
    "response = model.generate_content(Test_prompt)\n",
    "print(response.text)"
   ]
  },
  {
   "cell_type": "markdown",
   "metadata": {},
   "source": [
    "### Tentativa 3\n",
    "Este prompt foi usado algumas vezes e não foi possível obter um resutado consistente. Desta forma tentou-se o seguinte:"
   ]
  },
  {
   "cell_type": "code",
   "execution_count": 23,
   "metadata": {},
   "outputs": [],
   "source": [
    "sample = cw_ponta_grossa.query_produrements_goal(limit=10, fields='extra1, extra2', filter=\"extra1 <> ''\")\n",
    "sample2 = cw_eng_beltrao.query_produrements_goal(limit=10, fields='extra1, extra2', filter=\"extra1 <> ''\")\n",
    "sample.extend(sample2)\n",
    "\n",
    "context_prompt = 'Irei te passar alguns textos e preciso que extraia deles qual produto ou serviço está sendo licitado e qual o órgão que o solicitou.' + chr(10)\n",
    "context_prompt += 'É possível que uma das duas informações estejam ausentes no texto. Se isso ocorrer informe apenas \"Não informado\".' + chr(10)\n",
    "context_prompt += 'As respostas precisam estar tabeladas uma coluna para cada item, separadas por pipe sem cabeçalho, informando na primeira coluna o id.' + chr(10)\n",
    "context_prompt += 'Segue abaixo 10 inputs de exemplo:'  + chr(10)\n",
    "\n",
    "for objeto in sample:\n",
    "    context_prompt += chr(10) + objeto[5]\n",
    "\n",
    "context_prompt += chr(10) + chr(10) +'E o output deve ser:' + chr(10) + chr(10)\n",
    "\n",
    "context_prompt += '| Produto ou Serviço | Órgão Solicitante |' + chr(10) + '|---|---|'\n",
    "\n",
    "for objeto in sample:\n",
    "    context_prompt += chr(10) + '| ' + objeto[6].replace('|', \"/\") + ' | ' +  objeto[7].replace('|', \"/\") + ' |'\n",
    "\n",
    "context_prompt += chr(10) + chr(10) +'Posso passar os textos para extração?'"
   ]
  },
  {
   "cell_type": "code",
   "execution_count": 24,
   "metadata": {},
   "outputs": [
    {
     "name": "stdout",
     "output_type": "stream",
     "text": [
      "| Produto ou Serviço | Órgão Solicitante |\n",
      "|---|---|\n",
      "| 08(oito) refrigeradores tipo FRIGOBAR | Não informado |\n",
      "| Serviço de caminhão munk | Secretaria de obras e urbanização |\n",
      "| aquisição de materiais necessários ao desenvolvimento das atividades da saúde pública | Núcleo de Promoção e Apoio à Saúde da População Indígena |\n",
      "| prestação de serviços de execução e entrega de materiais para obras de recuperação do desbarrancado no Rio Panambi, 1ª etapa | Prefeitura Municipal de Morpará |\n",
      "| construção de 400 casas populares | Não informado |\n",
      "| Implantação da rede de distribuição de água tratada, zona rural e urbana | Prefeitura Municipal de Frecheirinha |\n",
      "| Empregados do setor de Transporte de cargas | Sindicato dos Trabalhos de Motoristas de Caminhões de Carga do Estado do Ceará |\n",
      "| Transporte rodoviário de passageiros que realizam a linha Arari (MA) a Araioses (MA) | Não informado |\n",
      "| Alimentação Escolar | Órgãos componentes do Sistema Nacional de Assistência Social |\n",
      "| Construção de pontes e passagens molhadas | Prefeitura Municipal de Olinda |\n",
      "| Serviços de varrição, roçagem e coleta de entulho | Prefeitura Municipal de Araçaré |\n",
      "| Execução do projeto de tratamento e disposição final dos resíduosos sólidos | Prefeitura Municipal de Itaporaio |\n",
      "| Aquisição de móveis diversos para as escolas | Prefeitura Municipal de Itaiópolis |\n",
      "| Aquisição de materiais de construção | Prefeitura Municipal de Campos do Jordão |\n",
      "| Realização do evento \"Rally dos Lagos\" | Prefeitura Municipal de Jurema |\n",
      "| Serviços funerários | Prefeitura Municipal de Lavras |\n",
      "--------------\n",
      "- Fornecimento de material de manutenção (tintas e escadas).\n",
      "\n",
      "\n",
      "- Instalação de película espelhada de proteção solar.\n",
      "\n",
      "\n",
      "- Revisão de veículos.\n",
      "\n",
      "\n",
      "- Fornecimento de material de consumo (gêneros alimentícios e copa e cozinha).\n",
      "\n",
      "\n",
      "- Aquisição de carimbos auto entintados.\n",
      "\n",
      "\n",
      "- Treinamento do módulo de Folha de Pagamento do Sistema de Gestão Pública.\n",
      "\n",
      "\n",
      "- Fornecimento de vale carga para botijão de gás liquefeito de petróleo.\n",
      "\n",
      "\n",
      "- Manutenção e reparos do telhado do prédio da Câmara Municipal de Ponta Grossa.\n",
      "\n",
      "\n",
      "- Renovação de assinaturas anuais do \"Jornal da Manhã\".\n",
      "\n",
      "\n",
      "- Execução de reformas e adequações para a acessibilidade, prevenção e combate a incêndio no prédio da Câmara Municipal de Ponta Grossa.\n",
      "\n",
      "\n",
      "- Aquisição de motores para veículos.\n",
      "\n",
      "\n",
      "- Execução de obras de ampliação e readequação de unidade básica de saúde.\n",
      "\n",
      "\n",
      "- Alienação de bens móveis.\n",
      "\n",
      "\n",
      "- Registro de preço para futura e eventual aquisição de leites especiais e suplementos alimentares.\n",
      "\n",
      "\n",
      "- Contratação de grupo musical para animação de bailes da terceira idade.\n",
      "\n",
      "\n",
      "- Contratação de serviços topográficos.\n",
      "\n",
      "\n",
      "- Contratação de empresa para execução de obras de construção de escola de um pavimento com seis salas de aula.\n",
      "\n",
      "\n",
      "- Contratação de empresa para execução de obras de construção de escola de 12 salas, com quadra coberta, padrão FNDE.\n",
      "\n",
      "\n",
      "- Aquisição de emulsão asfáltica RL1C e RR2C com frete incluso.\n",
      "\n",
      "\n",
      "- Locação de imóvel para funcionamento da Secretaria Municipal de Educação e Escola Municipal Pingo de Gente.\n"
     ]
    }
   ],
   "source": [
    "model = genai.GenerativeModel('gemini-pro')\n",
    "\n",
    "response = model.generate_content(context_prompt)\n",
    "print(response.text)\n",
    "\n",
    "print('--------------')\n",
    "\n",
    "sample = cw_ponta_grossa.query_produrements_goal(limit=10, fields='extra1, extra2')\n",
    "sample2 = cw_eng_beltrao.query_produrements_goal(limit=10, fields='extra1, extra2')\n",
    "sample.extend(sample2)\n",
    "\n",
    "Test_prompt = [linha[5] for linha in sample]\n",
    "\n",
    "response = model.generate_content(Test_prompt)\n",
    "print(response.text)"
   ]
  },
  {
   "cell_type": "markdown",
   "metadata": {},
   "source": [
    "### Tentativa 4\n",
    "O modelo está se distancianto mais sa resposta desejada. Com base nisso verificou-se a nescessidade de criar um contexto inicial para a solicitação com a finalidade de obter-se um retorno tabulado."
   ]
  },
  {
   "cell_type": "code",
   "execution_count": 18,
   "metadata": {},
   "outputs": [],
   "source": [
    "sample = cw_ponta_grossa.query_produrements_goal(limit=1, fields='extra1, extra2', filter=\"extra1 <> ''\")\n",
    "sample2 = cw_eng_beltrao.query_produrements_goal(limit=1, fields='extra1, extra2', filter=\"extra1 <> ''\")\n",
    "sample.extend(sample2)\n",
    "\n",
    "context_prompt = 'Irei te passar alguns textos e preciso que extraia deles qual produto ou serviço está sendo licitado e qual o órgão que o solicitou.' + chr(10)\n",
    "context_prompt += 'É possível que uma das duas informações estejam ausentes no texto. Se isso ocorrer informe apenas \"Não informado\".' + chr(10)\n",
    "context_prompt += 'Segue abaixo 2 inputs de exemplo:'  + chr(10)\n",
    "\n",
    "for objeto in sample:\n",
    "    context_prompt += chr(10) + objeto[5]\n",
    "\n",
    "context_prompt += chr(10) + chr(10) +'E o output deve ser:' + chr(10) + chr(10)\n",
    "\n",
    "context_prompt += '| Produto ou Serviço | Órgão Solicitante |' + chr(10) + '|---|---|'\n",
    "\n",
    "for objeto in sample:\n",
    "    context_prompt += chr(10) + '| ' + objeto[6].replace('|', \"/\") + ' | ' +  objeto[7].replace('|', \"/\") + ' |'"
   ]
  },
  {
   "cell_type": "code",
   "execution_count": 19,
   "metadata": {},
   "outputs": [
    {
     "name": "stdout",
     "output_type": "stream",
     "text": [
      "**Texto 1:**\n",
      "... para o fornecimento e instalação de geradores de energia para atender as Secretarias de Saúde, Educação e Assistência Social do Município de Nova Andradina/MS.\n",
      "\n",
      "**Texto 2:**\n",
      "Dispõe sobre a contratação de empresa especializada no serviço de lavanderia hospitalar.\n",
      "\n",
      "\n",
      "| Produto ou Serviço | Órgão Solicitante |\n",
      "|---|---|\n",
      "| Geradores de energia | Secretarias de Saúde, Educação e Assistência Social do Município de Nova Andradina/MS |\n",
      "| Serviço de lavanderia hospitalar | Não informado |\n",
      "--------------\n",
      "- CONTRATAÇÃO DE EMPRESA HABILITADA NO FORNECIMENTO DO OBJETO MATERIAL DE MANUTENÇÃO (LOTE 01 TINTAS E LOTE 02 ESCADAS)\n",
      "- 98,60 METROS QUADRADOS DE PELÍCULA ESPELHADA DE PROTEÇÃO SOLAR (INSULFILM) COM GARANTIA DE DOIS ANOS, INCLUINDO SERVIÇO DE REMOÇÃO DO ANTIGO E NOVA COLOCAÇÃO.\n",
      "- REVISÃO DE VEÍCULOS\n",
      "- Material de Consumo - Lote 01 (Gêneros alimentícios) e Lote 02 (Copa e Cozinha)\n",
      "- Carimbos auto entintados\n",
      "- Contratação de treinamento do módulo de Folha de Pagamento do Sistema de Gestão Pública para o servidor Norberto Ceccato.\n",
      "- CONTRATAÇÃO DE EMPRESA HABILITADA PARA FORNECER VALE CARGA PARA BOTIJÃO DE GÁS LIQUEFEITO DE PETRÓLEO - 13 KG - COM VASILHAME A BASE DE TROCA, PARA ATENDER A DEMANDA DA CÂMARA MUNICIPAL DE PONTA GROSSA, DE FORMA CONTÍNUA, POR UM PERÍODO DE 12 (DOZE) MESES, CONFORME ANEXO I DO EDITAL.\n",
      "- CONTRATAÇÃO DE EMPRESA ESPECIALIZADA PARA PRESTAÇÃO DE SERVIÇOS DE MANUTENÇÃO E REPAROS DO TELHADO DO PRÉDIO DA CÂMARA MUNICIPAL DE PONTA GROSSA.\n",
      "- RENOVAÇÃO DE 30 (TRINTA) ASSINATURAS ANUAIS DO \"JORNAL DA MANHÃ\"\n",
      "- CONTRATAÇÃO DE PESSOA JURÍDICA ESPECIALIZADA PARA EXECUÇÃO DE REFORMAS E ADEQUAÇÕES PARA A ACESSIBILIDADE, PREVENÇÃO E COMBATE A INCÊNDIO NO PRÉDIO DA CÂMARA MUNICIPAL DE PONTA GROSSA, CONSOANTE ESPECIFICAÇÕES DO PROJETO BÁSICO,  ANEXO AO EDITAL.\n",
      "- AQUISICAO DE 4 MOTORES PARA OS VEICULOS CAMINHAO MERCEDEZ BENS Nº 24, CAMINHAO FORD CARGO Nº 20, ONIBUS Nº 46 E ONIBUS Nº 45\n",
      "- CONTRATACAO DE EMPRESA PARA EXECUCAO DE OBRAS DE AMPLIACAO E READEQUACAO DE UNIDADE BASICA DE SAUDE, NO DISTRITO DE FIGUEIRA DO OESTE, MUNICIPIO DE ENGENHEIRO BELTRAO/PR\n",
      "- ALIENACAO DE BENS MOVEIS\n",
      "- REGISTRO DE PREÇO PELO PRAZO DE 12 MESES, PARA FUTURA E EVENTUAL AQUISIÇÃO DE LEITES ESPECIAIS E SUPLEMENTOS ALIMENTARES, PARA A SECRETARIA MUNICIPAL DE SAUDE.\n",
      "- CONTRATACAO DE GRUPO MUSICAL PARA ANIMACAO DE BAILES DA TERCEIRA IDADE, COMPOSTO POR 04(QUATRO) INTEGRANTES, COM OS SEGUINTES INSTRUMENTOS: GAITA, BATERIA, GUITARRA E BAIXO, PELO PERIODO DE 09 MESES, COM A REALIZACAO DE 01(UM) BAILE POR SEMANA, COM INICIO EM 03 DE ABRIL E TERMINO EM 31 DE DEZEMBRO DE 2013\n",
      "- CONTRATAÇÃO DE PESSOA JURÍDICA ESPECIALIZADA PARA PRESTAÇÃO DE SERVIÇOS TOPOGRÁFICOS.\n",
      "- CONTRATAÇÃO DE EMPRESA PARA EXECUÇÃO DE OBRA DE CONSTRUÇÃO DE ESCOLA DE UM PAVIMENTO, COM SEIS SALAS DE AULA, COM ÁREA TOTAL DE 854M², NO DISTRITO DE SERTÃOZINHO, MUNICÍPIO DE ENGENHEIRO BELTRÃO/PR, COM RECURSOS DO FNDE, TERMO DE COMPROMISSO PAR N.º 17622/2013.\n",
      "- CONTRATAÇÃO DE EMPRESA PARA EXECUÇÃO DE OBRAS DE CONSTRUÇÃO DE ESCOLA DE 12 SALAS, COM QUADRA COBERTA, PADRÃO FNDE, COM ÁREA TOTAL DE 3.228,08M² (TERMO DE COMPROMISSO PAR N.º 23656/2014).\n",
      "- AQUISIÇÃO DE EMULSÃO ASFÁLTICA RL1C E RR2C COM FRETE INCLUSO.\n",
      "- LOCAÇÃO DE IMÓVEL PARA FUNCIONAMENTO DA SECRETARIA MUNICIPAL DE EDUCAÇÃO E ESCOLA MUNICIPAL PINGO DE GENTE\n"
     ]
    }
   ],
   "source": [
    "model = genai.GenerativeModel('gemini-pro')\n",
    "\n",
    "context = model.generate_content(context_prompt)\n",
    "\n",
    "print(context.text)\n",
    "\n",
    "print('--------------')\n",
    "\n",
    "sample = cw_ponta_grossa.query_produrements_goal(limit=10, fields='extra1, extra2')\n",
    "sample2 = cw_eng_beltrao.query_produrements_goal(limit=10, fields='extra1, extra2')\n",
    "sample.extend(sample2)\n",
    "\n",
    "Test_prompt = [linha[5] for linha in sample]\n",
    "\n",
    "result = model.generate_content(Test_prompt)\n",
    "print(result.text)"
   ]
  },
  {
   "cell_type": "markdown",
   "metadata": {},
   "source": [
    "### Tentativa 5\n",
    "Após verificar a documentação do Google, pode-se entender que existem algumas funções da API que podem resulver este problema mas ainda não são públicas. Essas funções seriam ```GenerationRequest``` com o parâmetro ```format=\"table\"``` informado, ```GenerationContext``` e ```Client```.\n",
    "Com base nisso estou deduzindo que o modelo entende que a resposta dada está no formato tabela, mas alguma formatação é dada ao texto de saída após o modelo responder no formato tabela.\n",
    "Irei abandonar a ideia de responder 2 perguntas em um único prompt e quebrar elas em duas."
   ]
  },
  {
   "cell_type": "code",
   "execution_count": 45,
   "metadata": {},
   "outputs": [
    {
     "name": "stdout",
     "output_type": "stream",
     "text": [
      "value_prompt size:20\n"
     ]
    }
   ],
   "source": [
    "sample = cw_ponta_grossa.query_produrements_goal(limit=5, fields='extra1, extra2', filter=\"extra1 <> ''\")\n",
    "sample2 = cw_eng_beltrao.query_produrements_goal(limit=5, fields='extra1, extra2', filter=\"extra1 <> ''\")\n",
    "sample.extend(sample2)\n",
    "\n",
    "context_prompt1 = 'Irei te passar alguns textos e preciso que extraia deles qual produto ou serviço está sendo licitado.' + chr(10)\n",
    "context_prompt1 += 'É possível que essa informação estejam ausentes no texto. Se isso ocorrer informe apenas \"Não informado\".' + chr(10)\n",
    "context_prompt1 += 'Segue alguns inputs de exemplo:'  + chr(10)\n",
    "\n",
    "for objeto in sample:\n",
    "    context_prompt1 += chr(10) + objeto[5]\n",
    "\n",
    "context_prompt1 += chr(10) + chr(10) + 'E o output deve ser:' + chr(10)\n",
    "\n",
    "for objeto in sample:\n",
    "    context_prompt1 += chr(10) + objeto[6]\n",
    "\n",
    "context_prompt2 = 'Irei te passar alguns textos e preciso que extraia a informação de qual órgão solicitou a licitação.' + chr(10)\n",
    "context_prompt2 += 'É possível que essa informação estejam ausentes no texto. Se isso ocorrer informe apenas \"Não informado\".' + chr(10)\n",
    "context_prompt2 += 'Segue alguns inputs de exemplo:'  + chr(10)\n",
    "\n",
    "for objeto in sample:\n",
    "    context_prompt2 += chr(10) + objeto[5]\n",
    "\n",
    "context_prompt2 += chr(10) + chr(10) + 'E o output deve ser:' + chr(10)\n",
    "\n",
    "for objeto in sample:\n",
    "    context_prompt2 += chr(10) + objeto[7]\n",
    "\n",
    "sample = cw_ponta_grossa.query_produrements_goal(limit=10, fields='extra1, extra2')\n",
    "sample2 = cw_eng_beltrao.query_produrements_goal(limit=10, fields='extra1, extra2')\n",
    "sample.extend(sample2)\n",
    "\n",
    "value_prompt = [linha[5] for linha in sample]\n",
    "\n",
    "print (f'value_prompt size:{len(value_prompt)}')"
   ]
  },
  {
   "cell_type": "code",
   "execution_count": 46,
   "metadata": {},
   "outputs": [
    {
     "name": "stdout",
     "output_type": "stream",
     "text": [
      "1. “aquisição de 08(oito) refrigeradores tipo FRIGOBAR”, ...: Refrigeradores tipo frigobar\n",
      "2. Contratação de empresa especializada para Prestação de Serviços de Saúde e Segurança do Trabalho ...: Serviços de Saúde e Segurança do Trabalho\n",
      "3. ... contratação de empresa habilitada para fornecimento de “01 (um) RELÓGIO PROTOCOLADOR ELETRÔNICO”...: Relógio protocolador eletrônico\n",
      "4. ... fornecimento de “PUXADORES PARA JANELAS TIPO “MAXIM AR”,...: Puxadores para janelas tipo “Maxim ar”\n",
      "5. Serviços de Internet com link dedicado para o Prédio Sede da CMPG.: Internet com link dedicado\n",
      "6. Contratação de serviço de caminhão munk para serviços necessários na secretaria de obras e urbanização, tais como transporte de calhetão da fábrica de tubos ao lixão e troca de lâmpadas de super postes.: Serviço de caminhão munk\n",
      "7. Aquisição de 2000 brinquedos (super giro pião com laçador), para distribuição às crianças em comemoração ao Natal, pela Secretaria Municipal de Assistência e Desenvolvimento Social.: Brinquedos (super giro pião com laçador)\n",
      "8. Registro de preços, pelo prazo de 12 meses, para futura e eventual aquisição de suplementos e fórmulas especiais para pacientes com deficiência e tratamento de câncer atendidos pela Secretaria Municipal de Saúde.: Suplementos e fórmulas especiais para pacientes com deficiência e tratamento de câncer\n",
      "9. Registro de preços, para futura e eventual aquisição de kit de alimentação social, para a Secretaria Municipal de Assistência e Desenvolvimento Social.: Kit de alimentação social\n",
      "10. Aquisição de motor usado para o veículo caminhão Ford - Cargo - frota 1503 modelo: Cummins nº 30.441945 série: C 320CV, da Secretaria Municipal de Obras, Viação e Serviços Públicos.: Motor usado para o veículo caminhão Ford\n",
      "--------------\n",
      "- CONTRATAÇÃO DE EMPRESA HABILITADA NO FORNECIMENTO DO OBJETO MATERIAL DE MANUTENÇÃO (LOTE 01 TINTAS E LOTE 02 ESCADAS)\n",
      "- 98,60 METROS QUADRADOS DE PELÍCULA ESPELHADA DE PROTEÇÃO SOLAR (INSULFILM) COM GARANTIA DE DOIS ANOS, INCLUINDO SERVIÇO DE REMOÇÃO DO ANTIGO E NOVA COLOCAÇÃO.\n",
      "- REVISÃO DE VEÍCULOS\n",
      "- Material de Consumo - Lote 01 (Gêneros alimentícios) e Lote 02 (Copa e Cozinha)\n",
      "- Carimbos auto entintados\n",
      "- Contratação de treinamento do módulo de Folha de Pagamento do Sistema de Gestão Pública para o servidor Norberto Ceccato.\n",
      "- CONTRATAÇÃO DE EMPRESA HABILITADA PARA FORNECER VALE CARGA PARA BOTIJÃO DE GÁS LIQUEFEITO DE PETRÓLEO - 13 KG - COM VASILHAME A BASE DE TROCA, PARA ATENDER A DEMANDA DA CÂMARA MUNICIPAL DE PONTA GROSSA, DE FORMA CONTÍNUA, POR UM PERÍODO DE 12 (DOZE) MESES, CONFORME ANEXO I DO EDITAL.\n",
      "- CONTRATAÇÃO DE EMPRESA ESPECIALIZADA PARA PRESTAÇÃO DE SERVIÇOS DE MANUTENÇÃO E REPAROS DO TELHADO DO PRÉDIO DA CÂMARA MUNICIPAL DE PONTA GROSSA.\n",
      "- RENOVAÇÃO DE 30 (TRINTA) ASSINATURAS ANUAIS DO \"JORNAL DA MANHÃ\"\n",
      "- CONTRATAÇÃO DE PESSOA JURÍDICA ESPECIALIZADA PARA EXECUÇÃO DE REFORMAS E ADEQUAÇÕES PARA A ACESSIBILIDADE, PREVENÇÃO E COMBATE A INCÊNDIO NO PRÉDIO DA CÂMARA MUNICIPAL DE PONTA GROSSA, CONSOANTE ESPECIFICAÇÕES DO PROJETO BÁSICO, ANEXO AO EDITAL.\n",
      "- AQUISICAO DE 4 MOTORES PARA OS VEICULOS CAMINHAO MERCEDEZ BENS Nº 24, CAMINHAO FORD CARGO Nº 20, ONIBUS Nº 46 E ONIBUS Nº 45\n",
      "- CONTRATACAO DE EMPRESA PARA EXECUCAO DE OBRAS DE AMPLIACAO E READEQUACAO DE UNIDADE BASICA DE SAUDE, NO DISTRITO DE FIGUEIRA DO OESTE, MUNICIPIO DE ENGENHEIRO BELTRAO/PR\n",
      "- ALIENACAO DE BENS MOVEIS\n",
      "- REGISTRO DE PREÇO PELO PRAZO DE 12 MESES, PARA FUTURA E EVENTUAL AQUISIÇÃO DE LEITES ESPECIAIS E SUPLEMENTOS ALIMENTARES, PARA A SECRETARIA MUNICIPAL DE SAUDE.\n",
      "- CONTRATACAO DE GRUPO MUSICAL PARA ANIMACAO DE BAILES DA TERCEIRA IDADE, COMPOSTO POR 04(QUATRO) INTEGRANTES, COM OS SEGUINTES INSTRUMENTOS: GAITA, BATERIA, GUITARRA E BAIXO, PELO PERIODO DE 09 MESES, COM A REALIZACAO DE 01(UM) BAILE POR SEMANA, COM INICIO EM 03 DE ABRIL E TERMINO EM 31 DE DEZEMBRO DE 2013\n",
      "- CONTRATAÇÃO DE PESSOA JURÍDICA ESPECIALIZADA PARA PRESTAÇÃO DE SERVIÇOS TOPOGRÁFICOS.\n",
      "- CONTRATAÇÃO DE EMPRESA PARA EXECUÇÃO DE OBRA DE CONSTRUÇÃO DE ESCOLA DE UM PAVIMENTO, COM SEIS SALAS DE AULA, COM ÁREA TOTAL DE 854M², NO DISTRITO DE SERTÃOZINHO, MUNICÍPIO DE ENGENHEIRO BELTRÃO/PR, COM RECURSOS DO FNDE, TERMO DE COMPROMISSO PAR N.º 17622/2013.\n",
      "- CONTRATAÇÃO DE EMPRESA PARA EXECUÇÃO DE OBRAS DE CONSTRUÇÃO DE ESCOLA DE 12 SALAS, COM QUADRA COBERTA, PADRÃO FNDE, COM ÁREA TOTAL DE 3.228,08M² (TERMO DE COMPROMISSO PAR N.º 23656/2014).\n",
      "- AQUISIÇÃO DE EMULSÃO ASFÁLTICA RL1C E RR2C COM FRETE INCLUSO.\n",
      "- LOCAÇÃO DE IMÓVEL PARA FUNCIONAMENTO DA SECRETARIA MUNICIPAL DE EDUCAÇÃO E ESCOLA MUNICIPAL PINGO DE GENTE\n",
      "--------------\n",
      "Não informado\n",
      "Não informado\n",
      "Não informado\n",
      "Não informado\n",
      "Não informado\n",
      "Secretaria de Obras e Urbanização\n",
      "Secretaria Municipal de Assistência e Desenvolvimento Social\n",
      "Secretaria Municipal de Saúde\n",
      "Secretaria Municipal de Assistência e Desenvolvimento Social\n",
      "Secretaria Municipal de Obras, Viação e Serviços Públicos\n",
      "--------------\n",
      "* CONTRATAÇÃO DE EMPRESA HABILITADA NO FORNECIMENTO DO OBJETO MATERIAL DE MANUTENÇÃO (LOTE 01 TINTAS E LOTE 02 ESCADAS)\n",
      "\n",
      "\n",
      "* CONTRATAÇÃO DE EMPRESA HABILITADA PARA FORNECER VALE CARGA PARA BOTIJÃO DE GÁS LIQUEFEITO DE PETRÓLEO - 13 KG - COM VASILHAME A BASE DE TROCA, PARA ATENDER A DEMANDA DA CÂMARA MUNICIPAL DE PONTA GROSSA, DE FORMA CONTÍNUA, POR UM PERÍODO DE 12 (DOZE) MESES, CONFORME ANEXO I DO EDITAL.\n",
      "\n",
      "\n",
      "* RENOVAÇÃO DE 30 (TRINTA) ASSINATURAS ANUAIS DO \"JORNAL DA MANHÃ\"\n"
     ]
    }
   ],
   "source": [
    "model = genai.GenerativeModel('gemini-pro')\n",
    "\n",
    "context = model.generate_content(context_prompt1)\n",
    "\n",
    "print(context.text)\n",
    "\n",
    "print('--------------')\n",
    "\n",
    "result1 = model.generate_content(value_prompt)\n",
    "print(result1.text)\n",
    "\n",
    "print('--------------')\n",
    "\n",
    "model = genai.GenerativeModel('gemini-pro')\n",
    "\n",
    "context2 = model.generate_content(context_prompt2)\n",
    "\n",
    "print(context2.text)\n",
    "\n",
    "print('--------------')\n",
    "\n",
    "result2 = model.generate_content(value_prompt)\n",
    "print(result2.text)\n"
   ]
  },
  {
   "cell_type": "code",
   "execution_count": 51,
   "metadata": {},
   "outputs": [
    {
     "name": "stdout",
     "output_type": "stream",
     "text": [
      "['- CONTRATAÇÃO DE EMPRESA HABILITADA NO FORNECIMENTO DO OBJETO MATERIAL DE MANUTENÇÃO (LOTE 01 TINTAS E LOTE 02 ESCADAS)\\n- 98,60 METROS QUADRADOS DE PELÍCULA ESPELHADA DE PROTEÇÃO SOLAR (INSULFILM) COM GARANTIA DE DOIS ANOS, INCLUINDO SERVIÇO DE REMOÇÃO DO ANTIGO E NOVA COLOCAÇÃO.\\n- REVISÃO DE VEÍCULOS\\n- Material de Consumo - Lote 01 (Gêneros alimentícios) e Lote 02 (Copa e Cozinha)\\n- Carimbos auto entintados\\n- Contratação de treinamento do módulo de Folha de Pagamento do Sistema de Gestão Pública para o servidor Norberto Ceccato.\\n- CONTRATAÇÃO DE EMPRESA HABILITADA PARA FORNECER VALE CARGA PARA BOTIJÃO DE GÁS LIQUEFEITO DE PETRÓLEO - 13 KG - COM VASILHAME A BASE DE TROCA, PARA ATENDER A DEMANDA DA CÂMARA MUNICIPAL DE PONTA GROSSA, DE FORMA CONTÍNUA, POR UM PERÍODO DE 12 (DOZE) MESES, CONFORME ANEXO I DO EDITAL.\\n- CONTRATAÇÃO DE EMPRESA ESPECIALIZADA PARA PRESTAÇÃO DE SERVIÇOS DE MANUTENÇÃO E REPAROS DO TELHADO DO PRÉDIO DA CÂMARA MUNICIPAL DE PONTA GROSSA.\\n- RENOVAÇÃO DE 30 (TRINTA) ASSINATURAS ANUAIS DO \"JORNAL DA MANHÃ\"\\n- CONTRATAÇÃO DE PESSOA JURÍDICA ESPECIALIZADA PARA EXECUÇÃO DE REFORMAS E ADEQUAÇÕES PARA A ACESSIBILIDADE, PREVENÇÃO E COMBATE A INCÊNDIO NO PRÉDIO DA CÂMARA MUNICIPAL DE PONTA GROSSA, CONSOANTE ESPECIFICAÇÕES DO PROJETO BÁSICO, ANEXO AO EDITAL.\\n- AQUISICAO DE 4 MOTORES PARA OS VEICULOS CAMINHAO MERCEDEZ BENS Nº 24, CAMINHAO FORD CARGO Nº 20, ONIBUS Nº 46 E ONIBUS Nº 45\\n- CONTRATACAO DE EMPRESA PARA EXECUCAO DE OBRAS DE AMPLIACAO E READEQUACAO DE UNIDADE BASICA DE SAUDE, NO DISTRITO DE FIGUEIRA DO OESTE, MUNICIPIO DE ENGENHEIRO BELTRAO/PR\\n- ALIENACAO DE BENS MOVEIS\\n- REGISTRO DE PREÇO PELO PRAZO DE 12 MESES, PARA FUTURA E EVENTUAL AQUISIÇÃO DE LEITES ESPECIAIS E SUPLEMENTOS ALIMENTARES, PARA A SECRETARIA MUNICIPAL DE SAUDE.\\n- CONTRATACAO DE GRUPO MUSICAL PARA ANIMACAO DE BAILES DA TERCEIRA IDADE, COMPOSTO POR 04(QUATRO) INTEGRANTES, COM OS SEGUINTES INSTRUMENTOS: GAITA, BATERIA, GUITARRA E BAIXO, PELO PERIODO DE 09 MESES, COM A REALIZACAO DE 01(UM) BAILE POR SEMANA, COM INICIO EM 03 DE ABRIL E TERMINO EM 31 DE DEZEMBRO DE 2013\\n- CONTRATAÇÃO DE PESSOA JURÍDICA ESPECIALIZADA PARA PRESTAÇÃO DE SERVIÇOS TOPOGRÁFICOS.\\n- CONTRATAÇÃO DE EMPRESA PARA EXECUÇÃO DE OBRA DE CONSTRUÇÃO DE ESCOLA DE UM PAVIMENTO, COM SEIS SALAS DE AULA, COM ÁREA TOTAL DE 854M², NO DISTRITO DE SERTÃOZINHO, MUNICÍPIO DE ENGENHEIRO BELTRÃO/PR, COM RECURSOS DO FNDE, TERMO DE COMPROMISSO PAR N.º 17622/2013.\\n- CONTRATAÇÃO DE EMPRESA PARA EXECUÇÃO DE OBRAS DE CONSTRUÇÃO DE ESCOLA DE 12 SALAS, COM QUADRA COBERTA, PADRÃO FNDE, COM ÁREA TOTAL DE 3.228,08M² (TERMO DE COMPROMISSO PAR N.º 23656/2014).\\n- AQUISIÇÃO DE EMULSÃO ASFÁLTICA RL1C E RR2C COM FRETE INCLUSO.\\n- LOCAÇÃO DE IMÓVEL PARA FUNCIONAMENTO DA SECRETARIA MUNICIPAL DE EDUCAÇÃO E ESCOLA MUNICIPAL PINGO DE GENTE']\n",
      "['* CONTRATAÇÃO DE EMPRESA HABILITADA NO FORNECIMENTO DO OBJETO MATERIAL DE MANUTENÇÃO (LOTE 01 TINTAS E LOTE 02 ESCADAS)', '* CONTRATAÇÃO DE EMPRESA HABILITADA PARA FORNECER VALE CARGA PARA BOTIJÃO DE GÁS LIQUEFEITO DE PETRÓLEO - 13 KG - COM VASILHAME A BASE DE TROCA, PARA ATENDER A DEMANDA DA CÂMARA MUNICIPAL DE PONTA GROSSA, DE FORMA CONTÍNUA, POR UM PERÍODO DE 12 (DOZE) MESES, CONFORME ANEXO I DO EDITAL.', '* RENOVAÇÃO DE 30 (TRINTA) ASSINATURAS ANUAIS DO \"JORNAL DA MANHÃ\"']\n"
     ]
    }
   ],
   "source": [
    "print(result1.text.split(chr(10)+chr(10)+chr(10)))\n",
    "print(result2.text.split(chr(10)+chr(10)+chr(10)))"
   ]
  },
  {
   "cell_type": "markdown",
   "metadata": {},
   "source": [
    "### Conclusão\n",
    "\n",
    "Após todos os testes verificou-se de que a aplicação Web apresenta os dados de forma mais estruturada, as funções via API não dão o mesmo resultado desejado desta forma, a primeira prompt de contexto será usada na aplicação Web para obter os resultados vistou que ela obteve o resultado desejado."
   ]
  },
  {
   "cell_type": "code",
   "execution_count": null,
   "metadata": {},
   "outputs": [],
   "source": [
    "context_prompt = \"\"\"Irei te passar alguns textos e preciso que extraia deles qual produto ou serviço está sendo licitado e qual o órgão que o solicitou. É possível que uma das duas informações estejam ausentes no texto. Se isso ocorrer informe apenas \"Não informado\". Responda diretamente em uma tabela de 3 colunas.\n",
    "A primeira coluna deve repetir o texto usado como input, a segunda deve conter o produto ou serviço e a terceira deve conter o órgão.\n",
    "Seguem exemplos de Input (apenas uma coluna):\n",
    "Serviços de Internet com link dedicado para o Prédio Sede da CMPG.\n",
    "Aquisição de motor usado para o veículo caminhão Ford - Cargo - frota 1503 modelo: Cummins nº 30.441945 série: C 320CV, da Secretaria Municipal de Obras, Viação e Serviços Públicos.\n",
    "Registro de preços, para futura e eventual aquisição de kit de alimentação social, para a Secretaria Municipal de Assistência e Desenvolvimento Social.\n",
    "\n",
    "Seguem exemplos de output (três colunas):\n",
    "Serviços de Internet com link dedicado para o Prédio Sede da CMPG.\tServiços de Internet com link dedicado\tNão informado\n",
    "Aquisição de motor usado para o veículo caminhão Ford - Cargo - frota 1503 modelo: Cummins nº 30.441945 série: C 320CV, da Secretaria Municipal de Obras, Viação e Serviços Públicos.\tMotor de caminhão\tSecretaria Municipal de Obras, Viação e Serviços Públicos\n",
    "Registro de preços, para futura e eventual aquisição de kit de alimentação social, para a Secretaria Municipal de Assistência e Desenvolvimento Social.\tKit de alimentação social\tSecretaria Municipal de Assistência e Desenvolvimento Social\n",
    "\n",
    "Alguma dúvida ou podemos começar?\"\"\""
   ]
  },
  {
   "cell_type": "markdown",
   "metadata": {},
   "source": [
    "Devido ao fato do modelo omitir algumas linhas passei a informar o ID da produração para cruzar os dados."
   ]
  },
  {
   "cell_type": "code",
   "execution_count": null,
   "metadata": {},
   "outputs": [],
   "source": [
    "context_prompt = \"\"\"Irei fornecer 2 colunas a primeira é o identificador de uma procuração a segunda é o objeto dela. Preciso que extraia deles qual produto ou serviço está sendo licitado e qual o orgão que o solicitou. É possível que uma das duas informações estejam ausentes no texto. Se isso ocorrer informe apenas \"Não informado\". Responda diretamente e de forma tabulada com 3 colunas, o ID deve ser repetido no output como sendo a primeira coluna, a segunda coluna deve conter o produto/serviço e a terceira a secretaria. O seu retorno deve conter apenas os dados \"crus\". Não resuma nem analise as informações.\n",
    "Certo?\"\"\""
   ]
  },
  {
   "cell_type": "markdown",
   "metadata": {},
   "source": [
    "Este prompt funcionou muito bem para 4 tabelas contendo 32 linhas cada. Depois disso ele decidiu adicinar uma coluna de data.\n",
    "Tentarei fazer um ajuste no prompt para ele descondiderar a extração de datas."
   ]
  },
  {
   "cell_type": "code",
   "execution_count": null,
   "metadata": {},
   "outputs": [],
   "source": [
    "context_prompt = \"\"\"Irei fornecer 2 colunas a primeira é o identificador de uma licitação a segunda é o objeto dela. Preciso que extraia deles qual produto ou serviço está sendo licitado e qual a secretaria que o solicitou. É possível que uma das duas informações estejam ausentes no texto. Se isso ocorrer informe apenas \"Não informado\". Responda diretamente e de forma tabulada com 3 colunas, o ID deve ser repetido no output como sendo a primeira coluna, a segunda coluna deve conter o produto/serviço e a terceira a secretaria. Não extraia procuração de datas, ou outras colunas não solicitadas.\"\"\""
   ]
  },
  {
   "cell_type": "markdown",
   "metadata": {},
   "source": [
    "A prompt acima não funcionou na primeira execução, trazendo os dados no formato texto, mas funcionou na segunda para 2 tabelas contendo cerca de 30 linhas cada."
   ]
  },
  {
   "cell_type": "code",
   "execution_count": null,
   "metadata": {},
   "outputs": [],
   "source": [
    "context_prompt = \"\"\"Irei fornecer 2 colunas a primeira é o identificador de uma licitação a segunda é o objeto dela. Preciso que extraia deles qual produto ou serviço está sendo licitado e qual a secretaria que o solicitou. É possível que uma das duas informações estejam ausentes no texto. Se isso ocorrer informe apenas \"Não informado\". Responda diretamente e de forma tabulada com 3 colunas, o ID deve ser repetido no output como sendo a primeira coluna, a segunda coluna deve conter o produto/serviço e a terceira a secretaria. O seu retorno deve conter apenas os dados \"crus\". Não resuma nem analise as informações.\n",
    "Certo?\"\"\""
   ]
  },
  {
   "cell_type": "markdown",
   "metadata": {},
   "source": [
    "# Carregamento e Resultados\n",
    "Segue abaixo uma lista dos outputs obtidos:"
   ]
  },
  {
   "cell_type": "markdown",
   "metadata": {},
   "source": [
    "## Resultados"
   ]
  },
  {
   "cell_type": "markdown",
   "metadata": {},
   "source": [
    "| Prompt inicial | Qtd Sol | Qtd Util | Qtd Inputs | Prompts corretivas | Erros de Output | Omissões de linhas |\n",
    "| -------------- | ------- | -------- | ---------- | ------------------ | --------------- | ------------------ |\n",
    "| Irei te passar alguns textos e preciso que extraia deles qual produto ou serviço está sendo licitado e qual o orgão que o solicitou. É possível que uma das duas informações estejam ausentes no texto. Se isso ocorrer informe apenas \"Não informado\". Responda diretamente e separe a primeira parte da pergunta da segunda com ponto e vírcula (semicolon).<br>Alguma dúvida ou podemos começar? | 23 | 23 | 1 | 1 | 1 | 0 |\n",
    "| Irei te passar alguns textos e preciso que extraia deles qual produto ou serviço está sendo licitado e qual o órgão que o solicitou. É possível que uma das duas informações estejam ausentes no texto. Se isso ocorrer informe apenas \"Não informado\". Responda diretamente em uma tabela de 3 colunas.<br>A primeira coluna deve repetir o texto usado como input, a segunda deve conter o produto ou serviço e a terceira deve conter o órgão.<br>Seguem exemplos de Input (apenas uma coluna):<br>Serviços de Internet com link dedicado para o Prédio Sede da CMPG.<br>Aquisição de motor usado para o veículo caminhão Ford - Cargo - frota 1503 modelo: Cummins nº 30.441945 série: C 320CV, da Secretaria Municipal de Obras, Viação e Serviços Públicos.<br>Registro de preços, para futura e eventual aquisição de kit de alimentação social, para a Secretaria Municipal de Assistência e Desenvolvimento Social.<br><br>Seguem exemplos de output (três colunas):<br>Serviços de Internet com link dedicado para o Prédio Sede da CMPG. Serviços de Internet com link dedicado Não informado<br>Aquisição de motor usado para o veículo caminhão Ford - Cargo - frota 1503 modelo: Cummins nº 30.441945 série: C 320CV, da Secretaria Municipal de Obras, Viação e Serviços Públicos. Motor de caminhão Secretaria Municipal de Obras, Viação e Serviços Públicos<br>Registro de preços, para futura e eventual aquisição de kit de alimentação social, para a Secretaria Municipal de Assistência e Desenvolvimento Social. Kit de alimentação social Secretaria Municipal de Assistência e Desenvolvimento Social<br><br>Alguma dúvida ou podemos começar? | 100 | 0 | 1 | 1 | 2 | N/A |\n",
    "| Irei te passar alguns textos e preciso que extraia deles qual produto ou serviço está sendo licitado e qual o orgão que o solicitou. É possível que uma das duas informações estejam ausentes no texto. Se isso ocorrer informe apenas \"Não informado\". Responda diretamente e separe a primeira parte da pergunta da segunda com ponto e vírcula (semicolon).<br>Alguma dúvida ou podemos começar?<br>__________<br>A partir de agora irei fornecer 2 colunas uma é o identificador da procuração e ele deve ser repetido no output como sendo a primeira coluna. Desta forma o output agora deve ter 3 colunas sendo a primeira o ID, a segunda o produto/serviço e a terceira o órgão.<br>Certo? | 228 | 94 | 5 | 1 | 3 | 70 |\n",
    "| Irei fornecer 2 colunas a primeira é o identificador de uma procuração a segunda é o objeto dela. Preciso que extraia deles qual produto ou serviço está sendo licitado e qual o orgão que o solicitou. É possível que uma das duas informações estejam ausentes no texto. Se isso ocorrer informe apenas \"Não informado\". Responda diretamente e de forma tabulada com 3 colunas, o ID deve ser repetido no output como sendo a primeira coluna, a segunda coluna deve conter o produto/serviço e a terceira o órgão.<br>Certo? | 160 | 152 | 5 | 0 | 0 | 8 |\n",
    "| Irei fornecer 2 colunas a primeira é o identificador de uma procuração a segunda é o objeto dela. Preciso que extraia deles qual produto ou serviço está sendo licitado e qual a secretaria que o solicitou. É possível que uma das duas informações estejam ausentes no texto. Se isso ocorrer informe apenas \"Não informado\". Responda diretamente e de forma tabulada com 3 colunas, o ID deve ser repetido no output como sendo a primeira coluna, a segunda coluna deve conter o produto/serviço e a terceira a secretaria. Não extraia informações de datas, ou outras colunas não solicitadas. | 32 | 0 | 1 | 2 | 3 | N/A |\n",
    "| Irei fornecer 2 colunas a primeira é o identificador de uma procuração a segunda é o objeto dela. Preciso que extraia deles qual produto ou serviço está sendo licitado e qual a secretaria que o solicitou. É possível que uma das duas informações estejam ausentes no texto. Se isso ocorrer informe apenas \"Não informado\". Responda diretamente e de forma tabulada com 3 colunas, o ID deve ser repetido no output como sendo a primeira coluna, a segunda coluna deve conter o produto/serviço e a terceira a secretaria. Não extraia informações de datas, ou outras colunas não solicitadas. | 111 | 61 | 3 | 0 | 1 | 3 |\n",
    "| Irei fornecer 2 colunas a primeira é o identificador de uma procuração a segunda é o objeto dela. Preciso que extraia deles qual produto ou serviço está sendo licitado e qual a secretaria que o solicitou. É possível que uma das duas informações estejam ausentes no texto. Se isso ocorrer informe apenas \"Não informado\". Responda diretamente e de forma tabulada com 3 colunas, o ID deve ser repetido no output como sendo a primeira coluna, a segunda coluna deve conter o produto/serviço e a terceira a secretaria. Não extraia informações de datas, ou outras colunas não solicitadas. | 64 | 0 | 1 | 0 | 1 | N/A |\n",
    "| Irei fornecer 2 colunas a primeira é o identificador de uma procuração a segunda é o objeto dela. Preciso que extraia deles qual produto ou serviço está sendo licitado e qual a secretaria que o solicitou. É possível que uma das duas informações estejam ausentes no texto. Se isso ocorrer informe apenas \"Não informado\". Responda diretamente e de forma tabulada com 3 colunas, o ID deve ser repetido no output como sendo a primeira coluna, a segunda coluna deve conter o produto/serviço e a terceira a secretaria. Não extraia informações de datas, ou outras colunas não solicitadas. | 64 | 31 | 2 | 0 | 1 | 1 |\n",
    "| Irei fornecer 2 colunas a primeira é o identificador de uma procuração a segunda é o objeto dela. Preciso que extraia deles qual produto ou serviço está sendo licitado e qual a secretaria que o solicitou. É possível que uma das duas informações estejam ausentes no texto. Se isso ocorrer informe apenas \"Não informado\". Responda diretamente e de forma tabulada com 3 colunas, o ID deve ser repetido no output como sendo a primeira coluna, a segunda coluna deve conter o produto/serviço e a terceira a secretaria. Não extraia informações de datas, ou outras colunas não solicitadas. | 64 | 32 | 2 | 1 | 2 | 0 |\n",
    "| Irei fornecer 2 colunas a primeira é o identificador de uma procuração a segunda é o objeto dela. Preciso que extraia deles qual produto ou serviço está sendo licitado e qual a secretaria que o solicitou. É possível que uma das duas informações estejam ausentes no texto. Se isso ocorrer informe apenas \"Não informado\". Responda diretamente e de forma tabulada com 3 colunas, o ID deve ser repetido no output como sendo a primeira coluna, a segunda coluna deve conter o produto/serviço e a terceira a secretaria. Não extraia informações de datas, ou outras colunas não solicitadas. | 32 | 32 | 1 | 0 | 0 | 0 |\n",
    "| Irei fornecer 2 colunas a primeira é o identificador de uma procuração a segunda é o objeto dela. Preciso que extraia deles qual produto ou serviço está sendo licitado e qual o orgão que o solicitou. É possível que uma das duas informações estejam ausentes no texto. Se isso ocorrer informe apenas \"Não informado\". Responda diretamente e de forma tabulada com 3 colunas, o ID deve ser repetido no output como sendo a primeira coluna, a segunda coluna deve conter o produto/serviço e a terceira o órgão. O seu retorno deve conter apenas os dados \"crus\". Não resuma nem analise as informações.<br>Certo? | 96 | 90 | 3 | 0 | 0 | 6 |\n",
    "| Irei fornecer 2 colunas a primeira é o identificador de uma procuração a segunda é o objeto dela. Preciso que extraia deles qual produto ou serviço está sendo licitado e qual o orgão que o solicitou. É possível que uma das duas informações estejam ausentes no texto. Se isso ocorrer informe apenas \"Não informado\". Responda diretamente e de forma tabulada com 3 colunas, o ID deve ser repetido no output como sendo a primeira coluna, a segunda coluna deve conter o produto/serviço e a terceira o órgão. O seu retorno deve conter apenas os dados \"crus\". Não resuma nem analise as informações.<br>Certo? | 32 | 31 | 1 | 0 | 0 | 1 |\n",
    "| Irei fornecer 2 colunas a primeira é o identificador de uma procuração a segunda é o objeto dela. Preciso que extraia deles qual produto ou serviço está sendo licitado e qual o orgão que o solicitou. É possível que uma das duas informações estejam ausentes no texto. Se isso ocorrer informe apenas \"Não informado\". Responda diretamente e de forma tabulada com 3 colunas, o ID deve ser repetido no output como sendo a primeira coluna, a segunda coluna deve conter o produto/serviço e a terceira a secretaria. O seu retorno deve conter apenas os dados \"crus\". Não resuma nem analise as informações.<br>Certo? | 96 | 95 | 3 | 0 | 0 | 1 |\n",
    "| Irei fornecer 2 colunas a primeira é o identificador de uma procuração a segunda é o objeto dela. Preciso que extraia deles qual produto ou serviço está sendo licitado e qual o orgão que o solicitou. É possível que uma das duas informações estejam ausentes no texto. Se isso ocorrer informe apenas \"Não informado\". Responda diretamente e de forma tabulada com 3 colunas, o ID deve ser repetido no output como sendo a primeira coluna, a segunda coluna deve conter o produto/serviço e a terceira a secretaria. O seu retorno deve conter apenas os dados \"crus\". Não resuma nem analise as informações.<br>Certo? | 32 | 32 | 1 | 0 | 0 | 0 |\n",
    "| Irei fornecer 2 colunas a primeira é o identificador de uma procuração a segunda é o objeto dela. Preciso que extraia deles qual produto ou serviço está sendo licitado e qual o orgão que o solicitou. É possível que uma das duas informações estejam ausentes no texto. Se isso ocorrer informe apenas \"Não informado\". Responda diretamente e de forma tabulada com 3 colunas, o ID deve ser repetido no output como sendo a primeira coluna, a segunda coluna deve conter o produto/serviço e a terceira a secretaria. O seu retorno deve conter apenas os dados \"crus\". Não resuma nem analise as informações.<br>Certo? | 32 | 30 | 1 | 0 | 0 | 0 |\n",
    "| Irei fornecer 2 colunas a primeira é o identificador de uma licitação a segunda é o objeto dela. Preciso que extraia deles qual produto ou serviço está sendo licitado e qual o orgão que o solicitou. É possível que uma das duas informações estejam ausentes no texto. Se isso ocorrer informe apenas \"Não informado\". Responda diretamente e de forma tabulada com 3 colunas, o ID deve ser repetido no output como sendo a primeira coluna, a segunda coluna deve conter o produto/serviço e a terceira a secretaria. O seu retorno deve conter apenas os dados \"crus\". Não resuma nem analise as informações.<br>Certo? | 128 | 127 | 4 | 2 | 2 | 1 |\n",
    "| Irei fornecer 2 colunas a primeira é o identificador de uma licitação a segunda é o objeto dela. Preciso que extraia deles qual produto ou serviço está sendo licitado e qual o orgão que o solicitou. É possível que uma das duas informações estejam ausentes no texto. Se isso ocorrer informe apenas \"Não informado\". Responda diretamente e de forma tabulada com 3 colunas, o ID deve ser repetido no output como sendo a primeira coluna, a segunda coluna deve conter o produto/serviço e a terceira a secretaria. O seu retorno deve conter apenas os dados \"crus\". Não resuma nem analise as informações.<br>Certo? | 512 | 452 | 15 | 0 | 1 | 60 |\n",
    "| Irei fornecer 2 colunas a primeira é o identificador de uma licitação a segunda é o objeto dela. Preciso que extraia deles qual produto ou serviço está sendo licitado e qual o orgão que o solicitou. É possível que uma das duas informações estejam ausentes no texto. Se isso ocorrer informe apenas \"Não informado\". Responda diretamente e de forma tabulada com 3 colunas, o ID deve ser repetido no output como sendo a primeira coluna, a segunda coluna deve conter o produto/serviço e a terceira a secretaria. O seu retorno deve conter apenas os dados \"crus\". Não resuma nem analise as informações.<br>Certo? | 96 | 55 | 3 | 1 | 2 | 9 |\n",
    "| Irei fornecer 2 colunas a primeira é o identificador de uma licitação a segunda é o objeto dela. Preciso que extraia deles qual produto ou serviço está sendo licitado e qual a secretaria que o solicitou. É possível que uma das duas informações estejam ausentes no texto. Se isso ocorrer informe apenas \"Não informado\". Responda diretamente e de forma tabulada com 3 colunas, o ID deve ser repetido no output como sendo a primeira coluna, a segunda coluna deve conter o produto/serviço e a terceira a secretaria. O seu retorno deve conter apenas os dados \"crus\". Não resuma nem analise as informações.<br>Certo? | 352 | 276 |  | 1 | 2 | 44 |\n",
    "| Irei fornecer 2 colunas a primeira é o identificador de uma licitação a segunda é o objeto dela. Preciso que extraia deles qual produto ou serviço está sendo licitado e qual a secretaria que o solicitou. É possível que uma das duas informações estejam ausentes no texto. Se isso ocorrer informe apenas \"Não informado\". Responda diretamente e de forma tabulada com 3 colunas, o ID deve ser repetido no output como sendo a primeira coluna, a segunda coluna deve conter o produto/serviço e a terceira a secretaria. O seu retorno deve conter apenas os dados \"crus\". Não resuma nem analise as informações.<br>Certo? | 576 | 484 |  | 0 | 2 | 60 |\n",
    "| Irei fornecer 2 colunas a primeira é o identificador de uma licitação a segunda é o objeto dela. Preciso que extraia deles qual produto ou serviço está sendo licitado e qual a secretaria que o solicitou. É possível que uma das duas informações estejam ausentes no texto. Se isso ocorrer informe apenas \"Não informado\". Responda diretamente e de forma tabulada com 3 colunas, o ID deve ser repetido no output como sendo a primeira coluna, a segunda coluna deve conter o produto/serviço e a terceira a secretaria. O seu retorno deve conter apenas os dados \"crus\". Não resuma nem analise as informações.<br>Certo? | 608 | 565 |  | 0 | 1 | 11 |\n",
    "| Irei fornecer 2 colunas a primeira é o identificador de uma licitação a segunda é o objeto dela. Preciso que extraia deles qual produto ou serviço está sendo licitado e qual a secretaria que o solicitou. É possível que uma das duas informações estejam ausentes no texto. Se isso ocorrer informe apenas \"Não informado\". Responda diretamente e de forma tabulada com 3 colunas, o ID deve ser repetido no output como sendo a primeira coluna, a segunda coluna deve conter o produto/serviço e a terceira a secretaria. O seu retorno deve conter apenas os dados \"crus\". Não resuma nem analise as informações.<br>Certo? | 64 | 0 |  | 1 | 3 | N/A |\n",
    "| Irei fornecer 2 colunas a primeira é o identificador de uma licitação a segunda é o objeto dela. Preciso que extraia deles qual produto ou serviço está sendo licitado e qual a secretaria que o solicitou. É possível que uma das duas informações estejam ausentes no texto. Se isso ocorrer informe apenas \"Não informado\". Responda diretamente e de forma tabulada com 3 colunas, o ID deve ser repetido no output como sendo a primeira coluna, a segunda coluna deve conter o produto/serviço e a terceira a secretaria. O seu retorno deve conter apenas os dados \"crus\". Não resuma nem analise as informações.<br>Certo? | 128 | 45 |  | 3 | 5 | 51 |\n",
    "| Irei fornecer 2 colunas a primeira é o identificador de uma licitação a segunda é o objeto dela. Preciso que extraia deles qual produto ou serviço está sendo licitado e qual a secretaria que o solicitou. É possível que uma das duas informações estejam ausentes no texto. Se isso ocorrer informe apenas \"Não informado\". Responda diretamente e de forma tabulada com 3 colunas, o ID deve ser repetido no output como sendo a primeira coluna, a segunda coluna deve conter o produto/serviço e a terceira a secretaria. O seu retorno deve conter apenas os dados \"crus\". Não resuma nem analise as informações.<br>Certo? | 64 | 47 |  | 0 | 0 | 17 |"
   ]
  },
  {
   "cell_type": "markdown",
   "metadata": {},
   "source": [
    "Após processar os dados vamos carrega-los ao banco de dados..."
   ]
  },
  {
   "cell_type": "markdown",
   "metadata": {},
   "source": [
    "## Carregamento"
   ]
  },
  {
   "cell_type": "code",
   "execution_count": 29,
   "metadata": {},
   "outputs": [],
   "source": [
    "import csv\n",
    "import sqlite3\n",
    "\n",
    "def update_procurements_filed(list_id_ibge, list_id, list_new_value, field):\n",
    "\n",
    "    update = f\"UPDATE PROCUREMENTS set {field} = ? where ibge = ? and procurement_id = ?\"\n",
    "    con = sqlite3.connect(\"scraped.db\")\n",
    "    cursor = con.cursor()\n",
    "    to_update = []\n",
    "    for id_ibge, id, new_value in zip(list_id_ibge, list_id, list_new_value):\n",
    "        to_update.append((new_value, id_ibge, id))\n",
    "    cursor.executemany(update, to_update)\n",
    "    con.commit()\n",
    "    con.close()\n",
    "    pass\n",
    "\n",
    "\n",
    "list_id_ibge = []\n",
    "list_id = []\n",
    "list_extra3_value = []\n",
    "list_extra4_value = []\n",
    "with open(\"Scraping\\Carga Extra 3 e 4.csv\", 'r', encoding='utf-8') as file:\n",
    "    csvreader = csv.reader(file, delimiter=';', quotechar='\"')\n",
    "    header = next(csvreader)\n",
    "    for row in csvreader:\n",
    "        list_id_ibge.append(row[0])\n",
    "        list_id.append(row[1])\n",
    "        list_extra3_value.append(row[2])\n",
    "        list_extra4_value.append(row[3])\n",
    "\n",
    "update_procurements_filed(list_id_ibge, list_id, list_extra3_value, 'extra3')\n",
    "update_procurements_filed(list_id_ibge, list_id, list_extra4_value, 'extra4')\n"
   ]
  }
 ],
 "metadata": {
  "kernelspec": {
   "display_name": "venv",
   "language": "python",
   "name": "python3"
  },
  "language_info": {
   "codemirror_mode": {
    "name": "ipython",
    "version": 3
   },
   "file_extension": ".py",
   "mimetype": "text/x-python",
   "name": "python",
   "nbconvert_exporter": "python",
   "pygments_lexer": "ipython3",
   "version": "3.11.2"
  }
 },
 "nbformat": 4,
 "nbformat_minor": 2
}

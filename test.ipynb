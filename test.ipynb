{
 "cells": [
  {
   "cell_type": "code",
   "execution_count": 25,
   "metadata": {},
   "outputs": [
    {
     "name": "stdout",
     "output_type": "stream",
     "text": [
      "Collecting asyncioNote: you may need to restart the kernel to use updated packages.\n",
      "\n",
      "  Downloading asyncio-3.4.3-py3-none-any.whl (101 kB)\n",
      "     -------------------------------------- 101.8/101.8 kB 6.1 MB/s eta 0:00:00\n",
      "Installing collected packages: asyncio\n",
      "Successfully installed asyncio-3.4.3\n"
     ]
    },
    {
     "name": "stderr",
     "output_type": "stream",
     "text": [
      "\n",
      "[notice] A new release of pip available: 22.3.1 -> 23.3.1\n",
      "[notice] To update, run: python.exe -m pip install --upgrade pip\n"
     ]
    }
   ],
   "source": [
    "pip install asyncio"
   ]
  },
  {
   "cell_type": "code",
   "execution_count": 4,
   "metadata": {},
   "outputs": [],
   "source": [
    "from Scraping import *\n",
    "\n",
    "cw = crawlers.CrawlerMaster(1, 'cmpg.oxy.elotech.com.br', 4119905, 'Ponta Grossa/PR')\n",
    "rows = cw.query_produrements()\n",
    "\n",
    "urls = []\n",
    "for row in rows:\n",
    "    url = 'https://{base}/portaltransparencia-api/api/licitacoes/arquivos?entidade=1&exercicio={year}&tipoLicitacao={type}&licitacao={num}'.format(\n",
    "        base=cw._url,\n",
    "        year=row[2],\n",
    "        type=row[3],\n",
    "        num=row[4]\n",
    "    )\n",
    "    urls.append(url)"
   ]
  },
  {
   "cell_type": "code",
   "execution_count": 5,
   "metadata": {},
   "outputs": [],
   "source": [
    "import asyncio\n",
    "import aiohttp\n",
    "import nest_asyncio\n",
    "\n",
    "nest_asyncio.apply()\n",
    "\n",
    "responses = []\n",
    "\n",
    "async def fetch(client, url):\n",
    "    async with client.get(url) as resp:\n",
    "        assert resp.status == 200\n",
    "        html = await resp.json()\n",
    "        responses.append(html)\n",
    "\n",
    "\n",
    "async def main():\n",
    "    async with aiohttp.ClientSession() as client:\n",
    "        await asyncio.gather(*[\n",
    "            asyncio.ensure_future(fetch(client, url))\n",
    "            for url in urls\n",
    "        ])\n",
    "\n",
    "\n",
    "loop = asyncio.get_event_loop()\n",
    "loop.run_until_complete(main())"
   ]
  },
  {
   "cell_type": "code",
   "execution_count": 6,
   "metadata": {},
   "outputs": [
    {
     "name": "stdout",
     "output_type": "stream",
     "text": [
      "Requirement already satisfied: nest-asyncio in c:\\users\\danie\\onedrive\\7 - estudos\\3 - mba usp 2022\\6 - tcc\\code\\govbrprocurement\\venv\\lib\\site-packages (1.5.8)Note: you may need to restart the kernel to use updated packages.\n",
      "\n"
     ]
    },
    {
     "name": "stderr",
     "output_type": "stream",
     "text": [
      "\n",
      "[notice] A new release of pip available: 22.3.1 -> 23.3.1\n",
      "[notice] To update, run: python.exe -m pip install --upgrade pip\n"
     ]
    }
   ],
   "source": [
    "pip install nest-asyncio"
   ]
  },
  {
   "cell_type": "code",
   "execution_count": 7,
   "metadata": {},
   "outputs": [],
   "source": [
    "import os\n",
    "i=0\n",
    "to_insert = []\n",
    "for response in responses:\n",
    "    i += 1\n",
    "    for item in response:\n",
    "        id = str(item['licitacao']) + '/' + str(item['exercicio']) + '/' + str(item['tipoLicitacao'])\n",
    "        to_insert.append((cw._id_ibge, id, item['arquivoCompras']['idArquivo'], os.path.join(\"/\" + str(cw._id_ibge), id, str(item['arquivoCompras']['idArquivo']) + \".pdf\"), item['arquivoCompras']['nomeArquivo'], item['arquivoCompras']['data']))"
   ]
  },
  {
   "cell_type": "code",
   "execution_count": 8,
   "metadata": {},
   "outputs": [],
   "source": [
    "import sqlite3"
   ]
  },
  {
   "cell_type": "code",
   "execution_count": 9,
   "metadata": {},
   "outputs": [],
   "source": [
    "insert = \"INSERT OR IGNORE INTO FILES (ibge, procurement_id, file_id, path, OCR_RAW, name, date) VALUES (?, ?, ?, ?, '', ?, ?)\"\n",
    "con = sqlite3.connect(\"scraped.db\", timeout=50)\n",
    "cursor = con.cursor()\n",
    "cursor.executemany(insert, to_insert)\n",
    "con.commit()\n",
    "con.close()"
   ]
  },
  {
   "cell_type": "code",
   "execution_count": 4,
   "metadata": {},
   "outputs": [
    {
     "name": "stdout",
     "output_type": "stream",
     "text": [
      "Collecting aiofile\n",
      "  Downloading aiofile-3.8.8-py3-none-any.whl (19 kB)\n",
      "Collecting caio~=0.9.0\n",
      "  Downloading caio-0.9.13-py3-none-any.whl (19 kB)\n",
      "Installing collected packages: caio, aiofile\n",
      "Successfully installed aiofile-3.8.8 caio-0.9.13\n",
      "Note: you may need to restart the kernel to use updated packages.\n"
     ]
    },
    {
     "name": "stderr",
     "output_type": "stream",
     "text": [
      "\n",
      "[notice] A new release of pip available: 22.3.1 -> 23.3.1\n",
      "[notice] To update, run: python.exe -m pip install --upgrade pip\n"
     ]
    }
   ],
   "source": [
    "pip install aiofile"
   ]
  },
  {
   "cell_type": "code",
   "execution_count": 1,
   "metadata": {},
   "outputs": [
    {
     "name": "stdout",
     "output_type": "stream",
     "text": [
      "Scraping.crawlers.crawler_oxy\n"
     ]
    }
   ],
   "source": [
    "from Scraping import *\n",
    "\n",
    "cw = crawlers.CrawlerMaster(1, 'cmpg.oxy.elotech.com.br', 4119905, 'Ponta Grossa/PR')"
   ]
  },
  {
   "cell_type": "code",
   "execution_count": 3,
   "metadata": {},
   "outputs": [
    {
     "data": {
      "text/plain": [
       "[(4119905, '1/2015/6', 6429),\n",
       " (4119905, '1/2015/7', 6715),\n",
       " (4119905, '1/2015/9', 6729),\n",
       " (4119905, '1/2016/6', 6099),\n",
       " (4119905, '1/2016/7', 6139)]"
      ]
     },
     "execution_count": 3,
     "metadata": {},
     "output_type": "execute_result"
    }
   ],
   "source": [
    "rows = cw.query_files(5)\n",
    "rows"
   ]
  },
  {
   "cell_type": "code",
   "execution_count": 9,
   "metadata": {},
   "outputs": [],
   "source": [
    "import os\n",
    "rows = cw.query_files()\n",
    "\n",
    "i = 1\n",
    "to_update = []\n",
    "for row in rows:   \n",
    "    file = os.path.join(\"\", \"Data\", row[0].__str__(), row[1].replace(\"/\", \"-\"))\n",
    "    to_update.append((path, row[0], row[1], row[2]))"
   ]
  },
  {
   "cell_type": "code",
   "execution_count": 10,
   "metadata": {},
   "outputs": [],
   "source": [
    "insert = \"UPDATE FILES set path = ? where ibge = ? and procurement_id = ? and file_id = ?\"\n",
    "con = sqlite3.connect(\"scraped.db\", timeout=50)\n",
    "cursor = con.cursor()\n",
    "cursor.executemany(insert, to_update)\n",
    "con.commit()\n",
    "con.close()"
   ]
  },
  {
   "cell_type": "code",
   "execution_count": 18,
   "metadata": {},
   "outputs": [],
   "source": [
    "#Validar pastas\n",
    "pastas = cw.query_folders()\n",
    "for pasta in pastas:\n",
    "    if not os.path.exists(pasta[0]):\n",
    "        os.makedirs(pasta[0]) "
   ]
  },
  {
   "cell_type": "code",
   "execution_count": 18,
   "metadata": {},
   "outputs": [
    {
     "data": {
      "text/plain": [
       "[('https://cmpg.oxy.elotech.com.br/portaltransparencia-api/api/files/arquivo/6429',\n",
       "  4119905,\n",
       "  '1/2015/6',\n",
       "  6429,\n",
       "  'Data\\\\4119905\\\\1-2015-6',\n",
       "  '6429.pdf'),\n",
       " ('https://cmpg.oxy.elotech.com.br/portaltransparencia-api/api/files/arquivo/6715',\n",
       "  4119905,\n",
       "  '1/2015/7',\n",
       "  6715,\n",
       "  'Data\\\\4119905\\\\1-2015-7',\n",
       "  '6715.pdf'),\n",
       " ('https://cmpg.oxy.elotech.com.br/portaltransparencia-api/api/files/arquivo/6729',\n",
       "  4119905,\n",
       "  '1/2015/9',\n",
       "  6729,\n",
       "  'Data\\\\4119905\\\\1-2015-9',\n",
       "  '6729.pdf')]"
      ]
     },
     "execution_count": 18,
     "metadata": {},
     "output_type": "execute_result"
    }
   ],
   "source": [
    "files = cw.query_files(3)\n",
    "files2 = [('https://{base}/portaltransparencia-api/api/files/arquivo/{file_id}'.format(\n",
    "                base=cw._url,\n",
    "                file_id=x[2]\n",
    "            ), ) + x for x in files]\n",
    "files2"
   ]
  },
  {
   "cell_type": "code",
   "execution_count": 24,
   "metadata": {},
   "outputs": [
    {
     "name": "stdout",
     "output_type": "stream",
     "text": [
      "('https://cmpg.oxy.elotech.com.br/portaltransparencia-api/api/files/arquivo/6729', 4119905, '1/2015/9', 6729, 'Data\\\\4119905\\\\1-2015-9', '6729.pdf')\n"
     ]
    }
   ],
   "source": [
    "for file in files2:\n",
    "    print(file)"
   ]
  },
  {
   "cell_type": "code",
   "execution_count": 16,
   "metadata": {},
   "outputs": [
    {
     "name": "stdout",
     "output_type": "stream",
     "text": [
      "Requirement already satisfied: nest-asyncio in c:\\users\\danie\\onedrive\\7 - estudos\\3 - mba usp 2022\\6 - tcc\\code\\govbrprocurement\\venv\\lib\\site-packages (1.5.8)\n",
      "Note: you may need to restart the kernel to use updated packages.\n"
     ]
    },
    {
     "name": "stderr",
     "output_type": "stream",
     "text": [
      "\n",
      "[notice] A new release of pip available: 22.3.1 -> 23.3.1\n",
      "[notice] To update, run: python.exe -m pip install --upgrade pip\n"
     ]
    }
   ],
   "source": [
    "pip install nest-asyncio"
   ]
  },
  {
   "cell_type": "code",
   "execution_count": 23,
   "metadata": {},
   "outputs": [],
   "source": [
    "#Check if file exists\n",
    "files3 = [x for x in files2 if not os.path.isfile(os.path.join(x[4], x[5]))]"
   ]
  },
  {
   "cell_type": "code",
   "execution_count": 26,
   "metadata": {},
   "outputs": [],
   "source": [
    "#baixar e salvar cada arquivo\n",
    "\n",
    "import os\n",
    "import asyncio\n",
    "import aiohttp  # pip install aiohttp\n",
    "import aiofile  # pip install aiofile\n",
    "import nest_asyncio\n",
    "\n",
    "nest_asyncio.apply()\n",
    "\n",
    "def download_files_from_report(files):\n",
    "\n",
    "    #sema = asyncio.BoundedSemaphore(5)\n",
    "\n",
    "    async def fetch_file(session, file):\n",
    "        \n",
    "        url = file[0]\n",
    "        folder = file[4]\n",
    "        fname = file[5]\n",
    "\n",
    "        #async with sema:\n",
    "        async with session.get(url) as resp:\n",
    "            assert resp.status == 200\n",
    "            data = await resp.read()\n",
    "\n",
    "        async with aiofile.async_open(\n",
    "            os.path.join(folder, fname), \"wb\"\n",
    "        ) as outfile:\n",
    "            await outfile.write(data)\n",
    "\n",
    "    async def main():\n",
    "        async with aiohttp.ClientSession() as session:\n",
    "            tasks = [fetch_file(session, file) for file in files]\n",
    "            await asyncio.gather(*tasks)\n",
    "\n",
    "    loop = asyncio.get_event_loop()\n",
    "    loop.run_until_complete(main())\n",
    "    #loop.close()\n",
    "\n",
    "download_files_from_report(files3)"
   ]
  },
  {
   "cell_type": "code",
   "execution_count": 1,
   "metadata": {},
   "outputs": [
    {
     "name": "stdout",
     "output_type": "stream",
     "text": [
      "Scraping.crawlers.crawler_oxy\n",
      "there is 2483 files in the database\n",
      "there is 1827 files to be downloaded\n",
      "the first file id is: 6139.\n",
      "there is 2483 files in the database\n",
      "there is 0 files to be downloaded\n",
      "there is 2483 files in the database\n",
      "there is 0 files to be downloaded\n",
      "there is 2483 files in the database\n",
      "there is 0 files to be downloaded\n",
      "there is 2483 files in the database\n",
      "there is 0 files to be downloaded\n",
      "there is 2483 files in the database\n",
      "there is 0 files to be downloaded\n",
      "there is 2483 files in the database\n",
      "there is 0 files to be downloaded\n",
      "there is 2483 files in the database\n",
      "there is 0 files to be downloaded\n",
      "there is 2483 files in the database\n",
      "there is 0 files to be downloaded\n"
     ]
    },
    {
     "ename": "IndexError",
     "evalue": "list index out of range",
     "output_type": "error",
     "traceback": [
      "\u001b[1;31m---------------------------------------------------------------------------\u001b[0m",
      "\u001b[1;31mIndexError\u001b[0m                                Traceback (most recent call last)",
      "Cell \u001b[1;32mIn[1], line 36\u001b[0m\n\u001b[0;32m     34\u001b[0m \u001b[38;5;28;01mexcept\u001b[39;00m:\n\u001b[0;32m     35\u001b[0m     \u001b[38;5;28;01mpass\u001b[39;00m\n\u001b[1;32m---> 36\u001b[0m \u001b[43mcw\u001b[49m\u001b[38;5;241;43m.\u001b[39;49m\u001b[43mget_all_files\u001b[49m\u001b[43m(\u001b[49m\u001b[43m)\u001b[49m\n",
      "File \u001b[1;32mc:\\Users\\danie\\OneDrive\\7 - Estudos\\3 - MBA USP 2022\\6 - TCC\\Code\\GovBrProcurement\\Scraping\\crawlers\\crawler_oxy.py:120\u001b[0m, in \u001b[0;36mCrawlerOxy.get_all_files\u001b[1;34m(self)\u001b[0m\n\u001b[0;32m    118\u001b[0m files3 \u001b[38;5;241m=\u001b[39m [x \u001b[38;5;28;01mfor\u001b[39;00m x \u001b[38;5;129;01min\u001b[39;00m files2 \u001b[38;5;28;01mif\u001b[39;00m \u001b[38;5;129;01mnot\u001b[39;00m os\u001b[38;5;241m.\u001b[39mpath\u001b[38;5;241m.\u001b[39misfile(os\u001b[38;5;241m.\u001b[39mpath\u001b[38;5;241m.\u001b[39mjoin(x[\u001b[38;5;241m4\u001b[39m], x[\u001b[38;5;241m5\u001b[39m]))]\n\u001b[0;32m    119\u001b[0m \u001b[38;5;28mprint\u001b[39m(\u001b[38;5;124m'\u001b[39m\u001b[38;5;124mthere is \u001b[39m\u001b[38;5;132;01m{0}\u001b[39;00m\u001b[38;5;124m files to be downloaded\u001b[39m\u001b[38;5;124m'\u001b[39m\u001b[38;5;241m.\u001b[39mformat(files3\u001b[38;5;241m.\u001b[39m\u001b[38;5;21m__len__\u001b[39m()))\n\u001b[1;32m--> 120\u001b[0m \u001b[38;5;28mprint\u001b[39m(\u001b[38;5;124m'\u001b[39m\u001b[38;5;124mthe first file id is: \u001b[39m\u001b[38;5;132;01m{0}\u001b[39;00m\u001b[38;5;124m.\u001b[39m\u001b[38;5;124m'\u001b[39m\u001b[38;5;241m.\u001b[39mformat(\u001b[43mfiles3\u001b[49m\u001b[43m[\u001b[49m\u001b[38;5;241;43m0\u001b[39;49m\u001b[43m]\u001b[49m[\u001b[38;5;241m3\u001b[39m]))\n\u001b[0;32m    122\u001b[0m \u001b[38;5;66;03m#Download and save files\u001b[39;00m\n\u001b[0;32m    124\u001b[0m nest_asyncio\u001b[38;5;241m.\u001b[39mapply()\n",
      "\u001b[1;31mIndexError\u001b[0m: list index out of range"
     ]
    }
   ],
   "source": [
    "from Scraping import *\n",
    "\n",
    "cw = crawlers.CrawlerMaster(1, 'cmpg.oxy.elotech.com.br', 4119905, 'Ponta Grossa/PR')\n",
    "try:\n",
    "    cw.get_all_files()\n",
    "except:\n",
    "    pass"
   ]
  },
  {
   "cell_type": "code",
   "execution_count": 1,
   "metadata": {},
   "outputs": [
    {
     "name": "stdout",
     "output_type": "stream",
     "text": [
      "Scraping.crawlers.crawler_oxy\n"
     ]
    }
   ],
   "source": [
    "from Scraping import *\n",
    "\n",
    "cw = crawlers.CrawlerMaster(1, 'cmpg.oxy.elotech.com.br', 4119905, 'Ponta Grossa/PR')"
   ]
  },
  {
   "cell_type": "code",
   "execution_count": 2,
   "metadata": {},
   "outputs": [
    {
     "data": {
      "text/plain": [
       "'Data\\\\4119905\\\\6429.pdf'"
      ]
     },
     "execution_count": 2,
     "metadata": {},
     "output_type": "execute_result"
    }
   ],
   "source": [
    "file = r'Data\\4119905\\6429.pdf'\n",
    "file"
   ]
  },
  {
   "cell_type": "code",
   "execution_count": 4,
   "metadata": {},
   "outputs": [
    {
     "name": "stdout",
     "output_type": "stream",
     "text": [
      "Collecting pytesseractNote: you may need to restart the kernel to use updated packages.\n",
      "\n",
      "  Downloading pytesseract-0.3.10-py3-none-any.whl (14 kB)\n",
      "Requirement already satisfied: packaging>=21.3 in c:\\users\\danie\\onedrive\\7 - estudos\\3 - mba usp 2022\\6 - tcc\\code\\govbrprocurement\\venv\\lib\\site-packages (from pytesseract) (23.2)\n",
      "Requirement already satisfied: Pillow>=8.0.0 in c:\\users\\danie\\onedrive\\7 - estudos\\3 - mba usp 2022\\6 - tcc\\code\\govbrprocurement\\venv\\lib\\site-packages (from pytesseract) (10.1.0)\n",
      "Installing collected packages: pytesseract\n",
      "Successfully installed pytesseract-0.3.10\n"
     ]
    },
    {
     "name": "stderr",
     "output_type": "stream",
     "text": [
      "\n",
      "[notice] A new release of pip available: 22.3.1 -> 23.3.1\n",
      "[notice] To update, run: python.exe -m pip install --upgrade pip\n"
     ]
    }
   ],
   "source": [
    "pip install pytesseract"
   ]
  },
  {
   "cell_type": "code",
   "execution_count": 4,
   "metadata": {},
   "outputs": [
    {
     "name": "stdout",
     "output_type": "stream",
     "text": [
      "Câmara Municipal de Ponta Grossa\n",
      "\n",
      "Ponta Grossa, 25 de fevereiro de 2015\n",
      "\n",
      "Senhor Presidente:\n",
      "\n",
      "Venho pelo presente, respeitosamente, solicitar autorização para\n",
      "aquisição de MATERIAL DE CONSUMO, em relação anexa, para atender a demanda desta\n",
      "Câmara Municipal pelo período de 01 (um) ano\n",
      "\n",
      "Certo de sua atenção, subscrevo-me, reiterando protestos de\n",
      "consideração e estima\n",
      "\n",
      "Atenciosamente\n",
      "\n",
      "/\n",
      "\n",
      "e moeb O.\n",
      "\n",
      "RENATO WEBBER DE OLIVEIRA\n",
      "Diretor Geral de Serviços Administrativos\n",
      "\n",
      "om\n",
      "\n",
      "AO EXMO. SR.\n",
      "SEBASTIÃO MAINARDES JR. —\n",
      "PRESIDENTE DA CÂMARA MUNICIPAL DE PONTA GROSSA\n",
      "\n",
      "880 - Ponta Grossa - Pr - CEP 84051-000 - Fon\n",
      "\n",
      "\n"
     ]
    }
   ],
   "source": [
    "import pytesseract\n",
    "from pytesseract import Output\n",
    "from PIL import Image\n",
    "import cv2\n",
    "\n",
    "pytesseract.pytesseract.tesseract_cmd = r'C:\\Program Files\\Tesseract-OCR\\tesseract.exe'\n",
    "img_path1 = 'test.png'\n",
    "text = pytesseract.image_to_string(img_path1,lang='por')\n",
    "print(text)"
   ]
  },
  {
   "cell_type": "code",
   "execution_count": 3,
   "metadata": {},
   "outputs": [],
   "source": [
    "import pytesseract\n",
    "pytesseract.pytesseract.tesseract_cmd = r'C:\\Program Files\\Tesseract-OCR\\tesseract.exe'"
   ]
  }
 ],
 "metadata": {
  "kernelspec": {
   "display_name": "venv",
   "language": "python",
   "name": "python3"
  },
  "language_info": {
   "codemirror_mode": {
    "name": "ipython",
    "version": 3
   },
   "file_extension": ".py",
   "mimetype": "text/x-python",
   "name": "python",
   "nbconvert_exporter": "python",
   "pygments_lexer": "ipython3",
   "version": "3.11.2"
  }
 },
 "nbformat": 4,
 "nbformat_minor": 2
}

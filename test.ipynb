{
 "cells": [
  {
   "cell_type": "code",
   "execution_count": 1,
   "metadata": {},
   "outputs": [
    {
     "name": "stdout",
     "output_type": "stream",
     "text": [
      "Requirement already satisfied: asyncio in c:\\users\\danie\\onedrive\\7 - estudos\\3 - mba usp 2022\\6 - tcc\\code\\govbrprocurement\\venv\\lib\\site-packages (3.4.3)\n",
      "Note: you may need to restart the kernel to use updated packages.\n"
     ]
    },
    {
     "name": "stderr",
     "output_type": "stream",
     "text": [
      "\n",
      "[notice] A new release of pip available: 22.3.1 -> 23.3.2\n",
      "[notice] To update, run: python.exe -m pip install --upgrade pip\n"
     ]
    }
   ],
   "source": [
    "pip install asyncio"
   ]
  },
  {
   "cell_type": "code",
   "execution_count": 2,
   "metadata": {},
   "outputs": [
    {
     "name": "stdout",
     "output_type": "stream",
     "text": [
      "Scraping.crawlers.crawler_oxy\n"
     ]
    },
    {
     "ename": "ModuleNotFoundError",
     "evalue": "No module named 'ironpdf'",
     "output_type": "error",
     "traceback": [
      "\u001b[1;31m---------------------------------------------------------------------------\u001b[0m",
      "\u001b[1;31mModuleNotFoundError\u001b[0m                       Traceback (most recent call last)",
      "Cell \u001b[1;32mIn[2], line 1\u001b[0m\n\u001b[1;32m----> 1\u001b[0m \u001b[38;5;28;01mfrom\u001b[39;00m \u001b[38;5;21;01mScraping\u001b[39;00m \u001b[38;5;28;01mimport\u001b[39;00m \u001b[38;5;241m*\u001b[39m\n\u001b[0;32m      3\u001b[0m cw \u001b[38;5;241m=\u001b[39m crawlers\u001b[38;5;241m.\u001b[39mCrawlerMaster(\u001b[38;5;241m1\u001b[39m, \u001b[38;5;124m'\u001b[39m\u001b[38;5;124mcmpg.oxy.elotech.com.br\u001b[39m\u001b[38;5;124m'\u001b[39m, \u001b[38;5;241m4119905\u001b[39m, \u001b[38;5;124m'\u001b[39m\u001b[38;5;124mPonta Grossa/PR\u001b[39m\u001b[38;5;124m'\u001b[39m)\n\u001b[0;32m      4\u001b[0m rows \u001b[38;5;241m=\u001b[39m cw\u001b[38;5;241m.\u001b[39mquery_produrements()\n",
      "File \u001b[1;32mc:\\Users\\danie\\OneDrive\\7 - Estudos\\3 - MBA USP 2022\\6 - TCC\\Code\\GovBrProcurement\\Scraping\\__init__.py:1\u001b[0m\n\u001b[1;32m----> 1\u001b[0m \u001b[38;5;28;01mfrom\u001b[39;00m \u001b[38;5;21;01m.\u001b[39;00m\u001b[38;5;21;01mcrawlers\u001b[39;00m \u001b[38;5;28;01mimport\u001b[39;00m \u001b[38;5;241m*\u001b[39m\n",
      "File \u001b[1;32mc:\\Users\\danie\\OneDrive\\7 - Estudos\\3 - MBA USP 2022\\6 - TCC\\Code\\GovBrProcurement\\Scraping\\crawlers\\__init__.py:1\u001b[0m\n\u001b[1;32m----> 1\u001b[0m \u001b[38;5;28;01mfrom\u001b[39;00m \u001b[38;5;21;01m.\u001b[39;00m\u001b[38;5;21;01mcrawler_oxy\u001b[39;00m \u001b[38;5;28;01mimport\u001b[39;00m CrawlerOxy\n\u001b[0;32m      2\u001b[0m \u001b[38;5;28;01mfrom\u001b[39;00m \u001b[38;5;21;01m.\u001b[39;00m\u001b[38;5;21;01mcrawler_base\u001b[39;00m \u001b[38;5;28;01mimport\u001b[39;00m CrawlerBase\n\u001b[0;32m      3\u001b[0m \u001b[38;5;28;01mfrom\u001b[39;00m \u001b[38;5;21;01m.\u001b[39;00m\u001b[38;5;21;01mcrawler_master\u001b[39;00m \u001b[38;5;28;01mimport\u001b[39;00m CrawlerMaster\n",
      "File \u001b[1;32mc:\\Users\\danie\\OneDrive\\7 - Estudos\\3 - MBA USP 2022\\6 - TCC\\Code\\GovBrProcurement\\Scraping\\crawlers\\crawler_oxy.py:15\u001b[0m\n\u001b[0;32m     13\u001b[0m     \u001b[38;5;28;01mfrom\u001b[39;00m \u001b[38;5;21;01mcrawler_base\u001b[39;00m \u001b[38;5;28;01mimport\u001b[39;00m CrawlerBase\n\u001b[0;32m     14\u001b[0m \u001b[38;5;28;01melse\u001b[39;00m:\n\u001b[1;32m---> 15\u001b[0m     \u001b[38;5;28;01mfrom\u001b[39;00m \u001b[38;5;21;01m.\u001b[39;00m\u001b[38;5;21;01mcrawler_base\u001b[39;00m \u001b[38;5;28;01mimport\u001b[39;00m CrawlerBase\n\u001b[0;32m     18\u001b[0m \u001b[38;5;28;01mclass\u001b[39;00m \u001b[38;5;21;01mCrawlerOxy\u001b[39;00m(CrawlerBase):\n\u001b[0;32m     19\u001b[0m     name \u001b[38;5;241m=\u001b[39m \u001b[38;5;124m\"\u001b[39m\u001b[38;5;124mOxy\u001b[39m\u001b[38;5;124m\"\u001b[39m\n",
      "File \u001b[1;32mc:\\Users\\danie\\OneDrive\\7 - Estudos\\3 - MBA USP 2022\\6 - TCC\\Code\\GovBrProcurement\\Scraping\\crawlers\\crawler_base.py:13\u001b[0m\n\u001b[0;32m     11\u001b[0m     \u001b[38;5;28;01mfrom\u001b[39;00m \u001b[38;5;21;01mOCR\u001b[39;00m \u001b[38;5;28;01mimport\u001b[39;00m get_text\n\u001b[0;32m     12\u001b[0m \u001b[38;5;28;01melse\u001b[39;00m:\n\u001b[1;32m---> 13\u001b[0m     \u001b[38;5;28;01mfrom\u001b[39;00m \u001b[38;5;21;01mOCR\u001b[39;00m \u001b[38;5;28;01mimport\u001b[39;00m get_text\n\u001b[0;32m     15\u001b[0m \u001b[38;5;28;01mclass\u001b[39;00m \u001b[38;5;21;01mCrawlerBase\u001b[39;00m:\n\u001b[0;32m     16\u001b[0m     \u001b[38;5;28;01mdef\u001b[39;00m \u001b[38;5;21m__init__\u001b[39m(\u001b[38;5;28mself\u001b[39m, crawlerid, url, idcity, city):\n",
      "File \u001b[1;32mc:\\Users\\danie\\OneDrive\\7 - Estudos\\3 - MBA USP 2022\\6 - TCC\\Code\\GovBrProcurement\\OCR\\__init__.py:1\u001b[0m\n\u001b[1;32m----> 1\u001b[0m \u001b[38;5;28;01mfrom\u001b[39;00m \u001b[38;5;21;01m.\u001b[39;00m\u001b[38;5;21;01mconvert_pdf\u001b[39;00m \u001b[38;5;28;01mimport\u001b[39;00m get_text\n",
      "File \u001b[1;32mc:\\Users\\danie\\OneDrive\\7 - Estudos\\3 - MBA USP 2022\\6 - TCC\\Code\\GovBrProcurement\\OCR\\convert_pdf.py:9\u001b[0m\n\u001b[0;32m      7\u001b[0m \u001b[38;5;66;03m#V2:\u001b[39;00m\n\u001b[0;32m      8\u001b[0m \u001b[38;5;28;01mimport\u001b[39;00m \u001b[38;5;21;01masyncio\u001b[39;00m\n\u001b[1;32m----> 9\u001b[0m \u001b[38;5;28;01mimport\u001b[39;00m \u001b[38;5;21;01mironpdf\u001b[39;00m\n\u001b[0;32m     10\u001b[0m \u001b[38;5;28;01mimport\u001b[39;00m \u001b[38;5;21;01maiopytesseract\u001b[39;00m\n\u001b[0;32m     12\u001b[0m \u001b[38;5;28;01mwith\u001b[39;00m \u001b[38;5;28mopen\u001b[39m(\u001b[38;5;124m'\u001b[39m\u001b[38;5;124mconfig.json\u001b[39m\u001b[38;5;124m'\u001b[39m) \u001b[38;5;28;01mas\u001b[39;00m config_file:\n",
      "\u001b[1;31mModuleNotFoundError\u001b[0m: No module named 'ironpdf'"
     ]
    }
   ],
   "source": [
    "from Scraping import *\n",
    "\n",
    "cw = crawlers.CrawlerMaster(1, 'cmpg.oxy.elotech.com.br', 4119905, 'Ponta Grossa/PR')\n",
    "rows = cw.query_produrements()\n",
    "\n",
    "urls = []\n",
    "for row in rows:\n",
    "    url = 'https://{base}/portaltransparencia-api/api/licitacoes/arquivos?entidade=1&exercicio={year}&tipoLicitacao={type}&licitacao={num}'.format(\n",
    "        base=cw._url,\n",
    "        year=row[2],\n",
    "        type=row[3],\n",
    "        num=row[4]\n",
    "    )\n",
    "    urls.append(url)"
   ]
  },
  {
   "cell_type": "code",
   "execution_count": null,
   "metadata": {},
   "outputs": [],
   "source": [
    "import asyncio\n",
    "import aiohttp\n",
    "import nest_asyncio\n",
    "\n",
    "nest_asyncio.apply()\n",
    "\n",
    "responses = []\n",
    "\n",
    "async def fetch(client, url):\n",
    "    async with client.get(url) as resp:\n",
    "        assert resp.status == 200\n",
    "        html = await resp.json()\n",
    "        responses.append(html)\n",
    "\n",
    "\n",
    "async def main():\n",
    "    async with aiohttp.ClientSession() as client:\n",
    "        await asyncio.gather(*[\n",
    "            asyncio.ensure_future(fetch(client, url))\n",
    "            for url in urls\n",
    "        ])\n",
    "\n",
    "\n",
    "loop = asyncio.get_event_loop()\n",
    "loop.run_until_complete(main())"
   ]
  },
  {
   "cell_type": "code",
   "execution_count": null,
   "metadata": {},
   "outputs": [
    {
     "name": "stdout",
     "output_type": "stream",
     "text": [
      "Requirement already satisfied: nest-asyncio in c:\\users\\danie\\onedrive\\7 - estudos\\3 - mba usp 2022\\6 - tcc\\code\\govbrprocurement\\venv\\lib\\site-packages (1.5.8)Note: you may need to restart the kernel to use updated packages.\n",
      "\n"
     ]
    },
    {
     "name": "stderr",
     "output_type": "stream",
     "text": [
      "\n",
      "[notice] A new release of pip available: 22.3.1 -> 23.3.1\n",
      "[notice] To update, run: python.exe -m pip install --upgrade pip\n"
     ]
    }
   ],
   "source": [
    "pip install nest-asyncio"
   ]
  },
  {
   "cell_type": "code",
   "execution_count": null,
   "metadata": {},
   "outputs": [],
   "source": [
    "import os\n",
    "i=0\n",
    "to_insert = []\n",
    "for response in responses:\n",
    "    i += 1\n",
    "    for item in response:\n",
    "        id = str(item['licitacao']) + '/' + str(item['exercicio']) + '/' + str(item['tipoLicitacao'])\n",
    "        to_insert.append((cw._id_ibge, id, item['arquivoCompras']['idArquivo'], os.path.join(\"/\" + str(cw._id_ibge), id, str(item['arquivoCompras']['idArquivo']) + \".pdf\"), item['arquivoCompras']['nomeArquivo'], item['arquivoCompras']['data']))"
   ]
  },
  {
   "cell_type": "code",
   "execution_count": null,
   "metadata": {},
   "outputs": [],
   "source": [
    "import sqlite3"
   ]
  },
  {
   "cell_type": "code",
   "execution_count": null,
   "metadata": {},
   "outputs": [],
   "source": [
    "insert = \"INSERT OR IGNORE INTO FILES (ibge, procurement_id, file_id, path, OCR_RAW, name, date) VALUES (?, ?, ?, ?, '', ?, ?)\"\n",
    "con = sqlite3.connect(\"scraped.db\", timeout=50)\n",
    "cursor = con.cursor()\n",
    "cursor.executemany(insert, to_insert)\n",
    "con.commit()\n",
    "con.close()"
   ]
  },
  {
   "cell_type": "code",
   "execution_count": null,
   "metadata": {},
   "outputs": [
    {
     "name": "stdout",
     "output_type": "stream",
     "text": [
      "Collecting aiofile\n",
      "  Downloading aiofile-3.8.8-py3-none-any.whl (19 kB)\n",
      "Collecting caio~=0.9.0\n",
      "  Downloading caio-0.9.13-py3-none-any.whl (19 kB)\n",
      "Installing collected packages: caio, aiofile\n",
      "Successfully installed aiofile-3.8.8 caio-0.9.13\n",
      "Note: you may need to restart the kernel to use updated packages.\n"
     ]
    },
    {
     "name": "stderr",
     "output_type": "stream",
     "text": [
      "\n",
      "[notice] A new release of pip available: 22.3.1 -> 23.3.1\n",
      "[notice] To update, run: python.exe -m pip install --upgrade pip\n"
     ]
    }
   ],
   "source": [
    "pip install aiofile"
   ]
  },
  {
   "cell_type": "code",
   "execution_count": null,
   "metadata": {},
   "outputs": [
    {
     "name": "stdout",
     "output_type": "stream",
     "text": [
      "Scraping.crawlers.crawler_oxy\n"
     ]
    }
   ],
   "source": [
    "from Scraping import *\n",
    "\n",
    "cw = crawlers.CrawlerMaster(1, 'cmpg.oxy.elotech.com.br', 4119905, 'Ponta Grossa/PR')"
   ]
  },
  {
   "cell_type": "code",
   "execution_count": null,
   "metadata": {},
   "outputs": [
    {
     "data": {
      "text/plain": [
       "[(4119905, '1/2015/6', 6429),\n",
       " (4119905, '1/2015/7', 6715),\n",
       " (4119905, '1/2015/9', 6729),\n",
       " (4119905, '1/2016/6', 6099),\n",
       " (4119905, '1/2016/7', 6139)]"
      ]
     },
     "execution_count": 3,
     "metadata": {},
     "output_type": "execute_result"
    }
   ],
   "source": [
    "rows = cw.query_files(5)\n",
    "rows"
   ]
  },
  {
   "cell_type": "code",
   "execution_count": null,
   "metadata": {},
   "outputs": [],
   "source": [
    "import os\n",
    "rows = cw.query_files()\n",
    "\n",
    "i = 1\n",
    "to_update = []\n",
    "for row in rows:   \n",
    "    file = os.path.join(\"\", \"Data\", row[0].__str__(), row[1].replace(\"/\", \"-\"))\n",
    "    to_update.append((path, row[0], row[1], row[2]))"
   ]
  },
  {
   "cell_type": "code",
   "execution_count": null,
   "metadata": {},
   "outputs": [],
   "source": [
    "insert = \"UPDATE FILES set path = ? where ibge = ? and procurement_id = ? and file_id = ?\"\n",
    "con = sqlite3.connect(\"scraped.db\", timeout=50)\n",
    "cursor = con.cursor()\n",
    "cursor.executemany(insert, to_update)\n",
    "con.commit()\n",
    "con.close()"
   ]
  },
  {
   "cell_type": "code",
   "execution_count": null,
   "metadata": {},
   "outputs": [],
   "source": [
    "#Validar pastas\n",
    "pastas = cw.query_folders()\n",
    "for pasta in pastas:\n",
    "    if not os.path.exists(pasta[0]):\n",
    "        os.makedirs(pasta[0]) "
   ]
  },
  {
   "cell_type": "code",
   "execution_count": null,
   "metadata": {},
   "outputs": [
    {
     "data": {
      "text/plain": [
       "[('https://cmpg.oxy.elotech.com.br/portaltransparencia-api/api/files/arquivo/6429',\n",
       "  4119905,\n",
       "  '1/2015/6',\n",
       "  6429,\n",
       "  'Data\\\\4119905\\\\1-2015-6',\n",
       "  '6429.pdf'),\n",
       " ('https://cmpg.oxy.elotech.com.br/portaltransparencia-api/api/files/arquivo/6715',\n",
       "  4119905,\n",
       "  '1/2015/7',\n",
       "  6715,\n",
       "  'Data\\\\4119905\\\\1-2015-7',\n",
       "  '6715.pdf'),\n",
       " ('https://cmpg.oxy.elotech.com.br/portaltransparencia-api/api/files/arquivo/6729',\n",
       "  4119905,\n",
       "  '1/2015/9',\n",
       "  6729,\n",
       "  'Data\\\\4119905\\\\1-2015-9',\n",
       "  '6729.pdf')]"
      ]
     },
     "execution_count": 18,
     "metadata": {},
     "output_type": "execute_result"
    }
   ],
   "source": [
    "files = cw.query_files(3)\n",
    "files2 = [('https://{base}/portaltransparencia-api/api/files/arquivo/{file_id}'.format(\n",
    "                base=cw._url,\n",
    "                file_id=x[2]\n",
    "            ), ) + x for x in files]\n",
    "files2"
   ]
  },
  {
   "cell_type": "code",
   "execution_count": null,
   "metadata": {},
   "outputs": [
    {
     "name": "stdout",
     "output_type": "stream",
     "text": [
      "('https://cmpg.oxy.elotech.com.br/portaltransparencia-api/api/files/arquivo/6729', 4119905, '1/2015/9', 6729, 'Data\\\\4119905\\\\1-2015-9', '6729.pdf')\n"
     ]
    }
   ],
   "source": [
    "for file in files2:\n",
    "    print(file)"
   ]
  },
  {
   "cell_type": "code",
   "execution_count": null,
   "metadata": {},
   "outputs": [
    {
     "name": "stdout",
     "output_type": "stream",
     "text": [
      "Requirement already satisfied: nest-asyncio in c:\\users\\danie\\onedrive\\7 - estudos\\3 - mba usp 2022\\6 - tcc\\code\\govbrprocurement\\venv\\lib\\site-packages (1.5.8)\n",
      "Note: you may need to restart the kernel to use updated packages.\n"
     ]
    },
    {
     "name": "stderr",
     "output_type": "stream",
     "text": [
      "\n",
      "[notice] A new release of pip available: 22.3.1 -> 23.3.1\n",
      "[notice] To update, run: python.exe -m pip install --upgrade pip\n"
     ]
    }
   ],
   "source": [
    "pip install nest-asyncio"
   ]
  },
  {
   "cell_type": "code",
   "execution_count": null,
   "metadata": {},
   "outputs": [],
   "source": [
    "#Check if file exists\n",
    "files3 = [x for x in files2 if not os.path.isfile(os.path.join(x[4], x[5]))]"
   ]
  },
  {
   "cell_type": "code",
   "execution_count": null,
   "metadata": {},
   "outputs": [],
   "source": [
    "#baixar e salvar cada arquivo\n",
    "\n",
    "import os\n",
    "import asyncio\n",
    "import aiohttp  # pip install aiohttp\n",
    "import aiofile  # pip install aiofile\n",
    "import nest_asyncio\n",
    "\n",
    "nest_asyncio.apply()\n",
    "\n",
    "def download_files_from_report(files):\n",
    "\n",
    "    #sema = asyncio.BoundedSemaphore(5)\n",
    "\n",
    "    async def fetch_file(session, file):\n",
    "        \n",
    "        url = file[0]\n",
    "        folder = file[4]\n",
    "        fname = file[5]\n",
    "\n",
    "        #async with sema:\n",
    "        async with session.get(url) as resp:\n",
    "            assert resp.status == 200\n",
    "            data = await resp.read()\n",
    "\n",
    "        async with aiofile.async_open(\n",
    "            os.path.join(folder, fname), \"wb\"\n",
    "        ) as outfile:\n",
    "            await outfile.write(data)\n",
    "\n",
    "    async def main():\n",
    "        async with aiohttp.ClientSession() as session:\n",
    "            tasks = [fetch_file(session, file) for file in files]\n",
    "            await asyncio.gather(*tasks)\n",
    "\n",
    "    loop = asyncio.get_event_loop()\n",
    "    loop.run_until_complete(main())\n",
    "    #loop.close()\n",
    "\n",
    "download_files_from_report(files3)"
   ]
  },
  {
   "cell_type": "code",
   "execution_count": null,
   "metadata": {},
   "outputs": [
    {
     "name": "stdout",
     "output_type": "stream",
     "text": [
      "Scraping.crawlers.crawler_oxy\n",
      "there is 2483 files in the database\n",
      "there is 1827 files to be downloaded\n",
      "the first file id is: 6139.\n",
      "there is 2483 files in the database\n",
      "there is 0 files to be downloaded\n",
      "there is 2483 files in the database\n",
      "there is 0 files to be downloaded\n",
      "there is 2483 files in the database\n",
      "there is 0 files to be downloaded\n",
      "there is 2483 files in the database\n",
      "there is 0 files to be downloaded\n",
      "there is 2483 files in the database\n",
      "there is 0 files to be downloaded\n",
      "there is 2483 files in the database\n",
      "there is 0 files to be downloaded\n",
      "there is 2483 files in the database\n",
      "there is 0 files to be downloaded\n",
      "there is 2483 files in the database\n",
      "there is 0 files to be downloaded\n"
     ]
    },
    {
     "ename": "IndexError",
     "evalue": "list index out of range",
     "output_type": "error",
     "traceback": [
      "\u001b[1;31m---------------------------------------------------------------------------\u001b[0m",
      "\u001b[1;31mIndexError\u001b[0m                                Traceback (most recent call last)",
      "Cell \u001b[1;32mIn[1], line 36\u001b[0m\n\u001b[0;32m     34\u001b[0m \u001b[38;5;28;01mexcept\u001b[39;00m:\n\u001b[0;32m     35\u001b[0m     \u001b[38;5;28;01mpass\u001b[39;00m\n\u001b[1;32m---> 36\u001b[0m \u001b[43mcw\u001b[49m\u001b[38;5;241;43m.\u001b[39;49m\u001b[43mget_all_files\u001b[49m\u001b[43m(\u001b[49m\u001b[43m)\u001b[49m\n",
      "File \u001b[1;32mc:\\Users\\danie\\OneDrive\\7 - Estudos\\3 - MBA USP 2022\\6 - TCC\\Code\\GovBrProcurement\\Scraping\\crawlers\\crawler_oxy.py:120\u001b[0m, in \u001b[0;36mCrawlerOxy.get_all_files\u001b[1;34m(self)\u001b[0m\n\u001b[0;32m    118\u001b[0m files3 \u001b[38;5;241m=\u001b[39m [x \u001b[38;5;28;01mfor\u001b[39;00m x \u001b[38;5;129;01min\u001b[39;00m files2 \u001b[38;5;28;01mif\u001b[39;00m \u001b[38;5;129;01mnot\u001b[39;00m os\u001b[38;5;241m.\u001b[39mpath\u001b[38;5;241m.\u001b[39misfile(os\u001b[38;5;241m.\u001b[39mpath\u001b[38;5;241m.\u001b[39mjoin(x[\u001b[38;5;241m4\u001b[39m], x[\u001b[38;5;241m5\u001b[39m]))]\n\u001b[0;32m    119\u001b[0m \u001b[38;5;28mprint\u001b[39m(\u001b[38;5;124m'\u001b[39m\u001b[38;5;124mthere is \u001b[39m\u001b[38;5;132;01m{0}\u001b[39;00m\u001b[38;5;124m files to be downloaded\u001b[39m\u001b[38;5;124m'\u001b[39m\u001b[38;5;241m.\u001b[39mformat(files3\u001b[38;5;241m.\u001b[39m\u001b[38;5;21m__len__\u001b[39m()))\n\u001b[1;32m--> 120\u001b[0m \u001b[38;5;28mprint\u001b[39m(\u001b[38;5;124m'\u001b[39m\u001b[38;5;124mthe first file id is: \u001b[39m\u001b[38;5;132;01m{0}\u001b[39;00m\u001b[38;5;124m.\u001b[39m\u001b[38;5;124m'\u001b[39m\u001b[38;5;241m.\u001b[39mformat(\u001b[43mfiles3\u001b[49m\u001b[43m[\u001b[49m\u001b[38;5;241;43m0\u001b[39;49m\u001b[43m]\u001b[49m[\u001b[38;5;241m3\u001b[39m]))\n\u001b[0;32m    122\u001b[0m \u001b[38;5;66;03m#Download and save files\u001b[39;00m\n\u001b[0;32m    124\u001b[0m nest_asyncio\u001b[38;5;241m.\u001b[39mapply()\n",
      "\u001b[1;31mIndexError\u001b[0m: list index out of range"
     ]
    }
   ],
   "source": [
    "from Scraping import *\n",
    "\n",
    "cw = crawlers.CrawlerMaster(1, 'cmpg.oxy.elotech.com.br', 4119905, 'Ponta Grossa/PR')\n",
    "try:\n",
    "    cw.get_all_files()\n",
    "except:\n",
    "    pass"
   ]
  },
  {
   "cell_type": "code",
   "execution_count": 2,
   "metadata": {},
   "outputs": [
    {
     "name": "stdout",
     "output_type": "stream",
     "text": [
      "Requirement already satisfied: IronPdf in c:\\users\\danie\\onedrive\\7 - estudos\\3 - mba usp 2022\\6 - tcc\\code\\govbrprocurement\\venv\\lib\\site-packages (2023.8.6)\n",
      "Requirement already satisfied: pythonnet in c:\\users\\danie\\onedrive\\7 - estudos\\3 - mba usp 2022\\6 - tcc\\code\\govbrprocurement\\venv\\lib\\site-packages (from IronPdf) (3.0.3)\n",
      "Requirement already satisfied: clr-loader<0.3.0,>=0.2.6 in c:\\users\\danie\\onedrive\\7 - estudos\\3 - mba usp 2022\\6 - tcc\\code\\govbrprocurement\\venv\\lib\\site-packages (from pythonnet->IronPdf) (0.2.6)\n",
      "Requirement already satisfied: cffi>=1.13 in c:\\users\\danie\\onedrive\\7 - estudos\\3 - mba usp 2022\\6 - tcc\\code\\govbrprocurement\\venv\\lib\\site-packages (from clr-loader<0.3.0,>=0.2.6->pythonnet->IronPdf) (1.16.0)\n",
      "Requirement already satisfied: pycparser in c:\\users\\danie\\onedrive\\7 - estudos\\3 - mba usp 2022\\6 - tcc\\code\\govbrprocurement\\venv\\lib\\site-packages (from cffi>=1.13->clr-loader<0.3.0,>=0.2.6->pythonnet->IronPdf) (2.21)\n",
      "Note: you may need to restart the kernel to use updated packages.\n"
     ]
    },
    {
     "name": "stderr",
     "output_type": "stream",
     "text": [
      "\n",
      "[notice] A new release of pip available: 22.3.1 -> 23.3.2\n",
      "[notice] To update, run: python.exe -m pip install --upgrade pip\n"
     ]
    }
   ],
   "source": [
    "pip install IronPdf --upgrade"
   ]
  },
  {
   "cell_type": "code",
   "execution_count": 6,
   "metadata": {},
   "outputs": [
    {
     "data": {
      "text/plain": [
       "0"
      ]
     },
     "execution_count": 6,
     "metadata": {},
     "output_type": "execute_result"
    }
   ],
   "source": [
    "import os\n",
    "os.stat(r'Files\\4119905\\25-2020-6\\22439.pdf').st_size"
   ]
  },
  {
   "cell_type": "code",
   "execution_count": 7,
   "metadata": {},
   "outputs": [],
   "source": [
    "cw.do_ocr(1)"
   ]
  },
  {
   "cell_type": "code",
   "execution_count": 8,
   "metadata": {},
   "outputs": [
    {
     "data": {
      "text/plain": [
       "[]"
      ]
     },
     "execution_count": 8,
     "metadata": {},
     "output_type": "execute_result"
    }
   ],
   "source": [
    "cw.query_files_to_do(1)"
   ]
  },
  {
   "cell_type": "code",
   "execution_count": 9,
   "metadata": {},
   "outputs": [],
   "source": [
    "cw.manual_update_file('23/2022/6', 1001379, '<Ignore>')"
   ]
  },
  {
   "cell_type": "code",
   "execution_count": 10,
   "metadata": {},
   "outputs": [
    {
     "ename": "AttributeError",
     "evalue": "'CrawlerOxy' object has no attribute 'check_empty'",
     "output_type": "error",
     "traceback": [
      "\u001b[1;31m---------------------------------------------------------------------------\u001b[0m",
      "\u001b[1;31mAttributeError\u001b[0m                            Traceback (most recent call last)",
      "Cell \u001b[1;32mIn[10], line 1\u001b[0m\n\u001b[1;32m----> 1\u001b[0m \u001b[43mcw\u001b[49m\u001b[38;5;241;43m.\u001b[39;49m\u001b[43mcheck_empty\u001b[49m()\n",
      "\u001b[1;31mAttributeError\u001b[0m: 'CrawlerOxy' object has no attribute 'check_empty'"
     ]
    }
   ],
   "source": [
    "cw.check_empty()"
   ]
  },
  {
   "cell_type": "code",
   "execution_count": null,
   "metadata": {},
   "outputs": [
    {
     "name": "stdout",
     "output_type": "stream",
     "text": [
      "Blocks: 0, Size: 20, Total: 0\n"
     ]
    }
   ],
   "source": [
    "import time\n",
    "import math\n",
    "\n",
    "i = 20\n",
    "total = cw.query_qtd_files_to_do()[0][0]\n",
    "loops = math.ceil(total / i )\n",
    "print(f\"Blocks: {loops}, Size: {i}, Total: {total}\")\n",
    "\n",
    "for l in range(loops):\n",
    "    start_time = time.time()\n",
    "    cw.do_ocr(i)\n",
    "    t = str(((time.time() - start_time)/60))\n",
    "    print(f\"--- The block {str(l + 1)}, Doing {str(i)} files, took: {t} minutes ---\")\n"
   ]
  },
  {
   "cell_type": "code",
   "execution_count": null,
   "metadata": {},
   "outputs": [
    {
     "name": "stdout",
     "output_type": "stream",
     "text": [
      "Collecting python-docx\n",
      "  Downloading python_docx-1.1.0-py3-none-any.whl (239 kB)\n",
      "     ------------------------------------ 239.6/239.6 kB 735.1 kB/s eta 0:00:00\n",
      "Requirement already satisfied: lxml>=3.1.0 in c:\\users\\danie\\onedrive\\7 - estudos\\3 - mba usp 2022\\6 - tcc\\code\\govbrprocurement\\venv\\lib\\site-packages (from python-docx) (4.9.3)\n",
      "Collecting typing-extensions\n",
      "  Downloading typing_extensions-4.9.0-py3-none-any.whl (32 kB)\n",
      "Installing collected packages: typing-extensions, python-docx\n",
      "Successfully installed python-docx-1.1.0 typing-extensions-4.9.0\n",
      "Note: you may need to restart the kernel to use updated packages.\n"
     ]
    },
    {
     "name": "stderr",
     "output_type": "stream",
     "text": [
      "\n",
      "[notice] A new release of pip available: 22.3.1 -> 23.3.2\n",
      "[notice] To update, run: python.exe -m pip install --upgrade pip\n"
     ]
    }
   ],
   "source": [
    "pip install python-docx "
   ]
  },
  {
   "cell_type": "code",
   "execution_count": null,
   "metadata": {},
   "outputs": [
    {
     "data": {
      "text/plain": [
       "'PA – Protocolo Geral: 51/2023\\t\\t\\tEmissão: 10/01/2023\\n\\nData da abertura das propostas: 07/03/2023\\tHorário: 09hs 30min\\n\\nPregoeiro: CHARLES METZGER FERREIRA\\n\\nA CÂMARA MUNICIPAL DE PONTA GROSSA, mediante o Pregoeiro designado pelo Ato 32/2023, torna público para conhecimento dos interessados, que na data e local abaixo indicados fará realizar licitação na modalidade PREGÃO ELETRÔNICO do tipo MENOR PREÇO GLOBAL, a contratação de empresa habilitada para fornecimento de “linha de Internet com modem grátis, que suporte download mínimo de 400 mega, upload mínimo de 200 mega com wi-fi inclusos e tecnologia e fibra óptica”, nos moldes da Lei nº 10.520/02, Decreto nº 10.024/19, Lei Complementar nº 123/06 e subsidiariamente, a Lei Federal nº 8.666/93, todas com as alterações posteriores e legislação correlata, a fim de escolher a melhor proposta.\\n\\nRECEBIMENTO DAS PROPOSTAS: Das 13:00 horas do dia 23/02/2023 às 09:00 horas do dia 08/03/2023.\\n\\nABERTURA E JULGAMENTO DAS PROPOSTAS: Das 09:01 às 09:25 horas do dia 08/03/2023.\\n\\nINÍCIO DA SESSÃO DE DISPUTA DE PREÇOS: às 09:30 horas do dia 08/03/2023.\\n\\nREFERÊNCIA DE TEMPO: horário de Brasília (DF).\\n\\nLOCAL: www.bll.org.br “Acesso Identificado”\\n\\nFORMALIZAÇÃO DE CONSULTAS/ENCAMINHAMENTOS:\\n\\nEndereço: Av. Visconde de Taunay, 880\\n\\nPregoeiro(a):  Charles Metzger Ferreira\\n\\nE-mail: pregao@pontagrossa.pr.leg.br\\n\\nTelefone: (42) 3220-7100 – 3220-7151\\n\\nEDITAL DO PREGÃO ELETRÔNICO nº 01/2023\\n\\n\\nA Câmara Municipal de Ponta Grossa - Estado do Paraná torna público que no Setor Administrativo/Licitações do prédio da Câmara Municipal de Ponta Grossa, situado na Avenida Visconde de Taunay, nº 880, nesta cidade, realizar-se-á licitação sob modalidade PREGÃO ELETRÔNICO do tipo MENOR PREÇO GLOBAL, nos moldes da Lei nº 10.520/02, Decreto nº 3.555/00, Lei Complementar nº 123/06 e subsidiariamente, a Lei Federal nº 8.666/93, todas com as alterações posteriores e legislação correlata, a fim de escolher a melhor proposta do seguinte objeto:\\n\\n1. OBJETO: A presente licitação tem como objeto a contratação de empresa habilitada para fornecimento de “linha de Internet com modem grátis, que suporte download mínimo de 400 mega, upload mínimo de 200 mega com wi-fi inclusos e tecnologia e fibra óptica”, em conformidade com as especificações e detalhamentos consignados no Edital e observados as discriminações previstas no Anexo 01 - Termo de Referência.\\n\\n2. INSERÇÃO DE DOCUMENTOS:\\n\\n- As empresas interessadas em participar do pregão deverão anexar na página da BLL, os documentos solicitados no Anexo 2 do edital.\\n- Não serão aceitos documentos enviados via correio ou via e-mail. \\n- Toda documentação deverá ser digitalizada via BLL, assinados, com data e identificação do Pregão (declarações).\\n- Os documentos de habilitação jurídica, regularidade fiscal, qualificação econômica financeira e declarações, serão analisados na fase de habilitação, cabendo desclassificação já nesta fase.\\n- Documentos Técnicos, se solicitados no ANEXO 02 do edital, serão analisados pela comissão técnica informada no edital. \\n- Pregão só será adjudicado após análise de toda documentação e amostras (quando houver).\\n- A proposta final e qualquer documentação complementar que se fizer necessária, deverão ser anexadas na BLL no prazo de até 24 (vinte e quatro) horas após o término do Pregão.\\n- Obs. Os documentos anexados na página da BLL só estarão disponíveis, ao pregoeiro, após o encerramento da disputa do Pregão.\\n\\n3. COMPÕEM ESTE EDITAL OS ANEXOS:\\n\\nANEXO 01 - TERMO DE REFERÊNCIA DO OBJETO\\nANEXO 02 - EXIGÊNCIAS PARA HABILITAÇÃO\\nANEXO 03 - MODELO DE CARTA PROPOSTA COMERCIAL PARA O LICITANTE VENCEDOR\\nANEXO 04 - TERMO DE ADESÃO AO SISTEMA ELETRÔNICO DE LICITAÇÕES DA BLL\\nANEXO 05 - DECLARAÇÃO DE ENQUADRAMENTO NO REGIME DE TRIBUTAÇÃO DE ME/EPP\\nANEXO 06 – DECLARAÇÕES (Declaração de conhecimento do edital, Declaração de que não emprega menor, Declaração de idoneidade, Declaração de superveniência/fatos impeditivos, Declaração de responsabilidade, Declaração de inexistência de parentesco/não integra seu corpo social, nem em seu quadro funcional empregado público)\\nANEXO 07 - MINUTA DO CONTRATO\\n\\n\\n4.  DO PROCEDIMENTO DO PREGÃO:\\n4.1. O Procedimento Licitatório obedecerá ao disposto na Lei nº 10.520/02, Decreto nº 10.024/19, Lei Complementar nº 123/06 e subsidiariamente, a Lei nº 8.666/93, todas com as alterações posteriores e nas demais legislações aplicáveis.\\n4.1.1.\\xa0As normas disciplinadoras desta licitação serão interpretadas em favor da ampliação da disputa, respeitada a igualdade de oportunidade entre os licitantes, desde que não comprometam o interesse público, a finalidade e a segurança da contratação.\\n4.2. As fases, decisões e resultados desta licitação serão divulgados no Diário Oficial do Município.\\n4.3. O Pregão Eletrônico será realizado em sessão pública, por meio da INTERNET, mediante condições de segurança - criptografia e autenticação - em todas as suas fases através do Sistema de Pregão Eletrônico (licitações) da Bolsa de Licitações e Leilões.\\n4.4. Os trabalhos serão conduzidos por funcionário da Câmara Municipal de Ponta Grossa, denominado Pregoeiro, mediante a inserção e monitoramento de dados gerados ou transferidos para o aplicativo “Licitações” constante da página eletrônica da Bolsa de Licitações e Leilões (www.bll.org.br).\\n4.5. Os interessados em participar deste Pregão poderão examinar e baixar o respectivo edital no sítio da Câmara Municipal de Ponta Grossa –www.pontagrossa.pr.leg.br\\n\\n5.  RECEBIMENTO E ABERTURA DAS PROPOSTAS E DATA DO PREGÃO:\\n5.1. O fornecedor deverá observar as datas e os horários limites previstos para a abertura da proposta, atentando também para a data e horário para início da disputa.\\n\\n6.  CONDIÇÕES PARA PARTICIPAÇÃO:\\n6.1. Poderão participar desta Licitação somente as empresas pertencentes ao ramo de atividade relacionado ao objeto da licitação, conforme disposto nos respectivos atos constitutivos, que atenderem a todas as exigências, inclusive quanto à documentação, constantes deste Edital e seus anexos.\\n6.2. Poderão participar deste Pregão Eletrônico as empresas que apresentarem toda a documentação por ela exigida para respectivo cadastramento junto à Bolsa de Licitações e Leilões.\\n6.3.  Na presente licitação fica permitida a participação de empresas em consórcio nos termos do Art. 33 da Lei nº 8.666/93.\\n6.4. Não poderá participar da licitação a empresa que estiver sob falência, concordata, concurso de credores, dissolução, liquidação ou que tenha sido declarada inidônea por órgão ou entidade da administração pública direta ou indireta, federal, estadual, municipal ou Distrito Federal ou que esteja cumprindo período de suspensão no âmbito da administração municipal.\\n6.5.\\tO licitante deverá estar credenciado, de forma direta ou através de empresas associadas à Bolsa de Licitações e Leilões, até no mínimo uma hora antes do horário fixado no edital para o recebimento das propostas.\\n6.6. O cadastramento do licitante deverá ser requerido acompanhado dos seguintes documentos:\\n6.6.1. Instrumento particular de mandato outorgando à corretora associada, por meio de seu operador devidamente credenciado junto à Bolsa, poderes específicos de sua representação no pregão, conforme modelo fornecido pela Bolsa de Licitações e Leilões (ANEXO 04).\\n6.6.2. Declaração de seu pleno conhecimento, de aceitação e de atendimento às exigências de habilitação previstas no Edital, conforme modelo fornecido pela Bolsa de Licitações e Leilões (ANEXO 04).\\n6.7. A empresa participante do certame não deve ser identificada (Dec.10.024/19, Art.30, § 5º).\\n6.8. O custo de operacionalização e uso do sistema ficará a cargo do Licitante vencedor do certame, que pagará a Bolsa de Licitações e Leilões, provedora do sistema eletrônico, o equivalente ao percentual estabelecido pela mesma sobre o valor contratual ajustado, a título de taxa pela utilização dos recursos de tecnologia da informação, em conformidade com o regulamento operacional da BLL – Bolsa de Licitações e Leilões (Anexo 04).\\n6.9. A microempresa ou empresa de pequeno porte, além da apresentação da declaração constante no ANEXO 06, para fins de habilitação, deverá, quando do cadastramento da proposta inicial de preço a ser digitado no sistema, informar o seu regime de tributação para fazer valer o direito de prioridade do desempate (Arts. 44 e 45 da LC 123/06).\\n\\n7. REGULAMENTO OPERACIONAL DO CERTAME\\n7.1. O certame será conduzido pelo Pregoeiro, com o auxílio da equipe de apoio, que terá, em especial, as seguintes atribuições:\\n7.1.1. Acompanhar os trabalhos da equipe de apoio;\\n7.1.2. Responder as questões formuladas pelos fornecedores, relativas ao certame;\\n7.1.3. Abrir as propostas de preços;\\n7.1.4. Analisar a aceitabilidade das propostas;\\n7.1.5. Desclassificar propostas indicando os motivos;\\n7.1.6. Conduzir os procedimentos relativos aos lances e à escolha da proposta do lance de menor preço;\\n7.1.7. Verificar a habilitação do proponente classificado em primeiro lugar;\\n7.1.8. Declarar o vencedor;\\n7.1.9. Receber, examinar e decidir sobre a pertinência dos recursos;\\n7.1.10. Elaborar a ata da sessão;\\n7.1.11. Encaminhar o processo à autoridade superior para homologar e autorizar a contratação;\\n7.1.12. Abrir processo administrativo para apuração de irregularidades visando a aplicação de penalidades previstas na legislação.\\n\\n- CREDENCIAMENTO NO SISTEMA LICITAÇÕES DA BOLSA DE LICITAÇÕES E LEILÕES:\\n7.2. As pessoas jurídicas ou firmas individuais interessadas deverão nomear através do instrumento de mandato previsto no item 6.6.1., operador devidamente credenciado em qualquer empresa associada à Bolsa de Licitações e Leilões, atribuindo poderes para formular lances de preços e praticar todos os demais atos e operações no site: www.bll.org.br. \\n7.3. A participação do licitante no pregão eletrônico se dará por meio de participação direta ou através de empresas associadas à BLL – Bolsa de Licitações e Leilões, a qual deverá manifestar, por meio de seu operador designado, em campo próprio do sistema, pleno conhecimento, aceitação e atendimento às exigências de habilitação previstas no Edital.\\n7.4. O acesso do operador ao pregão, para efeito de encaminhamento de proposta de preço e lances sucessivos de preços, em nome do licitante, somente se dará mediante prévia definição de senha privativa.                          \\n7.5.\\tA chave de identificação e a senha dos operadores poderão ser utilizadas em qualquer pregão eletrônico, salvo quando canceladas por solicitação do credenciado ou por iniciativa da BLL - Bolsa De Licitações e Leilões.\\n7.6. É de exclusiva responsabilidade do usuário o sigilo da senha, bem como seu uso em qualquer transação efetuada diretamente ou por seu representante, não cabendo a BLL - Bolsa de Licitações e Leilões a responsabilidade por eventuais danos decorrentes de uso indevido da senha, ainda que por terceiros.\\n7.7. O credenciamento do fornecedor e de seu representante legal junto ao sistema eletrônico implica a responsabilidade legal pelos atos praticados e a presunção de capacidade técnica para realização das transações inerentes ao pregão eletrônico.\\n\\n- PARTICIPAÇÃO:\\n7.8. A participação no Pregão, na Forma Eletrônica se dará por meio da digitação da senha pessoal e intransferível do representante credenciado (operador da corretora de mercadorias) e subsequente encaminhamento da proposta de preços, exclusivamente por meio do sistema eletrônico, observados data e horário limite estabelecido. \\t\\n7.9. Caberá ao fornecedor acompanhar as operações no sistema eletrônico durante a sessão pública do pregão, ficando responsável pelo ônus decorrente da perda de negócios diante da inobservância de quaisquer mensagens emitidas pelo sistema ou da desconexão do seu representante;\\n7.10. Qualquer dúvida em relação ao acesso no sistema operacional poderá ser esclarecida ou através de uma empresa associada ou através da Bolsa de Licitações e Leilões ou pelo e-mail contato@bll.org.br.\\n\\n8. ABERTURA DAS PROPOSTAS E FORMULAÇÃO DOS LANCES\\n8.1. DISPUTA NO SISTEMA ABERTO\\n8.2. Será adotado para o envio de lances no pregão eletrônico o modo de disputa “aberto” (Dec. 10.024/19 - Art. 31, I) em que os licitantes apresentarão lances públicos e sucessivos, com prorrogações.\\n8.3. A partir do horário previsto no Edital e no sistema, terá início a sessão pública do pregão – sistema registro de preços, na forma eletrônica, com a divulgação das propostas de preços recebidas, passando o(a) Pregoeiro(a) a avaliar a aceitabilidade das propostas.\\n8.4. Aberta a etapa competitiva, os representantes dos fornecedores deverão estar conectados ao sistema para participar da sessão de lances.\\n8.4.1. A cada lance ofertado o participante será imediatamente informado de seu recebimento e respectivo horário de registro e valor.\\n8.5. A etapa de lances da sessão pública terá duração de 10 (dez) minutos e, após isso, será prorrogada automaticamente pelo sistema quando houver lance ofertado nos últimos 2 (dois) minutos do período de duração da sessão pública.\\n8.6. A prorrogação automática da etapa de lances, de que trata o item anterior, será de 2 (dois) minutos e ocorrerá sucessivamente sempre que houver lances enviados nesse período de prorrogação, inclusive no caso de lances intermediários.\\n8.7. Não havendo novos lances na forma estabelecida nos itens anteriores, a sessão pública encerrar-se-á automaticamente.\\n8.8. Encerrada a fase competitiva sem que haja a prorrogação automática pelo sistema, poderá o pregoeiro, assessorado pela equipe de apoio, justificadamente, admitir o reinício da sessão pública de lances, em prol da consecução do melhor preço, mediante justificativa (Dec. 10.024/19 - Art. 7º, parágrafo único).\\n\\n* Lote é enviado para disputa\\n* Lote ficará em disputa durante 10 minutos.\\n* Ao final dos 10 minutos, inicia-se prorrogação automática de 2 em 2 minutos.\\n\\n8.9. O intervalo mínimo de diferença de valores ou percentuais entre os lances, que incidirá tanto em relação aos lances intermediários quanto em relação à proposta que cobrir a melhor oferta deverá ser de no mínimo R$ 5,00 (cinco reais) - (Dec. 10.024/19 - Art. 31, parágrafo único).\\n8.10. O intervalo entre os lances enviados pelo mesmo licitante não poderá ser inferior a vinte (20) segundos e o intervalo entre lances não poderá ser inferior a três (3) segundos, sob pena de serem automaticamente descartados pelo sistema os respectivos lances. \\n8.11. Só serão aceitos lances cujos valores forem inferiores ao último lance que tenha sido anteriormente registrado no sistema.\\n8.12. Não serão aceitos dois ou mais lances de mesmo valor, prevalecendo aquele que for recebido e registrado em primeiro lugar.\\n8.13. As propostas não deverão estar com valores superiores ao máximo fixado no Edital (REFERENTE AO VALOR UNITÁRIO) e não havendo lances com valores iguais ou inferiores, serão desclassificados.\\n8.14. Fica a critério do(a) pregoeiro(a) a autorização da correção de lances com valores digitados errados ou situação semelhante, mesmo que antes do início da disputa de lances.\\n8.15. Durante o transcurso da sessão pública os participantes serão informados, em tempo real, do valor do menor lance registrado.\\n8.16. O sistema não identificará o autor dos lances aos demais participantes.\\n8.17. No caso de desconexão com o(a) Pregoeiro(a), no decorrer da etapa competitiva do Pregão, na Forma Eletrônica, o sistema eletrônico poderá permanecer acessível às licitantes para a recepção dos lances, retornando o(a) Pregoeiro(a), quando possível, sua atuação no certame, sem prejuízos dos atos realizados. \\n8.18. Quando a desconexão persistir por tempo superior a dez minutos, a sessão do Pregão, na Forma Eletrônica será suspensa e terá reinício somente após comunicação expressa aos operadores representantes dos participantes, através de mensagem eletrônica (e-mail) divulgando data e hora da reabertura da sessão.\\n8.19. O sistema informará a proposta de menor preço imediatamente após o encerramento da etapa de lances ou, quando for o caso, após negociação e decisão pelo(a) pregoeiro(a) acerca da aceitação do lance de menor valor.\\n8.20. A ordem de apresentação pelos licitantes é utilizada como um dos critérios de classificação, de maneira que só poderá haver empate entre propostas iguais (não seguidas de lances) ou entre lances finais da fase fechada do modo de disputa aberto e fechado.\\n8.21. Havendo eventual empate entre propostas ou lances, o critério de desempate será aquele previsto no art. 3º, § 2º, da Lei nº 8.666/93.\\n8.22. Persistindo o empate, a proposta vencedora será sorteada pelo sistema eletrônico dentre as propostas empatadas.\\n8.23. Se a proposta ou o lance de menor valor não for aceitável, ou se o fornecedor desatender às exigências habilitatórias, o(a) Pregoeiro(a) examinará a proposta ou o lance subsequente, verificando a sua compatibilidade e a habilitação do participante, na ordem de classificação, e assim sucessivamente, até a apuração de uma proposta ou lance que atenda o Edital. Também nessa etapa o(a) Pregoeiro(a) poderá negociar com o participante para que seja obtido preço melhor.\\n8.24. Caso não sejam apresentados lances, será verificada a conformidade entre a proposta de menor preço e valor estimado para a contratação.\\n\\n9. NEGOCIAÇÃO DA PROPOSTA\\n9.1. Encerrada a etapa de envio de lances da sessão pública, o pregoeiro deverá encaminhar, pelo sistema eletrônico, contraproposta ao licitante que tenha apresentado o melhor preço, para que seja obtida melhor proposta, vedada a negociação em condições diferentes das previstas neste Edital.\\n9.2. A negociação será realizada por meio do sistema, podendo ser acompanhada pelos demais licitantes.\\n9.3. O pregoeiro solicitará ao licitante melhor classificado que, no prazo de 24 (vinte e quatro) horas, envie a proposta adequada ao último lance ofertado após a negociação realizada, acompanhada, se for o caso, dos documentos complementares, quando necessários à confirmação daqueles exigidos neste Edital e já apresentados. \\n9.4. Após a negociação do preço, o Pregoeiro iniciará a fase de aceitação e julgamento da proposta.\\n9.5. Constatando o atendimento das exigências fixadas no Edital e inexistindo interposição de recursos, o objeto será adjudicado ao autor da proposta ou lance de menor preço.\\n\\n10. PROPOSTA NO SISTEMA ELETRÔNICO\\n10.1.\\tO encaminhamento de proposta para o sistema eletrônico pressupõe o pleno conhecimento e atendimento às exigências de habilitação previstas no Edital.\\n10.1.1. O Licitante será responsável por todas as transações que forem efetuadas em seu nome no sistema eletrônico, assumindo como firmes e verdadeiras suas propostas e lances.\\n10.2. No preenchimento da proposta eletrônica deverão, obrigatoriamente, ser informadas no campo próprio as ESPECIFICAÇÕES e MARCAS dos serviços e/ou produtos ofertados, conforme a ficha técnica descritiva do serviço e/ou produto. A não inserção de arquivos ou informações contendo as especificações e marcas dos serviços e/ou produtos neste campo, implicará na desclassificação da Empresa, face à ausência de informação suficiente para classificação da proposta.\\n10.3. O objeto deverá estar totalmente dentro das especificações contidas no ANEXO 01.\\n10.4.\\tÉ vedada a identificação dos proponentes licitantes no sistema, nas fichas técnicas ou documentos, em qualquer hipótese, antes do término da fase competitiva do pregão (Decreto 10.024/19 - Art. 30, § 5º).\\n\\n11. PROPOSTA ESCRITA E FORNECIMENTO\\n11.1. \\tA Empresa vencedora, deverá anexar na BLL, a Proposta de Preços escrita, com o(s) valor(es) oferecido(s) após a etapa de lances, em 01 (uma) via, rubricada em todas as folhas e a última assinada pelo Representante Legal da Empresa citado nos documentos de habilitação, em linguagem concisa, sem emendas, rasuras ou entrelinhas, contendo Razão Social, CNPJ – Cadastro Nacional de Pessoa Jurídica, Inscrição Estadual, endereço completo, número de telefone, número de agência de conta bancária, no prazo estipulado neste Edital.\\n11.2. Na proposta escrita, deverá conter:\\n11.2.1. Os valores dos impostos já deverão estar computados no valor do produto e/ou serviço ou destacados;\\n11.2.2. O prazo de validade que não poderá ser inferior a 60 (sessenta) dias, contados da abertura das propostas virtuais;\\n11.2.3. Especificação e marca completa do serviço e/ou produto oferecido com informações técnicas que possibilitem a sua completa avaliação, totalmente conforme descrito no ANEXO 01 e 03, deste Edital;\\n11.2.4. Data e assinatura do Representante Legal da proponente.\\n11.3. O objeto, rigorosamente de acordo com o ofertado nas propostas, deverá ser entregue de acordo com o especificado no Anexo 01.\\n11.4. Atendidos todos os requisitos, será considerada vencedora a licitante que oferecer o Menor Preço Global.\\n11.5. Nos preços cotados deverão estar inclusos todos os custos e demais despesas e encargos inerentes ao produto até sua entrega no local fixado por este Edital.\\n11.6. Serão desclassificadas as propostas que conflitem com as normas deste Edital ou da legislação em vigor.\\n\\n12. GARANTIA\\n12.1.\\tA garantia deverá ser conforme estipulado no Termo de Referência.\\n\\n13. CRITÉRIOS DE JULGAMENTO\\n13.1. \\tPara julgamento será adotado o critério de Menor Preço Global, observado o prazo para fornecimento, as especificações técnicas, parâmetros mínimos de desempenho e de qualidade e demais condições definidas neste Edital.\\n\\n13.2. EM ATENDIMENTO AO DISPOSTO NO CAPÍTULO V DA LEI COMPLEMENTAR Nº 123/06 e LEI COMPLEMENTAR 147/14, SERÃO OBSERVADOS OS SEGUINTES PROCEDIMENTOS:\\n13.2.1. No caso de empate de propostas apresentadas por microempresas ou empresas de pequeno porte, o sistema realizará um sorteio eletrônico entre elas para que se identifique aquela que primeiro será convocada para apresentar melhor oferta. \\n13.3. O Pregoeiro anunciará o licitante detentor da proposta ou lance de menor valor, imediatamente após o encerramento da etapa de lances da sessão pública ou, quando for o caso, após negociação e decisão pelo Pregoeiro acerca da aceitação do lance de menor valor.\\n13.4. Se a proposta ou o lance de menor valor não for aceitável, o Pregoeiro examinará a proposta ou o lance subsequente, na ordem de classificação, verificando a sua aceitabilidade e procedendo a sua habilitação.\\n13.5. Se for necessário, repetirá esse procedimento, sucessivamente, até a apuração de uma proposta ou lance que atenda ao Edital.\\n13.6. Ocorrendo a situação a que se referem os subitens 8.19 e 8.20 deste Edital, o Pregoeiro poderá negociar com a licitante para que seja obtido melhor preço.\\n13.7. Da sessão, o sistema gerará ata circunstanciada, na qual estarão registrados todos os atos do procedimento e as ocorrências relevantes.\\n\\n14. ESCLARECIMENTOS, IMPUGNAÇÃO AO EDITAL E RECURSOS\\n14.1. \\tAté 03 (três) dias úteis, antes da data fixada para recebimento das propostas, qualquer interessado poderá impugnar ou solicitar esclarecimentos em relação a este ato convocatório. \\n14.2.\\tCaberá ao pregoeiro encaminhar a petição sobre esclarecimentos e impugnações, apoiado pelo setor técnico responsável ou pela Procuradoria Jurídica, conforme o caso.\\n\\n- ESCLARECIMENTOS\\n14.3. Os pedidos de esclarecimentos, referentes ao processo licitatório, poderão ser realizados por qualquer pessoa, e deverão ser anexados na BLL.\\n14.4. Nos pedidos de esclarecimentos encaminhados, os interessados deverão se identificar (Razão Social e nome do representante que pediu esclarecimentos) e disponibilizar as informações para contato (endereço completo, telefone email).\\n14.5. Os esclarecimentos serão prestados pelo Pregoeiro, através da BLL.\\n\\n- IMPUGNAÇÕES\\n14.6.\\tQuaisquer pessoas, inclusive licitantes, poderão impugnar os termos do presente Edital em até 72 (setenta e duas) horas, antes da realização do certame, podendo manifestar na BLL, cabendo ao Pregoeiro decidir sobre a impugnação no prazo de 48 (quarenta e oito) horas, procedendo aos encaminhamentos necessários.\\n14.7.\\tAcolhida à petição contra o ato convocatório serão designadas nova data para a realização do certame. \\n14.8.\\tA petição pleiteando a impugnação deverá ser endereçada ao Pregoeiro e deverá conter a qualificação do impugnante, a matéria impugnada, os fundamentos da impugnação e o pedido.\\n14.9.\\tA petição apresentada fora do prazo, e/ou sem um dos requisitos acima especificados, não será conhecida.\\n\\n- RECURSOS\\n14.10. Ao final da sessão, o proponente que desejar recorrer contra decisões do Pregoeiro poderá fazê-lo, através do seu representante, manifestando sua intenção com registro na BLL em campo próprio, que ficara registrado em ata a síntese das suas razões, sendo-lhes facultado juntar memoriais no prazo de 03 (três) dias.\\n14.10.1. Os interessados ficam, desde logo, intimados a apresentar contrarrazões em igual número de dias, que começarão a correr do término do prazo do recorrente, sendo-lhes assegurada vista imediata dos autos.\\n14.11. A falta de manifestação imediata e motivada importará a preclusão do direito de recurso.\\n14.12. O acolhimento de recurso importará a invalidação apenas dos atos insuscetíveis de aproveitamento.\\n14.13. Os recursos deverão conter a qualificação do recorrente, a decisão recorrida, as razões do recurso, o pedido de nova decisão e já deverão ser instruídos com todos os documentos que o recorrente achar pertinente para a comprovação das suas alegações.   \\n14.14. Os recursos que forem apresentados fora do prazo ou sem algum dos requisitos acima elencados, não serão conhecidos.\\n14.14.1. O recurso somente terá eficácia se o representante legal da recorrente tiver formalizado sua intenção de recorrer na audiência de abertura deste Pregão. \\n14.14. Não serão concedidos prazos para recursos sobre assuntos meramente protelatórios ou quando não justificada a intenção de interpor o recurso pelo proponente.\\n14.16. Decididos os recursos e constatada a regularidade dos atos procedimentais, a autoridade competente homologará a adjudicação para determinar a contratação.\\n14.17. A impugnação ou o recurso interposto em desacordo com as condições deste Edital não será conhecido.\\n14.18. Na contagem dos prazos estabelecidos neste edital se excluirá o dia do início e incluir-se-á o do vencimento, e a contagem contará a partir da data do documento original devidamente protocolado.\\n14.19.  A Decisão Final e o Parecer Jurídico proveniente das impugnações e recursos será publicado no Diário Oficial do Município de Ponta Grossa - https://www.pontagrossa.pr.gov.br/diario-oficial e anexado na BLL, sendo que a contagem dos prazos legais de manifestação inicia-se a partir do dia subsequente a mesma.\\n14.20. As Impugnações e recursos deverão ser anexados na BLL, em campo próprio, dentro do prazo regulamentar, para que seja possível a publicação on-line das razões do recurso interposto e a decisão cabida a este.  \\n\\n15. HABILITAÇÃO\\n15.1. Conforme ANEXO 02. \\n\\n16. DA VALIDADE DO CONTRATO\\n16.1. O prazo de validade do contrato será de 24 (vinte e quatro) meses, contados a partir da data de publicação do extrato do contrato no Diário Oficial do Município.\\n16.2. A sua vigência poderá ser renovada por iguais e sucessivos períodos, respeitado o prazo máximo, conforme previsão do Art. 57, II da Lei 8.666/93.\\n\\n17. DO PRAZO E DAS CONDIÇÕES DE FORNECIMENTO\\n17.1. A Contratação prevista no objeto compreende o fornecimento de “linha de Internet com modem grátis, que suporte download mínimo de 400 mega, upload mínimo de 200 mega com wi-fi inclusos e tecnologia e fibra óptica” a ser entregue no Almoxarifado da Câmara Municipal de Ponta Grossa, pelo período de 24 (vinte e quatro) meses.\\n17.1.1. Face ao disposto no art. 65, § 1º, da Lei nº 8.666/93, em sua atual redação, as quantidades poderão, excepcionalmente, sofrer acréscimos ou supressões de até 25% (vinte e cinco por cento) do valor inicial constante do Contrato.\\n17.2. É facultado à Câmara Municipal de Ponta Grossa, quando não assinado o termo de contrato ou não aceito o instrumento equivalente no prazo e condições estabelecidos, convocar os licitantes remanescentes, pela ordem de classificação, para fazê-lo em igual prazo e nas mesmas condições propostas ao primeiro classificado, inclusive quanto aos preços atualizados de conformidade com o ato convocatório.\\n17.3. A Nota de Empenho será enviada por e-mail ao fornecedor, o qual deverá confirmar o recebimento no prazo de 2(dois) dias.\\n17.4. A não confirmação do recebimento ou a não retirada da Nota de Empenho no prazo previsto, bem como, a constatação da situação irregular da empresa adjudicatária quanto aos tributos e contribuições federais (certidão conjunta), estaduais, trabalhistas e fundo de garantia do tempo de serviço através de certidões atualizadas, por ocasião do empenho da despesa, implicará em suspensão de pagamento.\\n17.5. A empresa adjudicatária responsabilizar-se-á pela exatidão e qualidade do serviço prestado, no caso de não atendimento ao solicitado.\\n\\n18. CONDIÇÕES DE PAGAMENTO\\n18.1. O pagamento dos serviços objeto do presente contrato será efetuado até 20 (vinte) dias após a apresentação da nota fiscal e liquidação do setor competente.\\n18.2. O Pagamento fica condicionado à comprovação da regularidade fiscal, relativo ao mês anterior a prestação do serviço, cuja comprovação se dará mediante apresentação das respectivas certidões.\\n18.3. A contratada suportará o ônus decorrente do atraso, caso a Nota Fiscal/Fatura contenha vício ou incorreções que impossibilitem o pagamento, até que a mesma seja devidamente corrigida e adequada aos preços contratados.\\n\\n19. PENALIDADES\\n19.1. O licitante vencedor estará sujeito as penalidades previstas nas Leis nº 10.520/02 e subsidiariamente, a Lei Federal nº 8.666/93, com as alterações posteriores e legislação municipal correlata.\\n19.2. Multa de 10% (dez por cento) sobre o valor global da proposta, pela inexecução total do contrato e em caso de rescisão contratual por inadimplência da contratada.\\n19.3. Multa de 0,5% (cinco décimos por cento) sobre o valor global da proposta atualizada, por dia que exceder o prazo contratual para fornecimento do objeto.\\n19.4. Multa de 10% (dez por cento) do valor remanescente do contrato, na hipótese de inexecução parcial ou qualquer outra irregularidade não previsto neste edital.\\n19.5. As multas mencionadas nos itens 19.2.,19.3. e 19.4. serão descontados dos pagamentos a que a contratada tiver direito ou ainda judicialmente quando for o caso.\\n19.6. A Câmara Municipal de Ponta Grossa deverá acatar a oferta que se apresentar mais vantajosa pela ordem de classificação, porém, se a empresa desistir do lance ofertado, ficará impedida de participar de outros procedimentos licitatórios promovidos pela Administração Municipal, período de 02 (dois) anos.\\n19.7. A segunda empresa ofertante na ordem de classificação da proposta mais vantajosa, na hipótese do item anterior, ficará sujeita às mesmas condições estabelecidas neste Edital.\\n19.8. A aplicação das penalidades previstas neste item é de competência exclusiva do Presidente da Câmara Municipal de Ponta Grossa.\\n19.9. Multa de 2% sobre o valor da fatura no mês de atraso, juros de mora na ordem de 1% ao mês e a correção monetária pelo IGP-DI, por inadimplência do Contratante.\\n\\t\\n20.  RECURSOS FINANCEIROS\\n20.1. Os serviços efetuados, por ocasião do contrato do PREGÃO ELETRÔNICO a ser celebrado com os vencedores desta licitação, ocorrerão por conta da seguinte Dotação Orçamentária indicadas pelo Departamento de Contabilidade/Finanças:\\n\\n01.001.01.031.0001.2.001 - MANUTENÇÃO DAS ATIVIDADES DO PODER LEGISLATIVO\\n3.3.90.40.57.00 – SERVIÇO DE PROCESSAMENTO DE DADOS\\n\\n20.2. O valor máximo para o pregão é de R$ 4.179,04 (quatro mil cento e setenta e nove reais e quatro centavos).\\n\\n21. GESTOR DO CONTRATO \\n21.1. A gestão do contrato ficará a cargo do(a) Diretor(a) Geral dos Serviços Administrativos da Câmara Municipal de Ponta Grossa, que deverá acompanhar a execução do objeto contratado e prestar as informações cabíveis.\\n21.2. Após o recebimento da nota fiscal de serviços, o gestor do contrato atestará o documento e dará início aos trâmites de pagamento.\\n\\n22. FISCALIZAÇÃO e INSPEÇÂO \\n22.1. A CONTRATANTE reserva-se o direito de exercer ampla fiscalização e inspeção na contratação do serviço, objeto da licitação.\\n22.2. A fiscalização ficará a cargo de servidor especificamente designado para acompanhar e fiscalizar a execução do contrato.\\n22.3. Caberá ao fiscal do contrato acompanhar e fiscalizar a execução do contrato, anotando em registro próprio todas as ocorrências relacionadas e determinando o que for necessário à regularização de falhas ou defeitos observados.\\n22.4. A fiscalização de que trata esta cláusula não exclui nem reduz a responsabilidade da CONTRATADA, pelos danos causados ao CONTRATANTE ou a terceiros, resultantes de ação ou omissão culposa ou dolosa de quaisquer de seus empregados ou prepostos.\\n22.5. A ação ou omissão, total ou parcial, da fiscalização do CONTRANTE, não elide nem diminui a responsabilidade da CONTRATADA quanto ao cumprimento das obrigações pactuadas entre as partes, responsabilizando esta quanto a quaisquer irregularidades resultantes de imperfeições técnicas, emprego de material inadequado ou de qualidade inferior, que não implicarão corresponsabilidade do CONTRATANTE ou do servidor designado para a fiscalização.\\n\\n23. CONTRATAÇÃO \\n23.1. Após o resultado da presente licitação, observadas as condições fixadas neste edital e emissão do parecer final, fica estabelecido o prazo de 05 (cinco) dias úteis para se formalizar a adjudicação do objeto, através da assinatura do contrato junto ao Departamento Administrativo da Câmara Municipal de Ponta Grossa.\\n23.2. Quando não for possível o comparecimento na Sede da Câmara Municipal de Ponta Grossa, a formalização do contrato poderá se dar através do envio do contrato pelo Correio, contando-se o prazo fixado a partir da data de retorno do \"AR\".\\n23.3. Em caso de não atendimento ao disposto no item/subitem acima, incorrerá a empresa vencedora às penalidades cabíveis na lei de licitações, sem prejuízo das previstas no item 19.\\n23.4. Ocorrendo a hipótese prevista no subitem anterior assistirá à Câmara Municipal de Ponta Grossa, o direito de, a seu exclusivo critério, convocar as licitantes remanescentes, na ordem de classificação, para a adjudicação do objeto em igual prazo e nas mesmas condições propostas pelo primeiro colocado ou revogar a licitação.\\n23.5. Atendida a conveniência administrativa, ficam os licitantes vencedores obrigados a aceitar, nas mesmas condições contratuais ou de fornecimento, os eventuais acréscimos ou supressões, em conformidade com o Art. 65, parágrafos e incisos da Lei 8.666/93.\\n\\n24. REVOGAÇÃO E ANULAÇÃO\\n24.1. Fica assegurado à Câmara Municipal de Ponta Grossa o direito de revogar a licitação por razões de interesse público decorrente de fato superveniente devidamente comprovado ou anulá-la, em virtude de vício insanável.\\n24.2. A declaração de nulidade de algum ato do procedimento somente resultará na nulidade dos atos que diretamente dele dependam.\\n24.3. Quando da declaração de nulidade de algum ato do procedimento, a autoridade competente indicará expressamente os atos a que ela se estende.\\n24.4. A nulidade do procedimento de licitação não gera obrigação de indenizar pela Administração.\\n\\n25. DISPOSIÇÕES FINAIS\\n25.1. É facultado ao Pregoeiro ou à autoridade competente, em qualquer fase da licitação, a promoção de diligência destinada a esclarecer ou complementar a instrução do processo, vedada a inclusão posterior de documento ou informação que deveria constar do processo desde a realização da sessão pública, sempre objetivando o interesse público.\\n25.1.1. O Pregoeiro terá autonomia para resolver todos os casos omissos, dirimindo dúvidas que porventura possam surgir, assim como aceitar ou não qualquer interposição por parte dos participantes.\\n25.2. Os proponentes assumem todos os custos de preparação e apresentação de seus documentos de habilitação e a Câmara Municipal de Ponta Grossa não será, em nenhum caso, responsável por esses custos, independentemente da condução ou do resultado do processo licitatório.\\n25.3. O proponente é responsável pela fidelidade e legitimidade das informações prestadas e dos documentos apresentados em qualquer fase da licitação.\\n25.3.1. A falsidade de qualquer documento apresentado ou a inverdade das informações nele contidas implicará a imediata desclassificação do proponente que o tiver apresentado, ou, caso tenha sido o vencedor, a rescisão do contrato ou do pedido de compra, sem prejuízo das demais sanções cabíveis.\\n25.4. O proponente intimado para prestar quaisquer esclarecimentos adicionais deverá fazê-lo no prazo determinado pelo Pregoeiro, sob pena de desclassificação/inabilitação.\\n25.5. O desatendimento de exigências formais não essenciais não importará no afastamento do proponente, desde que seja possível a aferição da sua qualificação e a exata compreensão da sua proposta.\\n25.6.\\tAs normas que disciplinam este Pregão serão sempre interpretadas em favor da ampliação da disputa entre os proponentes, desde que não comprometam o interesse da Administração, a finalidade e a segurança da contratação.\\n25.7. \\tAs decisões referentes a este processo licitatório poderão ser comunicadas aos proponentes por qualquer meio de comunicação que comprove o recebimento ou, ainda, mediante publicação no Diário Oficial do Município.\\n25.8. A participação nesta licitação importa ao proponente irrestrita aceitação das condições estabelecidas no Edital do Pregão, Lei 10.520/02 e subsidiariamente na Lei 8.666/93 e legislação aplicável.\\n25.9. O Departamento de Administração da Câmara Municipal de Ponta Grossa, poderá introduzir aditamentos, modificações ou revisões no presente Edital e seus anexos, até 03 (três) dias úteis antes da data marcada para a entrega das propostas.\\n25.10. Tais aditamentos, modificações ou revisões, serão publicados no Diário Oficial do Município e na página oficial da Câmara Municipal de Ponta Grossa (https://www.pontagrossa.pr.leg.br).\\n25.11. Será possibilitada aos licitantes interessados a realização de vistoria no local onde serão executados os serviços e fornecimentos, objeto deste Edital e seus Anexos, para conhecimento das condições ambientais e técnicas, no período das 13:00 às 18:00 horas, bastando dirigir-se ao Setor Administrativo e solicitar o acompanhamento.\\n25.12. Ainda que a vistoria não seja obrigatória, os licitantes não poderão usar do argumento de não tê-la feito para justificar quaisquer falhas ou omissões em suas propostas, nem para se eximir de responsabilidades durante a vigência do contrato.\\n25.13. Os casos omissos no presente Edital serão resolvidos de acordo com a Lei 10.520/02 e a Lei Federal 8.666/93, com as alterações posteriores e legislação municipal correlata, desde que não colidentes com a legislação supracitada.\\n25.14. Subsidiariamente, serão aplicados os princípios gerais do Direito. \\n25.15. Não cabe à Bolsa de Licitações e Leilões qualquer responsabilidade pelas obrigações assumidas pelo fornecedor com o licitador, em especial com relação à forma e às condições de entrega dos bens ou da prestação de serviços e quanto à quitação financeira da negociação realizada.\\n25.16. \\tO foro designado para julgamento de quaisquer questões judiciais resultantes deste Edital será o da Comarca de Ponta Grossa, Estado do Paraná, considerado aquele a que está vinculado o Pregoeiro.\\n25.17. \\tA documentação apresentada para fins de habilitação da Empresa vencedora fará parte dos autos da licitação e não será devolvida ao proponente.\\n25.18. Maiores esclarecimentos do presente edital, poderão ser obtidos junto ao Pregoeiro, no horário das 13 às 18 horas, no prédio da Câmara Municipal de Ponta Grossa, situado na Avenida Visconde de Taunay, 880 – Ponta Grossa – PR.\\n25.19.\\tNão havendo expediente ou ocorrendo qualquer fato superveniente que impeça a realização do certame na data marcada, a sessão será automaticamente transferida para o primeiro dia útil subsequente, no mesmo horário anteriormente estabelecido, desde que não haja comunicação do Pregoeiro em contrário.\\nContato: (42) 3220-7100 - 3220-7151;\\nE-mail: pregao@pontagrossa.pr.leg.br; administra@pontagrossa.pr.leg.br\\n\\nPonta Grossa, 14 de fevereiro de 2023.\\n\\n\\nVereador FILIPE DE OLIVEIRA CHOCIAI\\nPresidente da Câmara Municipal de Ponta Grossa\\nPREGÃO ELETRÔNICO nº 01/2023\\n\\nANEXO 01 - TERMO DE REFERÊNCIA DO OBJETO\\n\\n\\n1. OBJETO:\\n1.1. A presente licitação tem como objeto a contratação de empresa habilitada para fornecimento de “linha de Internet com modem grátis, que suporte download mínimo de 400 mega, upload mínimo de 200 mega com wi-fi inclusos e tecnologia e fibra óptica”, em conformidade com as especificações e detalhamentos consignados no Edital e neste termo de referência.\\n1.2. Em caso de divergência existente entre as especificações dos itens que compõem o objeto descrito no site da BLL e as especificações constantes deste Termo, prevalecerão as últimas.\\n\\n\\n2. JUSTIFICATIVA\\n2.1. Justifica-se tal solicitação em virtude de que a internet se faz necessária para o desempenho da missão institucional, a fim de prover a comunicação com os mais diversos Órgãos Governamentais, Instituições Financeiras, e outros, além de dar continuidade às atividades legislativas e administrativas da Câmara Municipal de Ponta Grossa, em especial aos setores de manutenção, transporte e almoxarifado. \\n\\n\\n3. DESCRIÇÃO, QUANTIDADES e PREÇO MÁXIMO POR ITEM\\n\\n\\nValor Mensal Máximo: R$ 169,96 (cento e sessenta e nove reais e noventa e seis centavos).\\nValor Total Máximo para a Licitação: R$ 4.179,04 (quatro mil cento e setenta e nove reais e quatro centavos).\\n\\n\\n4. PREÇO DE REFERÊNCIA PARA O CONTRATO\\n4.1. O valor máximo estimado previsto para o contrato conforme levantamento realizado pela Diretoria Administrativa desta Casa de Leis é de R$ 4.179,04 (quatro mil cento e setenta e nove reais e quatro centavos).\\n\\n5. DAS CONDIÇÕES GERAIS\\n5.1. Fornecimento de “linha de Internet com modem grátis, que suporte download mínimo de 400 mega, upload mínimo de 200 mega com wi-fi inclusos e tecnologia e fibra óptica”.\\n5.2. O objeto licitado deverá ser instalado junto ao Prédio Anexo da Câmara, no prazo de 05 (cinco) dias a partir da solicitação, salvo outro ajustado entre as partes.\\n5.3. A conexão deverá ser de 24 horas por dia e 7 dias por semana.\\n5.4. A empresa vencedora deverá instalar e configurar o link, deixando o mesmo em total funcionamento.\\n5.5. Deverão ser disponibilizados pela contratada todos os equipamentos necessários para implementar os serviços de comunicação de dados, incluindo roteadores, equipamentos de conexão, cabos, conectores e demais itens que se fizerem necessários.\\n5.6. A Contratada deverá prestar serviço de manutenção e suporte técnico ao longo da vigência do serviço, destinado a:\\n5.6.1. Restabelecimento de serviços interrompidos ou degradados.\\n5.6.2. Solução de problemas de configuração e falhas técnicas nos serviços.\\n5.6.3. Esclarecimento de dúvidas sobre configuração e utilização dos serviços. \\n5.6.4. Implementação de novas funcionalidades.\\n5.6.5. Os serviços serão solicitados mediante abertura de chamado junto à Contratada, via chamado telefônico, e-mail ou internet, devendo o recebimento dos chamados ocorrer em período integral.\\n5.6.6. A Contratada deverá fornecer os meios (telefone, e-mail, url) para que a Contratante faça a abertura do chamado. \\n5.6.7. A Contratada deverá fornecer número de protocolo após a abertura de chamado e manter registros escritos com a descrição do chamado. \\n5.6.8. Eventual visita técnica será sem ônus para o contratante.\\n5.7. A empresa deverá possuir outorga da ANATEL.\\n5.8. O valor constante da planilha é o preço máximo admitido nesta licitação.\\n5.9. Deverá estar computado no preço ofertado todos os tributos, impostos, taxas, entrega e despesas sobre a execução do contrato, correndo tal operação única e exclusivamente por conta, risco e responsabilidade da licitante vencedora.\\n5.5. Após o resultado da presente licitação e observadas as condições fixadas neste edital, a empresa vencedora será notificada para que, no prazo máximo de 05(cinco) dias, formalize a adjudicação do objeto, através da assinatura do contrato.\\n5.6. Garantir a qualidade dos produtos fornecidos, pelo período legal.\\n5.6.1. A garantia deverá cobrir os defeitos provenientes de fabricação, ressalvados os decorrentes de mau uso.\\n5.7. O licitante vencedor deverá trocar o produto que não atender as especificações do objeto contratado no prazo de 05(cinco) dias, a contar do recebimento da solicitação.\\n\\n6. DIREITOS E OBRIGAÇÕES DA CONTRATANTE\\n6.1. Exercer a fiscalização dos serviços por servidores especialmente designados para esse fim, na forma prevista na Lei de Licitações, procedendo das respectivas faturas, com as ressalvas e/ou glosas que se fizerem necessárias, exigindo o cumprimento de todos os compromissos assumidos pela CONTRATADA, de acordo com as cláusulas contratuais, seus anexos e os termos de sua proposta, sobre os aspectos quantitativos e qualitativos, anotando em registro próprio as falhas detectadas e comunicando à CONTRATADA as ocorrências de quaisquer fatos que, a seu critério, exijam medidas corretivas por parte da CONTRATADA.\\n6.2. Proporcionar todas as facilidades para que a CONTRATADA possa cumprir suas obrigações dentro dos prazos e condições estabelecidas no contrato;\\n6.3. Efetuar o pagamento devido à CONTRATADA pela aquisição dos produtos, nos termos e prazos contratualmente previstos, após terem sido devidamente atestados pelo Fiscal do Contrato.\\n6.4. Prestar quaisquer esclarecimentos que venham a ser formalmente solicitados pela CONTRATADA e pertinente ao objeto do presente pacto.\\n6.5. Solicitar à CONTRATADA todas as providências necessárias ao bom andamento do contrato.\\n6.6. Zelar pelo bom andamento do presente contrato, esclarecendo as dúvidas porventura existentes, através da Diretoria Administrativa.\\n6.7. Aplicar as sanções administrativas, quando se fizerem necessárias.\\n\\n7. DIREITOS E OBRIGAÇÕES DA CONTRATADA\\n7.1. Entregar o objeto licitado conforme especificações deste edital, mantendo em compatibilidade com as obrigações assumidas, todas as condições de habilitação e qualificação exigidas na licitação, durante toda a execução do contrato.\\n7.2. Arcar com todos os ônus necessários à completa execução dos serviços, inclusive com a implantação e configuração dos softwares e hardwares, se for o caso, além de todas as despesas com transporte e descarga, taxas, impostos ou quaisquer outros acréscimos legais, que vierem a ocorrer, por sua conta exclusiva.\\n7.3. Garantir a qualidade dos produtos fornecidos, pelo período legal.\\n7.4. Providenciar a imediata correção das deficiências e/ou irregularidades apontadas, de qualquer natureza, pela Câmara Municipal de Ponta Grossa e cumprir integralmente as normas regulamentadoras, no prazo máximo de 5 (cinco) dias, salvo outro ajustado em comum acordo.\\n7.5. Arcar com eventuais prejuízos causados à Câmara Municipal de Ponta Grossa e/ou a terceiros, provocados por ineficiência ou irregularidade cometida na execução do contrato.\\n7.6. Comunicar ao CONTRATANTE, por escrito, qualquer anormalidade na execução e prestar todos os esclarecimentos julgados necessários.\\n7.7. Não transferir a terceiros, no todo ou em parte, a execução do presente contrato.\\n7.8. Responder pelo cumprimento dos postulados legais vigentes no âmbito federal, estadual ou municipal, bem como, ainda, assegurar os direitos e cumprimento de todas as obrigações.\\n7.9. Substituir e/ou refazer, imediatamente e sem qualquer ônus para a Contratante, o material e/ou serviço entregue em que for verificada divergência com as especificações descritas neste Termo de Referência e seus Anexos, sujeitando-se às penalidades cabíveis.\\n7.10. A empresa vencedora deverá manter o sigilo das informações fornecidas e apuradas, sob pena de responsabilidade civil, penal e administrativa, sobre todo e qualquer assunto da Contratante ou de terceiros de que tomar conhecimento em razão do objeto do contrato, devendo orientar seus empregados neste sentido.\\n\\n8. CONDIÇÕES PARA ASSINATURA DO CONTRATO\\n8.1. Fica estabelecido o prazo de 05(cinco) dias, após a publicação do resultado da presente licitação e observadas as condições fixadas neste edital, para se formalizar a adjudicação do objeto, através da assinatura do contrato junto ao Departamento Administrativo da Câmara Municipal de Ponta Grossa.\\n8.2. A contratada deverá promover a indicação do responsável, vinculado à empresa, que servirá de preposto e participará da condução dos serviços.\\n8.3. Entende-se como vinculado à empresa, o sócio, diretor, empregado registrado em carteira, profissional autônomo ou contrato entre pessoas jurídicas.\\n8.3.1. A comprovação da direção ou sociedade será feita pelo ato constitutivo; \\n8.3.2. A comprovação do vínculo como profissional autônomo ou entre pessoas jurídicas será efetuado pelo contrato de prestação de serviços.\\n\\n9. GESTOR DO CONTRATO \\n9.1. A gestão do contrato ficará a cargo do Diretor Geral dos Serviços Administrativos da Câmara Municipal de Ponta Grossa, que deverá acompanhar a execução do objeto contratado e prestar as informações cabíveis.\\n9.2. Após o recebimento da nota fiscal de serviços, o gestor do contrato atestará o documento e dará início aos trâmites de pagamento.\\n\\n10. FISCALIZAÇÃO e INSPEÇÂO \\n10.1. A CONTRATANTE reserva-se o direito de exercer ampla fiscalização e inspeção na contratação do serviço, objeto da licitação.\\n10.2. A fiscalização ficará a cargo de servidor especificamente designado para acompanhar e fiscalizar a execução do contrato.\\n10.3. Caberá ao fiscal do contrato acompanhar e fiscalizar a execução do contrato, anotando em registro próprio todas as ocorrências relacionadas e determinando o que for necessário à regularização de falhas ou defeitos observados.\\n10.4. A fiscalização de que trata esta cláusula não exclui nem reduz a responsabilidade da CONTRATADA, pelos danos causados ao CONTRATANTE ou a terceiros, resultantes de ação ou omissão culposa ou dolosa de quaisquer de seus empregados ou prepostos.\\n10.5. A ação ou omissão, total ou parcial, da fiscalização do CONTRANTE, não elide nem diminui a responsabilidade da CONTRATADA quanto ao cumprimento das obrigações pactuadas entre as partes, responsabilizando-se esta quanto a quaisquer irregularidades resultantes de imperfeições técnicas, emprego de material inadequado ou de qualidade inferior, que não implicarão corresponsabilidade do CONTRATANTE ou do servidor designado para a fiscalização.\\n\\n11. PRAZO DE EXECUÇÃO e VIGÊNCIA CONTRATUAL\\n11.1. O prazo de execução do contrato será de 24 (vinte e quatro) meses contados a partir da publicação do extrato do presente contrato no Diário Oficial do Município.\\n11.2. A sua vigência poderá ser renovada por iguais e sucessivos períodos, respeitado o prazo máximo, conforme previsão do Art. 57, II da Lei 8.666/93.\\n\\n12. FORMA DE JULGAMENTO\\n12.1. O julgamento da licitação se dará por MENOR PREÇO GLOBAL, tendo em vista que há necessidade de ser realizado por uma única contratada, pela logística Administrativa e condições vantajosas, pela economia de escala, objetivando propiciar a padronização do objeto a ser adquirido.\\n\\n13. DOTAÇÃO ORÇAMENTÁRIA\\n13.1. As dotações indicadas pelo Departamento de Contabilidade/Finanças necessárias à realização da despesa decorrente com a aquisição dos produtos e serviços, objeto desta licitação, estão consignados no Orçamento da Câmara Municipal de Ponta Grossa, assim descrito:\\n\\n01.001.01.031.0001.2.001 - MANUTENÇÃO DAS ATIVIDADES DO PODER LEGISLATIVO\\n3.3.90.40.57.00 – SERVIÇO DE PROCESSAMENTO DE DADOS\\n\\n14. FORMA DE PAGAMENTO\\n14.1. O pagamento dos serviços objeto do presente contrato será efetuado até 20 (vinte) dias após a apresentação da nota fiscal e liquidação do setor competente.\\n14.2. O pagamento será efetuado através depósito em conta previamente cadastrada junto ao Departamento Financeiro ou boleto bancário, contendo em seu corpo a descrição dos serviços com valor cobrado e demais informações pertinentes.\\n14.3. O Pagamento fica condicionado à comprovação da regularidade fiscal, cuja comprovação se dará mediante apresentação das respectivas certidões.\\n14.4. A contratada suportará o ônus decorrente do atraso, caso a Nota Fiscal/Fatura contenha vício ou incorreções que impossibilitem o pagamento, até que a mesma seja devidamente corrigida e adequada aos preços contratados.\\n\\n15. PENALIDADES\\n15.1. O licitante vencedor estará sujeito as penalidades previstas no item 19. do Edital.\\n\\nPREGÃO ELETRÔNICO nº 01/2023\\n\\nANEXO 02 - EXIGÊNCIAS PARA HABILITAÇÃO\\n\\n\\n1. INSERÇÃO DE DOCUMENTOS:\\na) As empresas interessadas em participar do pregão deverão anexar na página da BLL, os documentos solicitados nesse Anexo 2 do edital.\\nb) Não serão aceitos documentos enviados via correio ou via e-mail.\\nc) Toda documentação deverá ser digitalizada via BLL, assinados, com data e identificação do Pregão (declarações). \\nd) Os documentos de habilitação jurídica, regularidade fiscal, qualificação econômica financeira e declarações, serão analisados na fase de habilitação, cabendo desclassificação já nesta fase.\\ne) Documentos Técnicos solicitados nesse Anexo 2 do edital, serão analisados pela Comissão Técnica informada no edital.\\nf) Pregão só será adjudicado após análise de toda documentação e amostras (quando houver).\\ng) A proposta final e qualquer documentação complementar que se fizer necessária deverá ser anexada na BLL no prazo de até 24 (vinte e quatro) horas após o término do Pregão.\\n\\nObs.: Esses documentos só estarão disponíveis após o encerramento da disputa do Pregão.\\n\\n\\n2. DOCUMENTOS DE HABILITAÇÃO\\n2.1. Habilitação Jurídica\\n\\na) Prova de inscrição no Cadastro Nacional de Pessoa Jurídica – CNPJ ou no cadastro de Pessoa Física – CPF.\\nb) Ato constitutivo, estatuto ou contrato social em vigor, devidamente registrado, em se tratando de sociedades comerciais e, no caso de sociedades por ações, acompanhado de documentos de eleição de seus administradores.\\nc) Inscrição do Ato Constitutivo, no caso de sociedades civis, acompanhada de prova de diretoria em exercício.\\nd) Cédula de Identidade do sócio proprietário e/ou representante legal.\\ne) Procuração do Representante Legal (quando houver).\\n\\n2.2. Regularidade Fiscal e Trabalhista\\na) Prova de regularidade para com a Fazenda Federal, em certidão unificada, compreendendo os tributos administrados pela Secretaria da Receita Federal, Procuradoria da Fazenda Nacional e Contribuições Previdenciárias, conforme previsto na Portaria MF 358/14 e alterações.\\nb) Certificado de Regularidade de Situação com o FGTS (CRS/FGTS);\\nc) Prova de inexistência de débitos inadimplidos perante a Justiça do Trabalho, mediante a apresentação de certidão negativa, nos termos do Título VII-A da Consolidação das Leis do Trabalho, aprovada pelo Decreto-Lei nº 5.452/43. (Inciso incluído pela Lei 12.440/11).www.tst.gov.br\\nd) Prova de regularidade fiscal para com a Fazenda Estadual do domicílio ou sede da licitante, expedida pelo órgão competente;\\ne) Prova de regularidade fiscal para com a Fazenda Municipal do domicílio ou sede da licitante, expedida pelo órgão competente;\\ne.1) No caso de municípios que mantêm Cadastro Mobiliário e Imobiliário separados, deverão ser apresentados os comprovantes referentes a cada um dos cadastros;\\nf) Prova cadastral da sede do licitante (ALVARA);\\n\\n2.3.  Declaração, assinada por representante legal da proponente, de que:\\na) Se enquadra no regime de tributação de ME/EPP, para efeito do disposto na LC 123/06 e alterações posteriores, conforme modelo do ANEXO 05;\\nb) Conhece todos os termos do edital; não emprega menor e atende ao disposto no Art. 7°, inciso XXXIII da Constituição Federal (Lei 9.854 de 27/10/99); não foi declarada inidônea para licitar por nenhum órgão federal, estadual ou municipal; não há superveniência/fatos impeditivos para a habilitação da proponente; está ciente da responsabilidade administrativa, civil e penal; inexiste parentesco, não integra seu corpo social, nem em seu quadro funcional, empregado público ou membro comissionado de órgão direto ou indireto da Administração Municipal – Art. 9º, III da Lei 8.666/93, conforme modelo do ANEXO 06;\\n\\n1.4.   Qualificação Econômica-Financeira:\\na) Certidão negativa de falência e concordata, recuperação judicial expedida pelo Cartório Distribuidor da sede da pessoa jurídica proponente, contendo expresso na própria certidão o prazo de sua validade.\\n\\n1.5. Qualificação Técnica:\\na) Comprovação de aptidão de desempenho de atividade pertinente e compatível em características, quantidades e prazos com o objeto da licitação.\\n\\n1.6. Os documentos exigidos para habilitação poderão ser apresentados em original, por qualquer processo de cópia autenticada, publicação em órgão da imprensa oficial (anexados na BLL).\\n\\n1.7. O Pregoeiro reserva-se o direito de solicitar das licitantes, em qualquer tempo, no curso da licitação, quaisquer esclarecimentos sobre documentos já entregues, fixando-lhes prazo para atendimento.\\n\\n1.8. A falta de quaisquer dos documentos exigidos no Edital implicará inabilitação da licitante, sendo vedada, sob qualquer pretexto, a concessão de prazo para complementação da documentação exigida para a habilitação. \\n\\n1.9. Os documentos de habilitação deverão estar em nome da licitante, com o número do CNPJ e respectivo endereço referindo-se ao local da sede da empresa licitante.\\n1.9.1. Não se aceitará, portanto, que alguns documentos se refiram à matriz e outros à filial.\\n1.9.2. Caso o licitante seja a Matriz e a executora dos serviços seja a filial, os documentos referentes à habilitação deverão ser apresentados em nome de ambas, simultaneamente.\\n\\n1.10. Os documentos de habilitação deverão estar em plena vigência e, na hipótese de inexistência de prazo de validade expresso no documento, deverão ter sido emitidos até 60(sessenta) dias da data estabelecida para o recebimento das propostas. \\n\\n1.11. Em se tratando de microempresa ou empresa de pequeno porte, por ocasião da licitação, deverão apresentar toda a documentação exigida para efeito de comprovação fiscal, mesmo que esta apresente alguma restrição fiscal.\\n\\n1.12. Havendo alguma restrição na comprovação da regularidade fiscal, será assegurado o prazo de 5(cinco) dias úteis, cujo termo inicial corresponderá ao momento em que o proponente for declarada vencedora do certame, prorrogáveis por igual período, a critério da Administração, para regularização da documentação, pagamento ou parcelamento do débito e emissão de eventuais certidões negativas ou positivas com efeito de certidão negativa, conforme § 1º do Artigo 43 da Lei 147/14, que deverão ser anexadas na BLL.\\n\\n1.13. A não regularização da documentação implicará decadência do direito à Contratação, sem prejuízo das sanções previstas no art. 81 da Lei 8.666/93, sendo facultado à Administração convocar os licitantes remanescentes, na ordem de classificação, para assinatura do contrato, ou revogar a licitação.\\n\\n1.14. É VEDADA A IDENTIFICAÇÃO DOS PROPONENTES LICITANTES NO SISTEMA, NAS FICHAS TÉCNICAS OU DOCUMENTOS, EM QUALQUER HIPÓTESE, ANTES DO TÉRMINO DA FASE COMPETITIVA DO PREGÃO.\\n\\nPREGÃO ELETRÔNICO nº 01/2023\\n\\nANEXO 03 - MODELO DE CARTA PROPOSTA COMERCIAL\\n\\n1. IDENTIFICAÇÃO DO CONCORRENTE:\\n\\nRAZÃO SOCIAL:\\nCNPJ:\\nREPRESENTANTE e CARGO:\\nCARTEIRA DE IDENTIDADE e CPF: \\nENDEREÇO:\\nTELEFONE E EMAIL:\\nAGÊNCIA e Nº DA CONTA BANCÁRIA\\n\\n2.  VALORES DA PROPOSTA DE PREÇO \\n\\n\\n\\nValor Mensal Máximo para a Licitação: R$ (valor por extenso).\\nValor Máximo admitido para a Licitação: R$ (valor por extenso).\\n\\n3. LOCAL E PRAZO DE ENTREGA\\nDe acordo com o especificado no ANEXO 01 deste Edital.\\n4. VALIDADE DA PROPOSTA COMERCIAL\\nDe no mínimo, 60 (sessenta) dias contados a partir da data da sessão pública do Pregão.\\n5.  local e data\\n6.  NOME E assinatura DO REPRESENTANTE DA EMPRESA\\nObs: A interposição de recurso suspende o prazo de validade da proposta até a decisão.\\nPREGÃO ELETRÔNICO nº 01/2023\\n\\nANEXO 04 - TERMO DE ADESÃO AO SISTEMA DE PREGÃO ELETRÔNICO DA BOLSA DE LICITAÇÕES E LEILÕES DO BRASIL E DE INTERMEDIAÇÃO DE OPERAÇÕES\\n\\n\\n\\n1. Por meio do presente Termo de Adesão, o Licitante acima qualificado manifesta sua adesão ao Regulamento do Sistema Eletrônico de Pregões Eletrônicos da Bolsa de Licitações e Leilões do Brasil, do qual declara ter pleno conhecimento, em conformidade com as disposições que seguem.\\n\\n2. São responsabilidades do Licitante:\\n2.1. Tomar conhecimento de e cumprir todos os dispositivos constantes dos editais de negócios dos quais venha a participar;\\n2.2.  Observar e cumprir a regularidade fiscal, apresentando a documentação exigida nos editais para fins de habilitação nas licitações em que for vencedor;\\n2.3. Observar a legislação pertinente, bem como o disposto nos Estatutos Sociais e nas demais normas e regulamentos expedidos pela Bolsa de Licitações e Leilões do Brasil, dos quais declara ter pleno conhecimento;\\n2.4. Designar pessoa responsável para operar o Sistema Eletrônico de Licitações, conforme Anexo I; \\n2.5. Pagar a taxa pela utilização do Sistema Eletrônico de Licitações.\\n\\n3. O Licitante reconhece que a utilização do sistema eletrônico de negociação implica o pagamento de taxas de utilização, conforme previsto no Anexo IV do Regulamento Sistema Eletrônico de Licitações da Bolsa de Licitações e Leilões do Brasil. \\n\\n4. O Licitante autoriza a Bolsa de Licitações e Leilões a expedir boleto de cobrança bancária referente às taxas de utilização ora referidas, nos prazos e condições definidos no Anexo IV do Regulamento Sistema Eletrônico de Licitações da Bolsa de Licitações e Leilões.  \\n\\n5. (cláusula facultativa – para caso de uso de corretoras) O Fornecedor/Comprador outorga plenos poderes à sociedade corretora abaixo qualificada, nos termos dos Arts. 653 e seguintes do Código Civil Brasileiro, para o fim específico de credenciá-lo e representá-lo nos negócios de seu interesse realizados por meio do Sistema Eletrônico de Licitações da Bolsa de Licitações e Leilões do Brasil, podendo a sociedade corretora, para tanto:\\n5.1. Declarar que conhece e atende as condições de habilitação previstas no Edital;\\n5.2. Apresentar lance de preço;\\n5.3. Apresentar manifestação sobre os procedimentos adotados pelo pregoeiro;\\n5.4. Solicitar informações via sistema eletrônico; \\n5.5. Interpor recursos contra atos do pregoeiro;\\n5.6. Apresentar e retirar documentos;\\n5.7. Solicitar e prestar declarações e esclarecimentos;\\n5.8. Assinar documentos relativos às propostas;\\n5.9. Emitir e firmar o fechamento da operação; e\\n5.10. Praticar todos os atos em direito admitidos para o bom e fiel cumprimento do presente mandato, que não poderá ser substabelecido.\\n\\n\\n6. O presente Termo de Adesão é válido até __/__/____, podendo ser rescindido ou revogado, a qualquer tempo, pelo Licitante, mediante comunicação expressa, sem prejuízo das responsabilidades assumidas durante o prazo de vigência ou decorrentes de negócios em andamento. \\n\\nLocal e data:\\t\\n\\n\\nAssinatura: ________________________________________________________\\n\\n\\n\\n7. ANEXO AO TERMO DE ADESÃO AO SISTEMA ELETRÔNICO DE LICITAÇÕES\\nDA BOLSA DE LICITAÇÕES E LEILÕES DO BRASIL - (LICITANTE DIRETO)\\n\\n7.1. Indicação de Usuário do Sistema:\\n\\n\\n7.2. O Licitante reconhece que:\\n7.2.1. A Senha e a Chave Eletrônica de identificação do usuário para acesso ao sistema são de uso exclusivo de seu titular, não cabendo à Bolsa nenhuma responsabilidade por eventuais danos ou prejuízos decorrentes de seu uso indevido;\\n7.2.2. O cancelamento de Senha ou de Chave Eletrônica poderá ser feito pela Bolsa, mediante solicitação escrita de seu titular ou do Licitante;\\n7.2.3. A perda de Senha ou de Chave Eletrônica ou a quebra de seu sigilo deverá ser comunicada imediatamente à Bolsa, para o necessário bloqueio de acesso;\\n7.2.4. O Licitante será responsável por todas as propostas, lances de preços e transações efetuadas no sistema, por seu usuário, por sua conta e ordem, assumindo-os como firmes e verdadeiros; \\n7.2.5. O não pagamento da taxa ensejará a sua inclusão no cadastro de inadimplentes da Bolsa, no Serviço de Proteção de Credito e no SERASA.\\n\\nLocal e data: _________________________________________________\\t\\n\\nResponsável: _________________________________________________\\n\\nAssinatura: ___________________________________________________\\nPREGÃO ELETRÔNICO nº 01/2023\\n\\nANEXO 05 – DECLARAÇÃO DE ENQUADRAMENTO NO REGIME DE TRIBUTAÇÃO DE ME/EPP\\n\\n\\n\\n(Nome da empresa), CNPJ / MF nº, sediada (endereço completo), DECLARO, sob as penas da Lei, que na qualidade de proponente do procedimento licitatório instaurado pela Câmara Municipal de Ponta Grossa, que a empresa se enquadra no regime de tributação ME/EPP, para efeito do disposto na LC 123/06 e alterações posteriores.\\n\\nDeclaro estar ciente de que poderá ser realizada auditoria junto aos órgãos da Receita Federal, Estadual e Municipal, com a finalidade de comprovar a veracidade do enquadramento como ME/EPP, sendo que, uma vez constatada irregularidade, poderá ocorrer responsabilização civil, administrativa e criminal na forma da Lei Federal 12.846/13 e demais legislações pertinentes.\\n\\n(Local e Data)\\n\\n(Nome e Número da Carteira de Identidade do Declarante)\\nPREGÃO ELETRÔNICO nº 01/2023\\n\\nANEXO 06 – DECLARAÇÕES\\n\\n- DECLARAÇÃO DE ACEITAÇÃO DO EDITAL\\n\\nDeclaro, sob as penas da Lei, que na qualidade de proponente do procedimento licitatório instaurado pela Câmara Municipal de Ponta Grossa, ter conhecimento e aceitar todos os Termos do Edital, bem como, preencher todos os requisitos exigidos na Habilitação.\\n\\n- DECLARAÇÃO NÃO POSSUIR NO SEU QUADRO MENOR DE IDADE\\n\\nDeclaro, sob as penas da Lei, que na qualidade de proponente do procedimento licitatório instaurado pela Câmara Municipal de Ponta Grossa, não possuir no Quadro de Pessoal da empresa, empregados menores de 18 (dezoito) anos em trabalho noturno, perigoso ou insalubre e em qualquer trabalho, menores de 16 (dezesseis) anos, salvo na condição de aprendiz, a partir de 14 (quatorze) anos, em observância à Lei Federal nº 9854/99.\\n\\nObs. Se a empresa licitante possuir menores de 14 anos aprendizes deverá declarar essa condição.\\n\\n- DECLARAÇÃO DE INIDONEIDADE\\n\\nDeclaro, sob as penas da Lei, que na qualidade de proponente do procedimento licitatório instaurado pela Câmara Municipal de Ponta Grossa, que a empresa não foi declarada inidônea para licitar ou contratar com o Poder Público, em qualquer de suas esferas.\\n\\n- DECLARAÇÃO DE INEXISTENCIA DE FATOS IMPEDITIVOS\\n\\nDeclaro, sob as penas da Lei, que na qualidade de proponente do procedimento licitatório instaurado pela Câmara Municipal de Ponta Grossa, que até a presente data inexistem fatos impeditivos para sua habilitação no presente processo e que está ciente da obrigatoriedade de declarar ocorrências posteriores.\\n\\n- DECLARAÇÃO DE RESPONSABILIDADE\\n\\nDeclaro, sob as penas da Lei, que na qualidade de proponente do procedimento licitatório instaurado pela Câmara Municipal de Ponta Grossa, que a empresa tomou conhecimento do Edital e de todas as condições de participação na Licitação e se compromete a cumprir todos os seus termos.\\n\\n- DECLARAÇÃO DE NÃO POSSUIR EM SEU QUADRO FUNCIONARIO PUBLICO\\n\\nDeclaro, sob as penas da Lei, que na qualidade de proponente do procedimento licitatório instaurado pela Câmara Municipal de Ponta Grossa, que nenhum servidor público ou membro comissionado de órgão direto ou indireto da Administração Municipal, integra nosso quadro societário, nem funcional, sob qualquer regime de contratação.\\n\\n(Local e Data)\\n(Nome e Número da Carteira de Identidade do Declarante)\\nPREGÃO ELETRÔNICO nº 01/2023\\n\\nANEXO 07 - MINUTA DO CONTRATO\\n\\n\\nCONTRATO nº xxxx/2023\\n\\nCONTRATANTE: Câmara Municipal de Ponta Grossa, Estado do Paraná, pessoa jurídica de direito público interno, com sede na Avenida Visconde de Taunay, nº 880, Ponta Grossa/PR, inscrita no CNPJ/MF nº 77.780.138/0001-85, neste ato devidamente representado pelo Presidente, em pleno exercício de seu mandato e funções, Sr. Vereador FILIPE DE OLIVEIRA CHOCIAI, brasileiro, vereador, solteiro, domiciliado e residente no Município de Ponta Grossa/PR,  e,\\n\\nCONTRATADA: (qualificação), neste ato representada por (qualificação), à vista do resultado da Licitação na modalidade Pregão Eletrônico nº 01/2023, firmar o presente contrato, mediante as cláusulas e condições a seguir enumeradas, as quais mutuamente aceitam e outorgam, a saber:\\n\\n\\nCLÁUSULA PRIMEIRA - DO OBJETO: Constitui objeto a contratação de empresa habilitada para fornecimento de “linha de Internet com modem grátis, que suporte download mínimo de 400 mega, upload mínimo de 200 mega com wi-fi inclusos e tecnologia e fibra óptica”, pelo período de 24 (vinte e quatro) meses a partir da publicação do contrato no Diário Oficial do Município, em conformidade com as especificações e detalhamentos consignados no Edital e observados as discriminações previstas no Anexo 01 - Termo de Referência.\\n\\nCLÁUSULA SEGUNDA – DO PREÇO: O preço ofertado pela CONTRATADA, obedecida a classificação no PREGÃO ELETRÔNICO nº 01/2023, está especificado detalhadamente, na ata de julgamento de preços e na proposta comercial firmado pela CONTRATADA, ratificado por Despacho homologatório, constantes dos autos.\\n\\n§1º - O preço por lote global a ser pago pela CONTRATANTE será o constante da proposta apresentada no Pregão Eletrônico nº 01/2023 pela CONTRATADA, ou seja, no VALOR de R$ .... (...).\\n\\n§2º - No valor acima estão incluídas todas as despesas ordinárias diretas e indiretas decorrentes da execução do objeto, inclusive tributos e/ou impostos, encargos sociais, trabalhistas, previdenciários, fiscais e comerciais incidentes, taxa de administração, frete, seguro e outros necessários ao cumprimento integral do objeto da contratação.\\n\\n§3º - O CONTRATANTE não se responsabilizará por despesa que venha ser efetuada pela CONTRATADA que não tenha sido expressamente acordada no presente contrato.\\n\\nCLÁUSULA TERCEIRA – DO REEQUILÍBRIO ECONÔMICO-FINANCEIRO: O valor pactuado poderá ser revisto por acordo entre as partes, com vistas à manutenção do equilíbrio econômico-financeiro do contrato, na hipótese de sobrevirem fatos imprevisíveis ou previsíveis, porém de consequências incalculáveis, retardadores ou impeditivos da execução do ajustado, ou, ainda, em caso de força maior, caso fortuito ou fato do príncipe, configurando álea econômica extraordinária e extracontratual.\\n\\nParágrafo único - As eventuais solicitações deverão fazer-se acompanhar de comprovação de superveniência do fato imprevisível ou previsível, porém de consequências incalculáveis, bem como da demonstração analítica de seu impacto nos custos do contrato. \\n\\nCLÁUSULA QUARTA - DOTAÇÃO ORÇAMENTÁRIA: As despesas decorrentes do presente contrato correrão à conta da Dotação Orçamentária que se segue:\\n\\n01.001.01.031.0001.2.001 - MANUTENÇÃO DAS ATIVIDADES DO PODER LEGISLATIVO\\n3.3.90.40.57.00 – SERVIÇO DE PROCESSAMENTO DE DADOS\\n\\nCLÁUSULA QUINTA - DO LOCAL DE ENTREGA: O objeto licitado deverá ser entregue no Almoxarifado da Câmara Municipal de Ponta Grossa, no prazo de 05 (cinco) dias, conforme disposição no Anexo 01 do Edital e orientação do Departamento responsável, salvo se de outra forma for ajustado em comum acordo.\\n\\nCLÁUSULA SEXTA - DO RECEBIMENTO: O objeto deste contrato será recebido pela Comissão de Recebimento de Bens e Serviços e/ou Chefe do Setor de Almoxarifado, com apoio do setor administrativo, em que, a CONTRATADA assume inteira responsabilidade, pela quantidade, qualidade e conformidade do objeto contratado a ser entregue nas condições exigidas no edital, no instrumento contratual e na legislação que regulamenta a matéria.\\n\\nParágrafo único - O recebimento não exclui a responsabilidade civil pela perfeita execução do presente contrato. \\n\\nCLÁUSULA SÉTIMA - DO PRAZO DE VALIDADE DA VIGÊNCIA DO CONTRATO: O prazo de validade do contrato será de 24 (vinte e quatro) meses contados a partir da publicação do extrato do presente contrato no Diário Oficial do Município.\\n\\nParágrafo único - A sua vigência poderá ser renovada por iguais e sucessivos períodos, respeitado o prazo máximo, conforme previsão do Art. 57, II da Lei 8.666/93.\\n\\nCLÁUSULA OITAVA - DAS CONDIÇÕES DE PAGAMENTO: Os pagamentos serão efetuados pelo Departamento de Finanças da Câmara Municipal de Ponta Grossa, através da conta corrente da CONTRATADA, na Agência do Banco ....., conta bancária ....... ou boleto bancário.\\n\\n§1º - O pagamento dos serviços objeto do presente contrato será efetuado em até 20 (vinte) dias após a apresentação da nota fiscal, de acordo com o empenhado e liquidação do setor competente.\\n\\n§2º - Fica ressalvada qualquer alteração por parte do Departamento de Finanças ou da autoridade competente que couber, quanto às normas referentes ao pagamento por questões relevantes devidamente fundamentada.\\n\\nCLÁUSULA NONA - DAS OBRIGAÇÕES DA CONTRATANTE: Exercer a fiscalização dos serviços por servidores especialmente designados para esse fim, na forma prevista na Lei nº 8.666/93, procedendo das respectivas faturas, com as ressalvas e/ou glosas que se fizerem necessárias, bem como:\\n\\nI - Proporcionar todas as facilidades para que a CONTRATADA possa cumprir suas obrigações dentro dos prazos e condições estabelecidas no contrato;\\n\\nII - Efetuar o pagamento devido à CONTRATADA pelos produtos adquiridos, nos termos e prazos contratualmente previstos, após terem sido devidamente atestados pelo Fiscal do Contrato.\\n\\nCLÁUSULA DÉCIMA - DAS OBRIGAÇÕES DA CONTRATADA: Obriga-se a CONTRATADA ao cumprimento das cláusulas deste contrato, relativas ao objeto do contrato, bem como, às exigências do Edital, e:\\n\\nI - Entregar o objeto licitado conforme especificações deste edital, mantendo em compatibilidade com as obrigações assumidas, todas as condições de habilitação e qualificação exigidas na licitação, durante toda a execução do contrato.\\n\\nII - Indicar à CONTRATANTE, por escrito, em até 05 (cinco) dias após a assinatura do contrato, nome e telefones de contato dos funcionários que atenderão às requisições referentes objeto contratado.\\n\\nII - Garantir a qualidade. \\n\\nIII - Providenciar a imediata correção das deficiências e/ou irregularidades apontadas, de qualquer natureza, pela Câmara Municipal de Ponta Grossa e cumprir integralmente as normas regulamentadoras, no prazo máximo de 5(cinco) dias, salvo outro ajustado em comum acordo.\\n\\nIV - Prestar as informações e esclarecimentos solicitados pelo CONTRATANTE.\\n\\nV - Comunicar ao CONTRATANTE, por escrito, qualquer anormalidade nos itens e prestar todos os esclarecimentos julgados necessários.\\n\\nVI - Arcar com eventuais prejuízos causados à Câmara Municipal de Ponta Grossa e/ou a terceiros, provocados por ineficiência ou irregularidade cometida na execução do contrato.\\n\\nVII - Arcar com todas as despesas, taxas, impostos ou quaisquer outros acréscimos legais, que vierem a ocorrer, por sua conta exclusiva.\\n\\nVIII - Não transferir a terceiros, no todo ou em parte, a execução do presente contrato.\\n\\nIX - Substituir e/ou refazer, imediatamente e sem qualquer ônus para a Contratante, o material e/ou serviço entregue em que for verificada divergência com as especificações descritas neste Termo de Referência e seus Anexos, sujeitando-se às penalidades cabíveis.\\n\\nX - A empresa vencedora deverá manter o sigilo das informações fornecidas e apuradas, sob pena de responsabilidade civil, penal e administrativa, sobre todo e qualquer assunto da Contratante ou de terceiros de que tomar conhecimento em razão do objeto do contrato, devendo orientar seus empregados neste sentido.\\n\\nCLÁUSULA DÉCIMA PRIMEIRA - GESTÃO e FISCALIZAÇÃO: A gestão do contrato ficará a cargo do Diretor Geral dos Serviços Administrativos da Câmara Municipal de Ponta Grossa, que deverá acompanhar a execução do objeto contratado e prestar as informações cabíveis.\\n§1º - Fica designado como fiscal do contrato, o servidor ...., portador da CI/RG nº ..., CPF nº ..., para exercer a fiscalização e inspeção na contratação do serviço, objeto da licitação, devendo proceder ao registro das ocorrências, adotar as providências necessárias ao seu fiel cumprimento e apurar a ocorrência de quaisquer circunstâncias que versem acerca do inadimplemento contratual e cometimento de outros atos ilícitos.\\n\\n§2º - As decisões e providências que ultrapassarem a competência do Departamento Administrativo deverão ser solicitadas à autoridade superior, em tempo hábil, para a adoção das medidas convenientes.\\n\\nCLÁUSULA DÉCIMA SEGUNDA – DO TERMO CONTRATUAL: As obrigações decorrentes deste Contrato têm características e geram efeitos contratuais, em estrita observância aos princípios gerais do direto e às normas contempladas em nossa legislação vigente.\\n\\n§1º - A recusa da CONTRATADA em assinar sem justificativa o contrato no prazo máximo de 05 (cinco) dias a contar de sua convocação ou de retirar a nota de Empenho equivalente, caracteriza descumprimento de obrigações, passíveis das sanções cabíveis.\\n\\n§2º - O edital do Pregão Eletrônico nº 01/2023, bem como, cópia da ata da sessão pública do Pregão, integram o presente processo, independentemente de transcrição, para que sejam dirimidas quaisquer dúvidas e ou interpretações.\\n\\nCLÁUSULA DÉCIMA TERCEIRA – DAS PENALIDADES: A CONTRATADA estará sujeita às penalidades previstas na Lei nº 10.520/02 e complementares, bem como à:\\n\\nI - Multa de 10% (dez por cento) sobre o valor global da proposta, pela inexecução total do contrato e em caso de rescisão contratual por inadimplência da contratada.\\n\\nII - Multa de 0,5% (cinco décimos) por cento, sobre o valor global do contrato, por dia que exceder o prazo contratual para fornecimento do objeto.\\n\\nIII - Multa de 10% (dez por cento) do valor remanescente do contrato, na hipótese de  inexecução  parcial ou qualquer outra irregularidade não previsto neste edital. \\n\\nIV - As multas mencionadas nos itens I, II e III, serão descontadas dos pagamentos a que a contratada tiver direito ou ainda judicialmente quando for o caso.\\n\\nV - Multa de 2% sobre o valor da fatura no mês de atraso, juros de mora na ordem de 1% ao mês e a correção monetária pelo IGP-DI, por inadimplência do Contratante.\\n\\nParágrafo único - A aplicação das penalidades previstas neste item é de competência exclusiva do Presidente da Câmara Municipal de Ponta Grossa.\\n\\nCLÁUSULA DÉCIMA QUARTA - DA RESCISÃO: O presente Contrato poderá ser rescindido, no todo ou em parte, de pleno direito: \\n\\nI - Pela Câmara Municipal de Ponta Grossa, em despacho fundamentado do seu Presidente;\\n\\nII - quando o fornecedor não cumprir as obrigações constantes deste contrato; \\n\\nIII - se o fornecedor não retirar a Nota de Empenho no prazo estabelecido e a unidade requisitante não aceitar sua justificativa;\\n\\nIV - se o fornecedor der causa à rescisão administrativa por inadimplemento de uma das cláusulas decorrentes do presente contrato;\\n\\nV - em qualquer das hipóteses de inexecução total ou parcial do contato decorrente deste contrato;\\n\\nVI - por razões de interesse público, devidamente demonstrado e justificado pela Câmara Municipal de Ponta Grossa;\\n\\nVIII - pela CONTRATADA, quando mediante solicitação por escrito, comprovar estar impossibilitada de cumprir as exigências preestabelecidas no presente contrato, com a antecedência mínima de 30 (trinta) dias, sendo facultada à Câmara Municipal de Ponta Grossa a aplicação das penalidades previstas.\\n\\nCLÁUSULA DÉCIMA QUINTA - DISPOSIÇÕES FINAIS: Esta licitação é regida nos moldes da Lei nº 10.520/02, Decreto nº 10.024/19, Lei Complementar nº 123/06 e subsidiariamente, a Lei Federal nº 8.666/93, todas com as alterações posteriores e legislação correlata.\\n\\nCLÁUSULA DÉCIMA SEXTA - VALORES ADICIONAIS: É vedada a cobrança de qualquer valor adicional.\\n\\nCLÁUSULA DÉCIMA SÉTIMA - ENCARGOS LEGAIS, SOCIAIS E IMPOSTO: Correrá por conta da CONTRATADA, cabendo a esta apresentar até o final do mês seguinte ao da ocorrência, cópia da quitação dos tributos em forma de relatório, sendo de sua inteira responsabilidade qualquer procedimento legal que porventura houver, referente ao material entregue; sendo a CONTRATADA obrigada a todos os encargos legais, sociais e impostos, inclusive o ISS.\\n\\nCLÁUSULA DÉCIMA OITAVA - DO FORO: As partes contratantes elegem o foro da Comarca de Ponta Grossa, para dirimir quaisquer dúvidas acerca deste instrumento.\\n\\nPor estar de acordo, assinam o presente Contrato. \\n\\nPonta Grossa, xx de xx de 2023.\\n________________________________________________________\\nVEREADOR FILIPE DE OLIVEIRA CHOCIAI\\nPresidente da Câmara Municipal de Ponta Grossa\\n_____________________________________________ \\nRepresentante legal da empresa (R.G./C.P.F.)\\nRazão Social – CNPJ\\n\\nVisto do Assessor Jurídico:___________________ \\n\\nVisto do Gestor:___________________ \\n\\t\\nVisto do Fiscal:___________________'"
      ]
     },
     "execution_count": 4,
     "metadata": {},
     "output_type": "execute_result"
    }
   ],
   "source": [
    "import docx\n",
    "\n",
    "def getText(filename):\n",
    "    doc = docx.Document(filename)\n",
    "    return '\\n'.join([p.text for p in doc.paragraphs])\n",
    "getText(r\"Files\\4119905\\1-2023-6\\1002096.docx\")"
   ]
  },
  {
   "cell_type": "code",
   "execution_count": 3,
   "metadata": {},
   "outputs": [],
   "source": [
    "cw.manual_update_file(\"2/2020/7\", 22483, \"<Ignore>\")"
   ]
  },
  {
   "cell_type": "code",
   "execution_count": 1,
   "metadata": {},
   "outputs": [
    {
     "name": "stdout",
     "output_type": "stream",
     "text": [
      "## __init__ crawlers load: oxy\n",
      "## Starting Scraping.crawlers.crawler_oxy ##\n",
      "## Starting Scraping.crawlers.crawler_base ##\n",
      "## __init__ crawlers load: base\n",
      "## __init__ crawlers load: master\n",
      "## Starting Scraping.crawlers.crawler_master ##\n"
     ]
    }
   ],
   "source": [
    "from Scraping import *\n",
    "\n",
    "cw = crawlers.CrawlerMaster(1, 'cmpg.oxy.elotech.com.br', 4119905, 'Ponta Grossa', 'PR')\n",
    "\n",
    "import nest_asyncio\n",
    "nest_asyncio.apply()"
   ]
  },
  {
   "cell_type": "code",
   "execution_count": 1,
   "metadata": {},
   "outputs": [
    {
     "name": "stderr",
     "output_type": "stream",
     "text": [
      "c:\\Users\\danie\\OneDrive\\7 - Estudos\\3 - MBA USP 2022\\6 - TCC\\Code\\GovBrProcurement\\venv\\Lib\\site-packages\\tqdm\\auto.py:21: TqdmWarning: IProgress not found. Please update jupyter and ipywidgets. See https://ipywidgets.readthedocs.io/en/stable/user_install.html\n",
      "  from .autonotebook import tqdm as notebook_tqdm\n"
     ]
    },
    {
     "name": "stdout",
     "output_type": "stream",
     "text": [
      "tensor([[[ 0.2824, -0.1887,  0.5604,  ..., -0.6297,  0.0302, -0.5707],\n",
      "         [-0.0398, -0.3057,  0.2431,  ..., -0.5420,  0.1857, -0.5775],\n",
      "         [-0.2926, -0.1957,  0.7020,  ..., -0.2843,  0.0530, -0.4304],\n",
      "         ...,\n",
      "         [ 0.0662,  0.2845,  0.1871,  ..., -0.2542, -0.2933, -0.0661],\n",
      "         [ 0.2761, -0.1657,  0.3288,  ..., -0.2102,  0.0029, -0.2009],\n",
      "         [ 0.2825, -0.1884,  0.5614,  ..., -0.6288,  0.0294, -0.5712]]])\n"
     ]
    }
   ],
   "source": [
    "import torch\n",
    "from transformers import AutoTokenizer,AutoModelForPreTraining, AutoModel\n",
    "\n",
    "model = AutoModel.from_pretrained('neuralmind/bert-base-portuguese-cased')\n",
    "tokenizer = AutoTokenizer.from_pretrained('neuralmind/bert-base-portuguese-cased', do_lower_case=False)\n",
    "input_ids = tokenizer.encode('Tinha uma pedra no meio do caminho.', return_tensors='pt')\n",
    "\n",
    "with torch.no_grad():\n",
    "    outs = model(input_ids)\n",
    "    encoded = outs[0][0, 1:-1]\n",
    "\n",
    "last_hidden_states = outs[0]\n",
    "\n",
    "# Print the output features\n",
    "print(last_hidden_states)"
   ]
  },
  {
   "cell_type": "code",
   "execution_count": 4,
   "metadata": {},
   "outputs": [
    {
     "data": {
      "text/plain": [
       "torch.Size([8, 768])"
      ]
     },
     "execution_count": 4,
     "metadata": {},
     "output_type": "execute_result"
    }
   ],
   "source": [
    "encoded.size()"
   ]
  },
  {
   "cell_type": "code",
   "execution_count": 2,
   "metadata": {},
   "outputs": [
    {
     "ename": "IntegrityError",
     "evalue": "UNIQUE constraint failed: CITYS.ibge",
     "output_type": "error",
     "traceback": [
      "\u001b[1;31m---------------------------------------------------------------------------\u001b[0m",
      "\u001b[1;31mIntegrityError\u001b[0m                            Traceback (most recent call last)",
      "Cell \u001b[1;32mIn[2], line 1\u001b[0m\n\u001b[1;32m----> 1\u001b[0m \u001b[43mcw\u001b[49m\u001b[38;5;241;43m.\u001b[39;49m\u001b[43mcreate_city\u001b[49m\u001b[43m(\u001b[49m\u001b[43m)\u001b[49m\n",
      "File \u001b[1;32mc:\\Users\\danie\\OneDrive\\7 - Estudos\\3 - MBA USP 2022\\6 - TCC\\Code\\GovBrProcurement\\Scraping\\crawlers\\crawler_base.py:32\u001b[0m, in \u001b[0;36mCrawlerBase.create_city\u001b[1;34m(self)\u001b[0m\n\u001b[0;32m     30\u001b[0m con \u001b[38;5;241m=\u001b[39m sqlite3\u001b[38;5;241m.\u001b[39mconnect(\u001b[38;5;124m\"\u001b[39m\u001b[38;5;124mscraped.db\u001b[39m\u001b[38;5;124m\"\u001b[39m, timeout\u001b[38;5;241m=\u001b[39m\u001b[38;5;241m50\u001b[39m)\n\u001b[0;32m     31\u001b[0m cursor \u001b[38;5;241m=\u001b[39m con\u001b[38;5;241m.\u001b[39mcursor()\n\u001b[1;32m---> 32\u001b[0m \u001b[43mcursor\u001b[49m\u001b[38;5;241;43m.\u001b[39;49m\u001b[43mexecute\u001b[49m\u001b[43m(\u001b[49m\u001b[43minsert\u001b[49m\u001b[43m)\u001b[49m\n\u001b[0;32m     33\u001b[0m con\u001b[38;5;241m.\u001b[39mcommit()\n\u001b[0;32m     34\u001b[0m con\u001b[38;5;241m.\u001b[39mclose()\n",
      "\u001b[1;31mIntegrityError\u001b[0m: UNIQUE constraint failed: CITYS.ibge"
     ]
    }
   ],
   "source": [
    "cw.create_city()"
   ]
  }
 ],
 "metadata": {
  "kernelspec": {
   "display_name": "venv",
   "language": "python",
   "name": "python3"
  },
  "language_info": {
   "codemirror_mode": {
    "name": "ipython",
    "version": 3
   },
   "file_extension": ".py",
   "mimetype": "text/x-python",
   "name": "python",
   "nbconvert_exporter": "python",
   "pygments_lexer": "ipython3",
   "version": "3.11.2"
  }
 },
 "nbformat": 4,
 "nbformat_minor": 2
}

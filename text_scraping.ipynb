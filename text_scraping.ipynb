{
 "cells": [
  {
   "cell_type": "markdown",
   "metadata": {},
   "source": [
    "Vamos importar os dados da biblioteca Scraping, nele foram salvos a maioria do código para obter as informações que precisamos.\n",
    "Também importamos time para registrar o tempo de execução.\n",
    "Para referência, seguem as confirgurações do sistema usado: (W10, AMD Ryzen 7 5700X, 24 GB RAM, 2 SSD's (250GB (OS), 1TB (files)), NVIDEIA GeForce RTX 3070)"
   ]
  },
  {
   "cell_type": "code",
   "execution_count": 1,
   "metadata": {},
   "outputs": [
    {
     "name": "stdout",
     "output_type": "stream",
     "text": [
      "## __init__ crawlers load: oxy\n",
      "## Starting Scraping.crawlers.crawler_oxy ##\n",
      "## Starting Scraping.crawlers.crawler_base ##\n",
      "## __init__ crawlers load: base\n",
      "## __init__ crawlers load: master\n",
      "## Starting Scraping.crawlers.crawler_master ##\n"
     ]
    }
   ],
   "source": [
    "from Scraping import *\n",
    "import time"
   ]
  },
  {
   "cell_type": "markdown",
   "metadata": {},
   "source": [
    "Com a biblioteca carregada, podemos criar a tabela, e alimentar o banco de dados com as informações mínimnas (até o momento, o código para extração foi elaborado apenas para 1 sistema, o Oxy, desenvolvido pela Elotech)."
   ]
  },
  {
   "cell_type": "code",
   "execution_count": null,
   "metadata": {},
   "outputs": [],
   "source": [
    "db = data.Database()\n",
    "db.create_tabeles()\n",
    "db.feed_main_tabeles()"
   ]
  },
  {
   "cell_type": "markdown",
   "metadata": {},
   "source": [
    "Após isso, podemos criar nossos objetos, um para cada cidade. Todas as cidades abaixo usam o sistema Oxy, (1), o campo mais importante para a correta execução do código é a \"url_base\". Ao criar o objeto, automaticamente, o banco de dados é alimentado com esta cidade.\n",
    "\"Ponta Grossa\" está comentado pois já foi executado na criação das rotinas."
   ]
  },
  {
   "cell_type": "code",
   "execution_count": 2,
   "metadata": {},
   "outputs": [],
   "source": [
    "cw_city_list = []\n",
    "#city_list.append(crawlers.CrawlerMaster(1, 'cmpg.oxy.elotech.com.br', 4119905, 'Ponta Grossa', 'PR'))\n",
    "cw_city_list.append(crawlers.CrawlerMaster(1, 'venus.maringa.pr.gov.br:8090', 4115200, 'Maringá', 'PR'))\n",
    "cw_city_list.append(crawlers.CrawlerMaster(1, 'servicos.umuarama.pr.gov.br', 4128104, 'Umuarama', 'PR'))\n",
    "cw_city_list.append(crawlers.CrawlerMaster(1, 'teresopolis.eloweb.net', 3305802, 'Teresópolis', 'RJ'))\n",
    "cw_city_list.append(crawlers.CrawlerMaster(1, 'engenheirobeltrao.oxy.elotech.com.br', 4107504, 'Engenheiro Beltrão', 'PR'))"
   ]
  },
  {
   "cell_type": "markdown",
   "metadata": {},
   "source": [
    "Agora vamos obter todo o cabeçalho das licitações para cada município da lista que criamos. Este processo pode requerer muito do servidor da prefeitura, é recomendado não executa-lo em horário comercial.\n",
    "\n",
    "Tempo de execução obtido: 3,94875 minutos para 1970 licitações."
   ]
  },
  {
   "cell_type": "code",
   "execution_count": 7,
   "metadata": {},
   "outputs": [
    {
     "name": "stdout",
     "output_type": "stream",
     "text": [
      "O município MARINGÁ, não foi processado.\n",
      "O município UMUARAMA, não foi processado.\n",
      "O município TERESÓPOLIS, não foi processado.\n",
      "1 0\n",
      "2 1\n",
      "3 2\n",
      "4 3\n",
      "5 4\n",
      "6 5\n",
      "7 6\n",
      "8 7\n",
      "9 8\n",
      "10 9\n",
      "11 10\n",
      "12 11\n",
      "13 12\n",
      "14 13\n",
      "15 14\n",
      "16 15\n",
      "17 16\n",
      "18 17\n",
      "19 18\n",
      "20 19\n",
      "O município ENGENHEIRO BELTRÃO, demorou: 3.9487501899401347 minutes\n"
     ]
    }
   ],
   "source": [
    "for cw_city in cw_city_list:\n",
    "    try:\n",
    "        start_time = time.time()\n",
    "        cw_city.get_procurements()\n",
    "        t = str(((time.time() - start_time)/60))\n",
    "        print(f\"O município {cw_city._cityhall.upper()}, demorou: {t} minutos\")\n",
    "    except:\n",
    "        print(f\"O município {cw_city._cityhall.upper()}, não foi processado.\")\n"
   ]
  },
  {
   "cell_type": "markdown",
   "metadata": {},
   "source": [
    "Como podemos ver, mesmo que o município use o mesmo sistema, não é garantido que a API de chamada será a mesma, o que acarreta em erro. Neste caso, terá que ser criado um novo crwaler para esses municípios, talvez chamado de ```crawlser_oxy_b.py```.\n",
    "Por esse motivo vamos remover as cidades que não serão configuradas agora."
   ]
  },
  {
   "cell_type": "code",
   "execution_count": 3,
   "metadata": {},
   "outputs": [],
   "source": [
    "remover = [4115200, 4128104, 3305802]\n",
    "cw_city_list = [i for i in cw_city_list if i not in remover]"
   ]
  },
  {
   "cell_type": "markdown",
   "metadata": {},
   "source": [
    "Agora vamos obter a lista de documentos anexados à essas licitações para a prefeitura que sobrou (Engenheiro Beltrão/PR).\n",
    "Devido a limitações deste notebook, vamos precisar rodar o comando ```nest_asyncio.apply()```.\n",
    "Pelo fato dessa rotina ter mais dados, a rotina de consulta das APIs foi mais otimizada, e por isso, o tempo de execução é menor.\n",
    "\n",
    "Tempo de execução obtido: 0,0688 minutos para 5531 arquivos."
   ]
  },
  {
   "cell_type": "code",
   "execution_count": 9,
   "metadata": {},
   "outputs": [
    {
     "name": "stdout",
     "output_type": "stream",
     "text": [
      "O município ENGENHEIRO BELTRÃO, demorou: 0.0688426415125529 minutos\n"
     ]
    }
   ],
   "source": [
    "import nest_asyncio\n",
    "nest_asyncio.apply()\n",
    "\n",
    "for cw_city in cw_city_list:\n",
    "    try:\n",
    "        start_time = time.time()\n",
    "        cw_city.get_file_list()\n",
    "        t = str(((time.time() - start_time)/60))\n",
    "        print(f\"O município {cw_city._cityhall.upper()}, demorou: {t} minutos\")\n",
    "    except:\n",
    "        print(f\"O município {cw_city._cityhall.upper()}, não foi processado.\")"
   ]
  },
  {
   "cell_type": "markdown",
   "metadata": {},
   "source": [
    "Com a lista de docuemntos obtidas prodemos iniciar o download dos dados.\n",
    "Caso esteja usando algum programa de Backup como OneDrive, ou Google Drive, é recomendado parar a sincronização (se a pasta do projeto estever na lista de pastas para sincronização). Seu tempo de execução vai depender muito mais da velocidade de sua internet, e da velociadade da internet da prefeitura que estiver consultando.\n",
    "\n",
    "Tempo de execução obtido: 2 horas para 5531 arquivos."
   ]
  },
  {
   "cell_type": "code",
   "execution_count": 6,
   "metadata": {},
   "outputs": [
    {
     "name": "stdout",
     "output_type": "stream",
     "text": [
      "there is 5531 files in the database\n",
      "there is 4 files to be downloaded\n",
      "the first file id is: 54120.\n",
      "O município ENGENHEIRO BELTRÃO, demorou: 4.830443402131398 minutos\n"
     ]
    }
   ],
   "source": [
    "for cw_city in cw_city_list:\n",
    "    start_time = time.time()\n",
    "    cw_city.get_all_files()\n",
    "    t = str(((time.time() - start_time)/60))\n",
    "    print(f\"O município {cw_city._cityhall.upper()}, demorou: {t} minutos\")"
   ]
  }
 ],
 "metadata": {
  "kernelspec": {
   "display_name": "venv",
   "language": "python",
   "name": "python3"
  },
  "language_info": {
   "codemirror_mode": {
    "name": "ipython",
    "version": 3
   },
   "file_extension": ".py",
   "mimetype": "text/x-python",
   "name": "python",
   "nbconvert_exporter": "python",
   "pygments_lexer": "ipython3",
   "version": "3.11.2"
  }
 },
 "nbformat": 4,
 "nbformat_minor": 2
}
